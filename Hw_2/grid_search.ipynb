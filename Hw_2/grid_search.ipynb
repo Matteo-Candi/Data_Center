{
 "cells": [
  {
   "attachments": {},
   "cell_type": "markdown",
   "metadata": {},
   "source": [
    "### Best combination to use (n_tasks = 1):\n",
    "- (43, 21) --> E[R]=366.664\n",
    "- (42, 22) --> E[R]=366.933\n",
    "- (44, 20) --> E[R]=367.364\n",
    "- (41, 23) --> E[R]=368.082\n",
    "- (45, 19) --> E[R]=368.858\n",
    "- (40, 24) --> E[R]=370.119\n",
    "- (46, 18) --> E[R]=371.571\n",
    "- (39, 25) --> E[R]=372.977\n",
    "- (47, 17) --> E[R]=375.694\n",
    "- (38, 26) --> E[R]=376.698\n",
    "- (37, 27) --> E[R]=381.397\n",
    "- (48, 16) --> E[R]=381.565\n",
    "- (36, 28) --> E[R]=386.993\n",
    "- (49, 15) --> E[R]=388.8\n",
    "- (35, 29) --> E[R]=393.46\n",
    "- (50, 14) --> E[R]=398.113\n",
    "- (34, 30) --> E[R]=400.859\n",
    "- (33, 31) --> E[R]=409.155\n",
    "- (51, 13) --> E[R]=409.944\n",
    "- (32, 32) --> E[R]=418.388\n",
    "- (52, 12) --> E[R]=424.827\n",
    "- (31, 33) --> E[R]=428.75\n",
    "- (30, 34) --> E[R]=440.225\n",
    "- (53, 11) --> E[R]=443.423\n",
    "- (29, 35) --> E[R]=453.043\n",
    "- (54, 10) --> E[R]=466.763\n",
    "- (28, 36) --> E[R]=467.237\n",
    "- (27, 37) --> E[R]=482.902\n",
    "- (55, 9) --> E[R]=495.259\n",
    "- (26, 38) --> E[R]=500.257\n",
    "- (25, 39) --> E[R]=519.557\n",
    "- (56, 8) --> E[R]=532.767\n",
    "- (24, 40) --> E[R]=540.97\n",
    "- (23, 41) --> E[R]=564.78\n",
    "- (57, 7) --> E[R]=582.096\n",
    "- (22, 42) --> E[R]=591.068\n",
    "- (21, 43) --> E[R]=620.37\n",
    "- (58, 6) --> E[R]=649.062\n",
    "- (20, 44) --> E[R]=652.882\n",
    "- (19, 45) --> E[R]=689.206\n",
    "- (18, 46) --> E[R]=730.335\n",
    "- (59, 5) --> E[R]=745.452\n",
    "- (17, 47) --> E[R]=776.319\n",
    "- (16, 48) --> E[R]=828.539\n",
    "- (15, 49) --> E[R]=888.358\n",
    "- (60, 4) --> E[R]=890.316\n",
    "- (14, 50) --> E[R]=957.632\n",
    "- (13, 51) --> E[R]=1038.315\n",
    "- (12, 52) --> E[R]=1134.181\n",
    "- (61, 3) --> E[R]=1134.286\n",
    "- (11, 53) --> E[R]=1248.387\n",
    "- (10, 54) --> E[R]=1381.777\n",
    "- (9, 55) --> E[R]=1547.176\n",
    "- (62, 2) --> E[R]=1625.759\n",
    "- (8, 56) --> E[R]=1759.634\n",
    "- (7, 57) --> E[R]=2037.555\n",
    "- (6, 58) --> E[R]=2398.936\n",
    "- (5, 59) --> E[R]=2899.503\n",
    "- (63, 1) --> E[R]=3104.999\n",
    "- (4, 60) --> E[R]=3679.877\n",
    "- (3, 61) --> E[R]=5015.806\n",
    "- (2, 62) --> E[R]=7783.105\n",
    "- (1, 63) --> E[R]=15871.723"
   ]
  },
  {
   "attachments": {},
   "cell_type": "markdown",
   "metadata": {},
   "source": [
    "### Best combination to use (n_tasks <= 2):\n",
    "- (47, 17) --> E[R]=343.744\n",
    "- (46, 18) --> E[R]=343.867\n",
    "- (48, 16) --> E[R]=344.865\n",
    "- (45, 19) --> E[R]=345.042\n",
    "- (49, 15) --> E[R]=346.957\n",
    "- (44, 20) --> E[R]=347.133\n",
    "- (43, 21) --> E[R]=349.863\n",
    "- (50, 14) --> E[R]=350.499\n",
    "- (42, 22) --> E[R]=353.392\n",
    "- (51, 13) --> E[R]=355.737\n",
    "- (41, 23) --> E[R]=357.647\n",
    "- (40, 24) --> E[R]=362.603\n",
    "- (52, 12) --> E[R]=363.045\n",
    "- (39, 25) --> E[R]=368.303\n",
    "- (53, 11) --> E[R]=372.777\n",
    "- (38, 26) --> E[R]=374.806\n",
    "- (37, 27) --> E[R]=382.1\n",
    "- (54, 10) --> E[R]=385.616\n",
    "- (36, 28) --> E[R]=390.207\n",
    "- (35, 29) --> E[R]=399.2\n",
    "- (55, 9) --> E[R]=401.767\n",
    "- (34, 30) --> E[R]=409.044\n",
    "- (33, 31) --> E[R]=419.827\n",
    "- (56, 8) --> E[R]=423.72\n",
    "- (32, 32) --> E[R]=431.579\n",
    "- (31, 33) --> E[R]=444.408\n",
    "- (57, 7) --> E[R]=453.248\n",
    "- (30, 34) --> E[R]=458.505\n",
    "- (29, 35) --> E[R]=473.978\n",
    "- (28, 36) --> E[R]=490.889\n",
    "- (58, 6) --> E[R]=494.066\n",
    "- (27, 37) --> E[R]=509.42\n",
    "- (26, 38) --> E[R]=529.796\n",
    "- (25, 39) --> E[R]=552.185\n",
    "- (59, 5) --> E[R]=553.685\n",
    "- (24, 40) --> E[R]=576.726\n",
    "- (23, 41) --> E[R]=603.797\n",
    "- (22, 42) --> E[R]=633.625\n",
    "- (60, 4) --> E[R]=644.12\n",
    "- (21, 43) --> E[R]=666.564\n",
    "- (20, 44) --> E[R]=703.185\n",
    "- (19, 45) --> E[R]=744.034\n",
    "- (18, 46) --> E[R]=789.754\n",
    "- (61, 3) --> E[R]=797.598\n",
    "- (17, 47) --> E[R]=840.894\n",
    "- (16, 48) --> E[R]=899.243\n",
    "- (15, 49) --> E[R]=966.166\n",
    "- (14, 50) --> E[R]=1043.072\n",
    "- (62, 2) --> E[R]=1108.316\n",
    "- (13, 51) --> E[R]=1132.891\n",
    "- (12, 52) --> E[R]=1239.054\n",
    "- (11, 53) --> E[R]=1365.282\n",
    "- (10, 54) --> E[R]=1512.965\n",
    "- (9, 55) --> E[R]=1694.81\n",
    "- (8, 56) --> E[R]=1926.324\n",
    "- (63, 1) --> E[R]=2046.637\n",
    "- (7, 57) --> E[R]=2228.826\n",
    "- (6, 58) --> E[R]=2625.406\n",
    "- (5, 59) --> E[R]=3176.661\n",
    "- (4, 60) --> E[R]=4033.975\n",
    "- (3, 61) --> E[R]=5501.522\n",
    "- (2, 62) --> E[R]=8501.642\n",
    "- (1, 63) --> E[R]=17307.945"
   ]
  },
  {
   "attachments": {},
   "cell_type": "markdown",
   "metadata": {},
   "source": [
    "### Best combination to use (n_tasks <= 5):\n",
    "- (51, 13) --> E[R]=438.193\n",
    "- (52, 12) --> E[R]=438.317\n",
    "- (50, 14) --> E[R]=439.719\n",
    "- (53, 11) --> E[R]=440.306\n",
    "- (49, 15) --> E[R]=442.494\n",
    "- (54, 10) --> E[R]=444.634\n",
    "- (48, 16) --> E[R]=446.345\n",
    "- (55, 9) --> E[R]=450.866\n",
    "- (47, 17) --> E[R]=450.968\n",
    "- (46, 18) --> E[R]=456.749\n",
    "- (56, 8) --> E[R]=461.067\n",
    "- (45, 19) --> E[R]=463.43\n",
    "- (44, 20) --> E[R]=470.907\n",
    "- (57, 7) --> E[R]=476.418\n",
    "- (43, 21) --> E[R]=479.046\n",
    "- (42, 22) --> E[R]=488.031\n",
    "- (41, 23) --> E[R]=497.913\n",
    "- (58, 6) --> E[R]=499.042\n",
    "- (40, 24) --> E[R]=508.665\n",
    "- (39, 25) --> E[R]=520.357\n",
    "- (38, 26) --> E[R]=532.912\n",
    "- (59, 5) --> E[R]=534.122\n",
    "- (37, 27) --> E[R]=546.502\n",
    "- (36, 28) --> E[R]=561.146\n",
    "- (35, 29) --> E[R]=576.942\n",
    "- (60, 4) --> E[R]=588.849\n",
    "- (34, 30) --> E[R]=593.982\n",
    "- (33, 31) --> E[R]=612.21\n",
    "- (32, 32) --> E[R]=631.777\n",
    "- (31, 33) --> E[R]=652.915\n",
    "- (30, 34) --> E[R]=675.752\n",
    "- (61, 3) --> E[R]=684.488\n",
    "- (29, 35) --> E[R]=700.297\n",
    "- (28, 36) --> E[R]=726.56\n",
    "- (27, 37) --> E[R]=755.187\n",
    "- (26, 38) --> E[R]=786.065\n",
    "- (25, 39) --> E[R]=819.798\n",
    "- (24, 40) --> E[R]=856.591\n",
    "- (62, 2) --> E[R]=881.84\n",
    "- (23, 41) --> E[R]=896.815\n",
    "- (22, 42) --> E[R]=940.856\n",
    "- (21, 43) --> E[R]=989.93\n",
    "- (20, 44) --> E[R]=1044.213\n",
    "- (19, 45) --> E[R]=1104.452\n",
    "- (18, 46) --> E[R]=1171.638\n",
    "- (17, 47) --> E[R]=1247.576\n",
    "- (16, 48) --> E[R]=1333.981\n",
    "- (15, 49) --> E[R]=1431.588\n",
    "- (63, 1) --> E[R]=1484.277\n",
    "- (14, 50) --> E[R]=1543.988\n",
    "- (13, 51) --> E[R]=1672.907\n",
    "- (12, 52) --> E[R]=1824.928\n",
    "- (11, 53) --> E[R]=2003.538\n",
    "- (10, 54) --> E[R]=2215.215\n",
    "- (9, 55) --> E[R]=2475.558\n",
    "- (8, 56) --> E[R]=2803.22\n",
    "- (7, 57) --> E[R]=3229.277\n",
    "- (6, 58) --> E[R]=3798.454\n",
    "- (5, 59) --> E[R]=4601.437\n",
    "- (4, 60) --> E[R]=5825.179\n",
    "- (3, 61) --> E[R]=7872.474\n",
    "- (2, 62) --> E[R]=11966.766\n",
    "- (1, 63) --> E[R]=24156.961"
   ]
  },
  {
   "attachments": {},
   "cell_type": "markdown",
   "metadata": {},
   "source": [
    "### Best combination to use (n_tasks <= 10):\n",
    "- (56, 8) --> E[R]=571.171\n",
    "- (57, 7) --> E[R]=571.995\n",
    "- (55, 9) --> E[R]=572.71\n",
    "- (54, 10) --> E[R]=576.458\n",
    "- (58, 6) --> E[R]=577.086\n",
    "- (53, 11) --> E[R]=582.02\n",
    "- (59, 5) --> E[R]=588.519\n",
    "- (52, 12) --> E[R]=589.149\n",
    "- (51, 13) --> E[R]=597.372\n",
    "- (50, 14) --> E[R]=606.696\n",
    "- (60, 4) --> E[R]=610.757\n",
    "- (49, 15) --> E[R]=616.965\n",
    "- (48, 16) --> E[R]=628.089\n",
    "- (47, 17) --> E[R]=639.76\n",
    "- (46, 18) --> E[R]=652.423\n",
    "- (61, 3) --> E[R]=653.896\n",
    "- (45, 19) --> E[R]=665.992\n",
    "- (44, 20) --> E[R]=680.5\n",
    "- (43, 21) --> E[R]=695.997\n",
    "- (42, 22) --> E[R]=712.481\n",
    "- (41, 23) --> E[R]=730.056\n",
    "- (40, 24) --> E[R]=748.75\n",
    "- (62, 2) --> E[R]=749.481\n",
    "- (39, 25) --> E[R]=768.549\n",
    "- (38, 26) --> E[R]=789.388\n",
    "- (37, 27) --> E[R]=811.569\n",
    "- (36, 28) --> E[R]=835.13\n",
    "- (35, 29) --> E[R]=860.346\n",
    "- (34, 30) --> E[R]=887.724\n",
    "- (33, 31) --> E[R]=916.956\n",
    "- (32, 32) --> E[R]=948.388\n",
    "- (31, 33) --> E[R]=981.621\n",
    "- (30, 34) --> E[R]=1017.373\n",
    "- (63, 1) --> E[R]=1053.557\n",
    "- (29, 35) --> E[R]=1055.734\n",
    "- (28, 36) --> E[R]=1096.958\n",
    "- (27, 37) --> E[R]=1141.439\n",
    "- (26, 38) --> E[R]=1189.236\n",
    "- (25, 39) --> E[R]=1240.697\n",
    "- (24, 40) --> E[R]=1296.131\n",
    "- (23, 41) --> E[R]=1357.101\n",
    "- (22, 42) --> E[R]=1423.232\n",
    "- (21, 43) --> E[R]=1496.126\n",
    "- (20, 44) --> E[R]=1575.641\n",
    "- (19, 45) --> E[R]=1663.376\n",
    "- (18, 46) --> E[R]=1761.682\n",
    "- (17, 47) --> E[R]=1872.172\n",
    "- (16, 48) --> E[R]=1996.492\n",
    "- (15, 49) --> E[R]=2138.637\n",
    "- (14, 50) --> E[R]=2301.71\n",
    "- (13, 51) --> E[R]=2490.518\n",
    "- (12, 52) --> E[R]=2710.99\n",
    "- (11, 53) --> E[R]=2970.87\n",
    "- (10, 54) --> E[R]=3276.268\n",
    "- (9, 55) --> E[R]=3653.885\n",
    "- (8, 56) --> E[R]=4125.317\n",
    "- (7, 57) --> E[R]=4736.421\n",
    "- (6, 58) --> E[R]=5558.04\n",
    "- (5, 59) --> E[R]=6721.737\n",
    "- (4, 60) --> E[R]=8464.504\n",
    "- (3, 61) --> E[R]=11370.421\n",
    "- (2, 62) --> E[R]=17141.444\n",
    "- (1, 63) --> E[R]=34402.463"
   ]
  },
  {
   "attachments": {},
   "cell_type": "markdown",
   "metadata": {},
   "source": [
    "### Grid Search"
   ]
  },
  {
   "cell_type": "code",
   "execution_count": null,
   "metadata": {},
   "outputs": [],
   "source": [
    "class Task:\n",
    "\n",
    "    def __init__(self, job_id, task_id, ta, X, n_tasks):\n",
    "        global mu\n",
    "\n",
    "        self.jid = job_id\n",
    "        self.tid = task_id\n",
    "        self.ta = ta\n",
    "        self.X = X\n",
    "        self.n_tasks = n_tasks\n",
    "        self.end_time = self.X"
   ]
  },
  {
   "cell_type": "code",
   "execution_count": null,
   "metadata": {},
   "outputs": [],
   "source": [
    "class Server:\n",
    "\n",
    "    def __init__(self, server_id):\n",
    "        self.server_id = server_id\n",
    "        self.workload = 0\n",
    "        self.time = 0\n",
    "        self.utilization = 0\n",
    "        self.n_messages = 0\n",
    "\n",
    "\n",
    "    def compute_workload(self, task):\n",
    "        delta_time = task.ta - self.time\n",
    "        self.n_messages += 1\n",
    "\n",
    "        # Check remainig workload after delta t.\n",
    "        self.workload = max(self.workload - delta_time, 0)\n",
    "        self.time = task.ta\n",
    "        \n",
    "\n",
    "    def assign_task(self, task):\n",
    "\n",
    "        # Computing end time for the new task.\n",
    "        task.end_time += self.workload\n",
    "        \n",
    "        # Add new task time to workload.\n",
    "        self.workload += task.X\n",
    "        self.utilization += task.X\n",
    "        self.n_messages += 1"
   ]
  },
  {
   "cell_type": "code",
   "execution_count": null,
   "metadata": {},
   "outputs": [],
   "source": [
    "# How to decide to which servers assign the new task.\n",
    "def LWL(task, servers, treshold):\n",
    "    \n",
    "    min_workload = float('inf')\n",
    "    selected_server = None\n",
    "\n",
    "    if task.n_tasks < 2:\n",
    "        idx_server = min(range(treshold), key=lambda i: servers[i].workload)\n",
    "        selected_server = servers[idx_server]\n",
    "    else:\n",
    "        idx_server = min(range(treshold, 64), key=lambda i: servers[i].workload)\n",
    "        selected_server = servers[idx_server]\n",
    "\n",
    "    selected_server.assign_task(task)\n",
    "\n",
    "\n",
    "# Simulation function.\n",
    "def simulation(data, N, treshold):\n",
    "\n",
    "    global servers\n",
    "    global tasks\n",
    "\n",
    "    # Creating servers objects.\n",
    "    servers = [Server(i) for i in range(1, N+1)]\n",
    "\n",
    "    # Creating tasks object.\n",
    "    print('\\u231B Creating task objects...')\n",
    "    tasks = []\n",
    "    for index, row in tqdm(data.iterrows()):\n",
    "        jid, tid, ta, C, M, n_tasks = row.values\n",
    "        tasks.append(Task(int(jid), int(tid), float(ta), float(C*M), float(n_tasks)))\n",
    "    print('\\u2714\\uFE0F Objects created!')\n",
    "\n",
    "    # Execute dispatcher for each task.\n",
    "    print(\"\\n\\u231B Running the 'simulation'...\")\n",
    "    for task in tqdm(tasks):\n",
    "        LWL(task, servers, treshold) \n",
    "    print(\"\\u2714\\uFE0F 'Simulation' completed!\")"
   ]
  },
  {
   "cell_type": "code",
   "execution_count": null,
   "metadata": {},
   "outputs": [
    {
     "name": "stdout",
     "output_type": "stream",
     "text": [
      "---------------------------------\n",
      "--- Currently at treshold: 1 ---\n",
      "---------------------------------\n",
      "⌛ Creating task objects...\n"
     ]
    },
    {
     "name": "stderr",
     "output_type": "stream",
     "text": [
      "2329133it [01:43, 22554.99it/s]\n"
     ]
    },
    {
     "name": "stdout",
     "output_type": "stream",
     "text": [
      "✔️ Objects created!\n",
      "\n",
      "⌛ Running the 'simulation'...\n"
     ]
    },
    {
     "name": "stderr",
     "output_type": "stream",
     "text": [
      "100%|██████████| 2329133/2329133 [00:13<00:00, 175735.43it/s]\n"
     ]
    },
    {
     "name": "stdout",
     "output_type": "stream",
     "text": [
      "✔️ 'Simulation' completed!\n",
      "\n",
      "E[R] = 15871.72\n",
      "\n",
      "\n",
      "---------------------------------\n",
      "--- Currently at treshold: 2 ---\n",
      "---------------------------------\n",
      "⌛ Creating task objects...\n"
     ]
    },
    {
     "name": "stderr",
     "output_type": "stream",
     "text": [
      "2329133it [01:43, 22523.44it/s]\n"
     ]
    },
    {
     "name": "stdout",
     "output_type": "stream",
     "text": [
      "✔️ Objects created!\n",
      "\n",
      "⌛ Running the 'simulation'...\n"
     ]
    },
    {
     "name": "stderr",
     "output_type": "stream",
     "text": [
      "100%|██████████| 2329133/2329133 [00:13<00:00, 173594.75it/s]\n"
     ]
    },
    {
     "name": "stdout",
     "output_type": "stream",
     "text": [
      "✔️ 'Simulation' completed!\n",
      "\n",
      "E[R] = 7783.1\n",
      "\n",
      "\n",
      "---------------------------------\n",
      "--- Currently at treshold: 3 ---\n",
      "---------------------------------\n",
      "⌛ Creating task objects...\n"
     ]
    },
    {
     "name": "stderr",
     "output_type": "stream",
     "text": [
      "2329133it [01:42, 22680.27it/s]\n"
     ]
    },
    {
     "name": "stdout",
     "output_type": "stream",
     "text": [
      "✔️ Objects created!\n",
      "\n",
      "⌛ Running the 'simulation'...\n"
     ]
    },
    {
     "name": "stderr",
     "output_type": "stream",
     "text": [
      "100%|██████████| 2329133/2329133 [00:13<00:00, 178289.35it/s]\n"
     ]
    },
    {
     "name": "stdout",
     "output_type": "stream",
     "text": [
      "✔️ 'Simulation' completed!\n",
      "\n",
      "E[R] = 5015.81\n",
      "\n",
      "\n",
      "---------------------------------\n",
      "--- Currently at treshold: 4 ---\n",
      "---------------------------------\n",
      "⌛ Creating task objects...\n"
     ]
    },
    {
     "name": "stderr",
     "output_type": "stream",
     "text": [
      "2329133it [01:41, 22909.32it/s]\n"
     ]
    },
    {
     "name": "stdout",
     "output_type": "stream",
     "text": [
      "✔️ Objects created!\n",
      "\n",
      "⌛ Running the 'simulation'...\n"
     ]
    },
    {
     "name": "stderr",
     "output_type": "stream",
     "text": [
      "100%|██████████| 2329133/2329133 [00:13<00:00, 177184.42it/s]\n"
     ]
    },
    {
     "name": "stdout",
     "output_type": "stream",
     "text": [
      "✔️ 'Simulation' completed!\n",
      "\n",
      "E[R] = 3679.88\n",
      "\n",
      "\n",
      "---------------------------------\n",
      "--- Currently at treshold: 5 ---\n",
      "---------------------------------\n",
      "⌛ Creating task objects...\n"
     ]
    },
    {
     "name": "stderr",
     "output_type": "stream",
     "text": [
      "2329133it [01:42, 22719.61it/s]\n"
     ]
    },
    {
     "name": "stdout",
     "output_type": "stream",
     "text": [
      "✔️ Objects created!\n",
      "\n",
      "⌛ Running the 'simulation'...\n"
     ]
    },
    {
     "name": "stderr",
     "output_type": "stream",
     "text": [
      "100%|██████████| 2329133/2329133 [00:13<00:00, 178444.65it/s]\n"
     ]
    },
    {
     "name": "stdout",
     "output_type": "stream",
     "text": [
      "✔️ 'Simulation' completed!\n",
      "\n",
      "E[R] = 2899.5\n",
      "\n",
      "\n",
      "---------------------------------\n",
      "--- Currently at treshold: 6 ---\n",
      "---------------------------------\n",
      "⌛ Creating task objects...\n"
     ]
    },
    {
     "name": "stderr",
     "output_type": "stream",
     "text": [
      "2329133it [01:41, 22933.82it/s]\n"
     ]
    },
    {
     "name": "stdout",
     "output_type": "stream",
     "text": [
      "✔️ Objects created!\n",
      "\n",
      "⌛ Running the 'simulation'...\n"
     ]
    },
    {
     "name": "stderr",
     "output_type": "stream",
     "text": [
      "100%|██████████| 2329133/2329133 [00:13<00:00, 178579.07it/s]\n"
     ]
    },
    {
     "name": "stdout",
     "output_type": "stream",
     "text": [
      "✔️ 'Simulation' completed!\n",
      "\n",
      "E[R] = 2398.94\n",
      "\n",
      "\n",
      "---------------------------------\n",
      "--- Currently at treshold: 7 ---\n",
      "---------------------------------\n",
      "⌛ Creating task objects...\n"
     ]
    },
    {
     "name": "stderr",
     "output_type": "stream",
     "text": [
      "2329133it [01:43, 22496.70it/s]\n"
     ]
    },
    {
     "name": "stdout",
     "output_type": "stream",
     "text": [
      "✔️ Objects created!\n",
      "\n",
      "⌛ Running the 'simulation'...\n"
     ]
    },
    {
     "name": "stderr",
     "output_type": "stream",
     "text": [
      "100%|██████████| 2329133/2329133 [00:12<00:00, 179305.36it/s]\n"
     ]
    },
    {
     "name": "stdout",
     "output_type": "stream",
     "text": [
      "✔️ 'Simulation' completed!\n",
      "\n",
      "E[R] = 2037.55\n",
      "\n",
      "\n",
      "---------------------------------\n",
      "--- Currently at treshold: 8 ---\n",
      "---------------------------------\n",
      "⌛ Creating task objects...\n"
     ]
    },
    {
     "name": "stderr",
     "output_type": "stream",
     "text": [
      "2329133it [01:41, 23017.85it/s]\n"
     ]
    },
    {
     "name": "stdout",
     "output_type": "stream",
     "text": [
      "✔️ Objects created!\n",
      "\n",
      "⌛ Running the 'simulation'...\n"
     ]
    },
    {
     "name": "stderr",
     "output_type": "stream",
     "text": [
      "100%|██████████| 2329133/2329133 [00:12<00:00, 179482.12it/s]\n"
     ]
    },
    {
     "name": "stdout",
     "output_type": "stream",
     "text": [
      "✔️ 'Simulation' completed!\n",
      "\n",
      "E[R] = 1759.63\n",
      "\n",
      "\n",
      "---------------------------------\n",
      "--- Currently at treshold: 9 ---\n",
      "---------------------------------\n",
      "⌛ Creating task objects...\n"
     ]
    },
    {
     "name": "stderr",
     "output_type": "stream",
     "text": [
      "2329133it [01:40, 23093.38it/s]\n"
     ]
    },
    {
     "name": "stdout",
     "output_type": "stream",
     "text": [
      "✔️ Objects created!\n",
      "\n",
      "⌛ Running the 'simulation'...\n"
     ]
    },
    {
     "name": "stderr",
     "output_type": "stream",
     "text": [
      "100%|██████████| 2329133/2329133 [00:12<00:00, 180039.03it/s]\n"
     ]
    },
    {
     "name": "stdout",
     "output_type": "stream",
     "text": [
      "✔️ 'Simulation' completed!\n",
      "\n",
      "E[R] = 1547.18\n",
      "\n",
      "\n",
      "---------------------------------\n",
      "--- Currently at treshold: 10 ---\n",
      "---------------------------------\n",
      "⌛ Creating task objects...\n"
     ]
    },
    {
     "name": "stderr",
     "output_type": "stream",
     "text": [
      "2329133it [01:41, 23045.17it/s]\n"
     ]
    },
    {
     "name": "stdout",
     "output_type": "stream",
     "text": [
      "✔️ Objects created!\n",
      "\n",
      "⌛ Running the 'simulation'...\n"
     ]
    },
    {
     "name": "stderr",
     "output_type": "stream",
     "text": [
      "100%|██████████| 2329133/2329133 [00:13<00:00, 178945.03it/s]\n"
     ]
    },
    {
     "name": "stdout",
     "output_type": "stream",
     "text": [
      "✔️ 'Simulation' completed!\n",
      "\n",
      "E[R] = 1381.78\n",
      "\n",
      "\n",
      "---------------------------------\n",
      "--- Currently at treshold: 11 ---\n",
      "---------------------------------\n",
      "⌛ Creating task objects...\n"
     ]
    },
    {
     "name": "stderr",
     "output_type": "stream",
     "text": [
      "2329133it [01:40, 23155.15it/s]\n"
     ]
    },
    {
     "name": "stdout",
     "output_type": "stream",
     "text": [
      "✔️ Objects created!\n",
      "\n",
      "⌛ Running the 'simulation'...\n"
     ]
    },
    {
     "name": "stderr",
     "output_type": "stream",
     "text": [
      "100%|██████████| 2329133/2329133 [00:12<00:00, 180392.49it/s]\n"
     ]
    },
    {
     "name": "stdout",
     "output_type": "stream",
     "text": [
      "✔️ 'Simulation' completed!\n",
      "\n",
      "E[R] = 1248.39\n",
      "\n",
      "\n",
      "---------------------------------\n",
      "--- Currently at treshold: 12 ---\n",
      "---------------------------------\n",
      "⌛ Creating task objects...\n"
     ]
    },
    {
     "name": "stderr",
     "output_type": "stream",
     "text": [
      "2329133it [01:41, 23007.91it/s]\n"
     ]
    },
    {
     "name": "stdout",
     "output_type": "stream",
     "text": [
      "✔️ Objects created!\n",
      "\n",
      "⌛ Running the 'simulation'...\n"
     ]
    },
    {
     "name": "stderr",
     "output_type": "stream",
     "text": [
      "100%|██████████| 2329133/2329133 [00:13<00:00, 178246.53it/s]\n"
     ]
    },
    {
     "name": "stdout",
     "output_type": "stream",
     "text": [
      "✔️ 'Simulation' completed!\n",
      "\n",
      "E[R] = 1134.18\n",
      "\n",
      "\n",
      "---------------------------------\n",
      "--- Currently at treshold: 13 ---\n",
      "---------------------------------\n",
      "⌛ Creating task objects...\n"
     ]
    },
    {
     "name": "stderr",
     "output_type": "stream",
     "text": [
      "2329133it [01:40, 23100.92it/s]\n"
     ]
    },
    {
     "name": "stdout",
     "output_type": "stream",
     "text": [
      "✔️ Objects created!\n",
      "\n",
      "⌛ Running the 'simulation'...\n"
     ]
    },
    {
     "name": "stderr",
     "output_type": "stream",
     "text": [
      "100%|██████████| 2329133/2329133 [00:12<00:00, 181886.18it/s]\n"
     ]
    },
    {
     "name": "stdout",
     "output_type": "stream",
     "text": [
      "✔️ 'Simulation' completed!\n",
      "\n",
      "E[R] = 1038.32\n",
      "\n",
      "\n",
      "---------------------------------\n",
      "--- Currently at treshold: 14 ---\n",
      "---------------------------------\n",
      "⌛ Creating task objects...\n"
     ]
    },
    {
     "name": "stderr",
     "output_type": "stream",
     "text": [
      "2329133it [01:41, 22924.31it/s]\n"
     ]
    },
    {
     "name": "stdout",
     "output_type": "stream",
     "text": [
      "✔️ Objects created!\n",
      "\n",
      "⌛ Running the 'simulation'...\n"
     ]
    },
    {
     "name": "stderr",
     "output_type": "stream",
     "text": [
      "100%|██████████| 2329133/2329133 [00:12<00:00, 180241.42it/s]\n"
     ]
    },
    {
     "name": "stdout",
     "output_type": "stream",
     "text": [
      "✔️ 'Simulation' completed!\n",
      "\n",
      "E[R] = 957.63\n",
      "\n",
      "\n",
      "---------------------------------\n",
      "--- Currently at treshold: 15 ---\n",
      "---------------------------------\n",
      "⌛ Creating task objects...\n"
     ]
    },
    {
     "name": "stderr",
     "output_type": "stream",
     "text": [
      "2329133it [01:40, 23133.90it/s]\n"
     ]
    },
    {
     "name": "stdout",
     "output_type": "stream",
     "text": [
      "✔️ Objects created!\n",
      "\n",
      "⌛ Running the 'simulation'...\n"
     ]
    },
    {
     "name": "stderr",
     "output_type": "stream",
     "text": [
      "100%|██████████| 2329133/2329133 [00:12<00:00, 180066.25it/s]\n"
     ]
    },
    {
     "name": "stdout",
     "output_type": "stream",
     "text": [
      "✔️ 'Simulation' completed!\n",
      "\n",
      "E[R] = 888.36\n",
      "\n",
      "\n",
      "---------------------------------\n",
      "--- Currently at treshold: 16 ---\n",
      "---------------------------------\n",
      "⌛ Creating task objects...\n"
     ]
    },
    {
     "name": "stderr",
     "output_type": "stream",
     "text": [
      "2329133it [01:40, 23261.39it/s]\n"
     ]
    },
    {
     "name": "stdout",
     "output_type": "stream",
     "text": [
      "✔️ Objects created!\n",
      "\n",
      "⌛ Running the 'simulation'...\n"
     ]
    },
    {
     "name": "stderr",
     "output_type": "stream",
     "text": [
      "100%|██████████| 2329133/2329133 [00:12<00:00, 181279.85it/s]\n"
     ]
    },
    {
     "name": "stdout",
     "output_type": "stream",
     "text": [
      "✔️ 'Simulation' completed!\n",
      "\n",
      "E[R] = 828.54\n",
      "\n",
      "\n",
      "---------------------------------\n",
      "--- Currently at treshold: 17 ---\n",
      "---------------------------------\n",
      "⌛ Creating task objects...\n"
     ]
    },
    {
     "name": "stderr",
     "output_type": "stream",
     "text": [
      "2329133it [01:40, 23158.57it/s]\n"
     ]
    },
    {
     "name": "stdout",
     "output_type": "stream",
     "text": [
      "✔️ Objects created!\n",
      "\n",
      "⌛ Running the 'simulation'...\n"
     ]
    },
    {
     "name": "stderr",
     "output_type": "stream",
     "text": [
      "100%|██████████| 2329133/2329133 [00:12<00:00, 183511.90it/s]\n"
     ]
    },
    {
     "name": "stdout",
     "output_type": "stream",
     "text": [
      "✔️ 'Simulation' completed!\n",
      "\n",
      "E[R] = 776.32\n",
      "\n",
      "\n",
      "---------------------------------\n",
      "--- Currently at treshold: 18 ---\n",
      "---------------------------------\n",
      "⌛ Creating task objects...\n"
     ]
    },
    {
     "name": "stderr",
     "output_type": "stream",
     "text": [
      "2329133it [01:40, 23120.99it/s]\n"
     ]
    },
    {
     "name": "stdout",
     "output_type": "stream",
     "text": [
      "✔️ Objects created!\n",
      "\n",
      "⌛ Running the 'simulation'...\n"
     ]
    },
    {
     "name": "stderr",
     "output_type": "stream",
     "text": [
      "100%|██████████| 2329133/2329133 [00:12<00:00, 181032.37it/s]\n"
     ]
    },
    {
     "name": "stdout",
     "output_type": "stream",
     "text": [
      "✔️ 'Simulation' completed!\n",
      "\n",
      "E[R] = 730.34\n",
      "\n",
      "\n",
      "---------------------------------\n",
      "--- Currently at treshold: 19 ---\n",
      "---------------------------------\n",
      "⌛ Creating task objects...\n"
     ]
    },
    {
     "name": "stderr",
     "output_type": "stream",
     "text": [
      "2329133it [01:40, 23205.40it/s]\n"
     ]
    },
    {
     "name": "stdout",
     "output_type": "stream",
     "text": [
      "✔️ Objects created!\n",
      "\n",
      "⌛ Running the 'simulation'...\n"
     ]
    },
    {
     "name": "stderr",
     "output_type": "stream",
     "text": [
      "100%|██████████| 2329133/2329133 [00:12<00:00, 182447.53it/s]\n"
     ]
    },
    {
     "name": "stdout",
     "output_type": "stream",
     "text": [
      "✔️ 'Simulation' completed!\n",
      "\n",
      "E[R] = 689.21\n",
      "\n",
      "\n",
      "---------------------------------\n",
      "--- Currently at treshold: 20 ---\n",
      "---------------------------------\n",
      "⌛ Creating task objects...\n"
     ]
    },
    {
     "name": "stderr",
     "output_type": "stream",
     "text": [
      "2329133it [01:40, 23151.89it/s]\n"
     ]
    },
    {
     "name": "stdout",
     "output_type": "stream",
     "text": [
      "✔️ Objects created!\n",
      "\n",
      "⌛ Running the 'simulation'...\n"
     ]
    },
    {
     "name": "stderr",
     "output_type": "stream",
     "text": [
      "100%|██████████| 2329133/2329133 [00:12<00:00, 181761.51it/s]\n"
     ]
    },
    {
     "name": "stdout",
     "output_type": "stream",
     "text": [
      "✔️ 'Simulation' completed!\n",
      "\n",
      "E[R] = 652.88\n",
      "\n",
      "\n",
      "---------------------------------\n",
      "--- Currently at treshold: 21 ---\n",
      "---------------------------------\n",
      "⌛ Creating task objects...\n"
     ]
    },
    {
     "name": "stderr",
     "output_type": "stream",
     "text": [
      "2329133it [01:40, 23172.55it/s]\n"
     ]
    },
    {
     "name": "stdout",
     "output_type": "stream",
     "text": [
      "✔️ Objects created!\n",
      "\n",
      "⌛ Running the 'simulation'...\n"
     ]
    },
    {
     "name": "stderr",
     "output_type": "stream",
     "text": [
      "100%|██████████| 2329133/2329133 [00:12<00:00, 183169.27it/s]\n"
     ]
    },
    {
     "name": "stdout",
     "output_type": "stream",
     "text": [
      "✔️ 'Simulation' completed!\n",
      "\n",
      "E[R] = 620.37\n",
      "\n",
      "\n",
      "---------------------------------\n",
      "--- Currently at treshold: 22 ---\n",
      "---------------------------------\n",
      "⌛ Creating task objects...\n"
     ]
    },
    {
     "name": "stderr",
     "output_type": "stream",
     "text": [
      "2329133it [01:40, 23260.20it/s]\n"
     ]
    },
    {
     "name": "stdout",
     "output_type": "stream",
     "text": [
      "✔️ Objects created!\n",
      "\n",
      "⌛ Running the 'simulation'...\n"
     ]
    },
    {
     "name": "stderr",
     "output_type": "stream",
     "text": [
      "100%|██████████| 2329133/2329133 [00:12<00:00, 182536.08it/s]\n"
     ]
    },
    {
     "name": "stdout",
     "output_type": "stream",
     "text": [
      "✔️ 'Simulation' completed!\n",
      "\n",
      "E[R] = 591.07\n",
      "\n",
      "\n",
      "---------------------------------\n",
      "--- Currently at treshold: 23 ---\n",
      "---------------------------------\n",
      "⌛ Creating task objects...\n"
     ]
    },
    {
     "name": "stderr",
     "output_type": "stream",
     "text": [
      "2329133it [01:39, 23341.98it/s]\n"
     ]
    },
    {
     "name": "stdout",
     "output_type": "stream",
     "text": [
      "✔️ Objects created!\n",
      "\n",
      "⌛ Running the 'simulation'...\n"
     ]
    },
    {
     "name": "stderr",
     "output_type": "stream",
     "text": [
      "100%|██████████| 2329133/2329133 [00:12<00:00, 185085.06it/s]\n"
     ]
    },
    {
     "name": "stdout",
     "output_type": "stream",
     "text": [
      "✔️ 'Simulation' completed!\n",
      "\n",
      "E[R] = 564.78\n",
      "\n",
      "\n",
      "---------------------------------\n",
      "--- Currently at treshold: 24 ---\n",
      "---------------------------------\n",
      "⌛ Creating task objects...\n"
     ]
    },
    {
     "name": "stderr",
     "output_type": "stream",
     "text": [
      "2329133it [01:40, 23127.61it/s]\n"
     ]
    },
    {
     "name": "stdout",
     "output_type": "stream",
     "text": [
      "✔️ Objects created!\n",
      "\n",
      "⌛ Running the 'simulation'...\n"
     ]
    },
    {
     "name": "stderr",
     "output_type": "stream",
     "text": [
      "100%|██████████| 2329133/2329133 [00:12<00:00, 184539.05it/s]\n"
     ]
    },
    {
     "name": "stdout",
     "output_type": "stream",
     "text": [
      "✔️ 'Simulation' completed!\n",
      "\n",
      "E[R] = 540.97\n",
      "\n",
      "\n",
      "---------------------------------\n",
      "--- Currently at treshold: 25 ---\n",
      "---------------------------------\n",
      "⌛ Creating task objects...\n"
     ]
    },
    {
     "name": "stderr",
     "output_type": "stream",
     "text": [
      "2329133it [01:40, 23257.86it/s]\n"
     ]
    },
    {
     "name": "stdout",
     "output_type": "stream",
     "text": [
      "✔️ Objects created!\n",
      "\n",
      "⌛ Running the 'simulation'...\n"
     ]
    },
    {
     "name": "stderr",
     "output_type": "stream",
     "text": [
      "100%|██████████| 2329133/2329133 [00:12<00:00, 182778.02it/s]\n"
     ]
    },
    {
     "name": "stdout",
     "output_type": "stream",
     "text": [
      "✔️ 'Simulation' completed!\n",
      "\n",
      "E[R] = 519.56\n",
      "\n",
      "\n",
      "---------------------------------\n",
      "--- Currently at treshold: 26 ---\n",
      "---------------------------------\n",
      "⌛ Creating task objects...\n"
     ]
    },
    {
     "name": "stderr",
     "output_type": "stream",
     "text": [
      "2329133it [01:40, 23192.57it/s]\n"
     ]
    },
    {
     "name": "stdout",
     "output_type": "stream",
     "text": [
      "✔️ Objects created!\n",
      "\n",
      "⌛ Running the 'simulation'...\n"
     ]
    },
    {
     "name": "stderr",
     "output_type": "stream",
     "text": [
      "100%|██████████| 2329133/2329133 [00:12<00:00, 183022.23it/s]\n"
     ]
    },
    {
     "name": "stdout",
     "output_type": "stream",
     "text": [
      "✔️ 'Simulation' completed!\n",
      "\n",
      "E[R] = 500.26\n",
      "\n",
      "\n",
      "---------------------------------\n",
      "--- Currently at treshold: 27 ---\n",
      "---------------------------------\n",
      "⌛ Creating task objects...\n"
     ]
    },
    {
     "name": "stderr",
     "output_type": "stream",
     "text": [
      "2329133it [01:41, 23037.42it/s]\n"
     ]
    },
    {
     "name": "stdout",
     "output_type": "stream",
     "text": [
      "✔️ Objects created!\n",
      "\n",
      "⌛ Running the 'simulation'...\n"
     ]
    },
    {
     "name": "stderr",
     "output_type": "stream",
     "text": [
      "100%|██████████| 2329133/2329133 [00:12<00:00, 184453.99it/s]\n"
     ]
    },
    {
     "name": "stdout",
     "output_type": "stream",
     "text": [
      "✔️ 'Simulation' completed!\n",
      "\n",
      "E[R] = 482.9\n",
      "\n",
      "\n",
      "---------------------------------\n",
      "--- Currently at treshold: 28 ---\n",
      "---------------------------------\n",
      "⌛ Creating task objects...\n"
     ]
    },
    {
     "name": "stderr",
     "output_type": "stream",
     "text": [
      "2329133it [01:40, 23172.41it/s]\n"
     ]
    },
    {
     "name": "stdout",
     "output_type": "stream",
     "text": [
      "✔️ Objects created!\n",
      "\n",
      "⌛ Running the 'simulation'...\n"
     ]
    },
    {
     "name": "stderr",
     "output_type": "stream",
     "text": [
      "100%|██████████| 2329133/2329133 [00:14<00:00, 163765.80it/s]\n"
     ]
    },
    {
     "name": "stdout",
     "output_type": "stream",
     "text": [
      "✔️ 'Simulation' completed!\n",
      "\n",
      "E[R] = 467.24\n",
      "\n",
      "\n",
      "---------------------------------\n",
      "--- Currently at treshold: 29 ---\n",
      "---------------------------------\n",
      "⌛ Creating task objects...\n"
     ]
    },
    {
     "name": "stderr",
     "output_type": "stream",
     "text": [
      "2329133it [01:42, 22793.08it/s]\n"
     ]
    },
    {
     "name": "stdout",
     "output_type": "stream",
     "text": [
      "✔️ Objects created!\n",
      "\n",
      "⌛ Running the 'simulation'...\n"
     ]
    },
    {
     "name": "stderr",
     "output_type": "stream",
     "text": [
      "100%|██████████| 2329133/2329133 [00:12<00:00, 185776.66it/s]\n"
     ]
    },
    {
     "name": "stdout",
     "output_type": "stream",
     "text": [
      "✔️ 'Simulation' completed!\n",
      "\n",
      "E[R] = 453.04\n",
      "\n",
      "\n",
      "---------------------------------\n",
      "--- Currently at treshold: 30 ---\n",
      "---------------------------------\n",
      "⌛ Creating task objects...\n"
     ]
    },
    {
     "name": "stderr",
     "output_type": "stream",
     "text": [
      "2329133it [01:40, 23272.38it/s]\n"
     ]
    },
    {
     "name": "stdout",
     "output_type": "stream",
     "text": [
      "✔️ Objects created!\n",
      "\n",
      "⌛ Running the 'simulation'...\n"
     ]
    },
    {
     "name": "stderr",
     "output_type": "stream",
     "text": [
      "100%|██████████| 2329133/2329133 [00:12<00:00, 184748.69it/s]\n"
     ]
    },
    {
     "name": "stdout",
     "output_type": "stream",
     "text": [
      "✔️ 'Simulation' completed!\n",
      "\n",
      "E[R] = 440.22\n",
      "\n",
      "\n",
      "---------------------------------\n",
      "--- Currently at treshold: 31 ---\n",
      "---------------------------------\n",
      "⌛ Creating task objects...\n"
     ]
    },
    {
     "name": "stderr",
     "output_type": "stream",
     "text": [
      "2329133it [01:40, 23179.81it/s]\n"
     ]
    },
    {
     "name": "stdout",
     "output_type": "stream",
     "text": [
      "✔️ Objects created!\n",
      "\n",
      "⌛ Running the 'simulation'...\n"
     ]
    },
    {
     "name": "stderr",
     "output_type": "stream",
     "text": [
      "100%|██████████| 2329133/2329133 [00:12<00:00, 183307.29it/s]\n"
     ]
    },
    {
     "name": "stdout",
     "output_type": "stream",
     "text": [
      "✔️ 'Simulation' completed!\n",
      "\n",
      "E[R] = 428.75\n",
      "\n",
      "\n",
      "---------------------------------\n",
      "--- Currently at treshold: 32 ---\n",
      "---------------------------------\n",
      "⌛ Creating task objects...\n"
     ]
    },
    {
     "name": "stderr",
     "output_type": "stream",
     "text": [
      "2329133it [01:40, 23156.62it/s]\n"
     ]
    },
    {
     "name": "stdout",
     "output_type": "stream",
     "text": [
      "✔️ Objects created!\n",
      "\n",
      "⌛ Running the 'simulation'...\n"
     ]
    },
    {
     "name": "stderr",
     "output_type": "stream",
     "text": [
      "100%|██████████| 2329133/2329133 [00:12<00:00, 183297.34it/s]\n"
     ]
    },
    {
     "name": "stdout",
     "output_type": "stream",
     "text": [
      "✔️ 'Simulation' completed!\n",
      "\n",
      "E[R] = 418.39\n",
      "\n",
      "\n",
      "---------------------------------\n",
      "--- Currently at treshold: 33 ---\n",
      "---------------------------------\n",
      "⌛ Creating task objects...\n"
     ]
    },
    {
     "name": "stderr",
     "output_type": "stream",
     "text": [
      "2329133it [01:40, 23111.08it/s]\n"
     ]
    },
    {
     "name": "stdout",
     "output_type": "stream",
     "text": [
      "✔️ Objects created!\n",
      "\n",
      "⌛ Running the 'simulation'...\n"
     ]
    },
    {
     "name": "stderr",
     "output_type": "stream",
     "text": [
      "100%|██████████| 2329133/2329133 [00:12<00:00, 186375.79it/s]\n"
     ]
    },
    {
     "name": "stdout",
     "output_type": "stream",
     "text": [
      "✔️ 'Simulation' completed!\n",
      "\n",
      "E[R] = 409.16\n",
      "\n",
      "\n",
      "---------------------------------\n",
      "--- Currently at treshold: 34 ---\n",
      "---------------------------------\n",
      "⌛ Creating task objects...\n"
     ]
    },
    {
     "name": "stderr",
     "output_type": "stream",
     "text": [
      "2329133it [01:40, 23241.93it/s]\n"
     ]
    },
    {
     "name": "stdout",
     "output_type": "stream",
     "text": [
      "✔️ Objects created!\n",
      "\n",
      "⌛ Running the 'simulation'...\n"
     ]
    },
    {
     "name": "stderr",
     "output_type": "stream",
     "text": [
      "100%|██████████| 2329133/2329133 [00:12<00:00, 184172.07it/s]\n"
     ]
    },
    {
     "name": "stdout",
     "output_type": "stream",
     "text": [
      "✔️ 'Simulation' completed!\n",
      "\n",
      "E[R] = 400.86\n",
      "\n",
      "\n",
      "---------------------------------\n",
      "--- Currently at treshold: 35 ---\n",
      "---------------------------------\n",
      "⌛ Creating task objects...\n"
     ]
    },
    {
     "name": "stderr",
     "output_type": "stream",
     "text": [
      "2329133it [01:40, 23268.45it/s]\n"
     ]
    },
    {
     "name": "stdout",
     "output_type": "stream",
     "text": [
      "✔️ Objects created!\n",
      "\n",
      "⌛ Running the 'simulation'...\n"
     ]
    },
    {
     "name": "stderr",
     "output_type": "stream",
     "text": [
      "100%|██████████| 2329133/2329133 [00:12<00:00, 186935.80it/s]\n"
     ]
    },
    {
     "name": "stdout",
     "output_type": "stream",
     "text": [
      "✔️ 'Simulation' completed!\n",
      "\n",
      "E[R] = 393.46\n",
      "\n",
      "\n",
      "---------------------------------\n",
      "--- Currently at treshold: 36 ---\n",
      "---------------------------------\n",
      "⌛ Creating task objects...\n"
     ]
    },
    {
     "name": "stderr",
     "output_type": "stream",
     "text": [
      "2329133it [01:40, 23262.61it/s]\n"
     ]
    },
    {
     "name": "stdout",
     "output_type": "stream",
     "text": [
      "✔️ Objects created!\n",
      "\n",
      "⌛ Running the 'simulation'...\n"
     ]
    },
    {
     "name": "stderr",
     "output_type": "stream",
     "text": [
      "100%|██████████| 2329133/2329133 [00:12<00:00, 185697.15it/s]\n"
     ]
    },
    {
     "name": "stdout",
     "output_type": "stream",
     "text": [
      "✔️ 'Simulation' completed!\n",
      "\n",
      "E[R] = 386.99\n",
      "\n",
      "\n",
      "---------------------------------\n",
      "--- Currently at treshold: 37 ---\n",
      "---------------------------------\n",
      "⌛ Creating task objects...\n"
     ]
    },
    {
     "name": "stderr",
     "output_type": "stream",
     "text": [
      "2329133it [01:40, 23202.16it/s]\n"
     ]
    },
    {
     "name": "stdout",
     "output_type": "stream",
     "text": [
      "✔️ Objects created!\n",
      "\n",
      "⌛ Running the 'simulation'...\n"
     ]
    },
    {
     "name": "stderr",
     "output_type": "stream",
     "text": [
      "100%|██████████| 2329133/2329133 [00:12<00:00, 184360.88it/s]\n"
     ]
    },
    {
     "name": "stdout",
     "output_type": "stream",
     "text": [
      "✔️ 'Simulation' completed!\n",
      "\n",
      "E[R] = 381.4\n",
      "\n",
      "\n",
      "---------------------------------\n",
      "--- Currently at treshold: 38 ---\n",
      "---------------------------------\n",
      "⌛ Creating task objects...\n"
     ]
    },
    {
     "name": "stderr",
     "output_type": "stream",
     "text": [
      "2329133it [01:39, 23359.40it/s]\n"
     ]
    },
    {
     "name": "stdout",
     "output_type": "stream",
     "text": [
      "✔️ Objects created!\n",
      "\n",
      "⌛ Running the 'simulation'...\n"
     ]
    },
    {
     "name": "stderr",
     "output_type": "stream",
     "text": [
      "100%|██████████| 2329133/2329133 [00:12<00:00, 186019.84it/s]\n"
     ]
    },
    {
     "name": "stdout",
     "output_type": "stream",
     "text": [
      "✔️ 'Simulation' completed!\n",
      "\n",
      "E[R] = 376.7\n",
      "\n",
      "\n",
      "---------------------------------\n",
      "--- Currently at treshold: 39 ---\n",
      "---------------------------------\n",
      "⌛ Creating task objects...\n"
     ]
    },
    {
     "name": "stderr",
     "output_type": "stream",
     "text": [
      "2329133it [01:40, 23106.40it/s]\n"
     ]
    },
    {
     "name": "stdout",
     "output_type": "stream",
     "text": [
      "✔️ Objects created!\n",
      "\n",
      "⌛ Running the 'simulation'...\n"
     ]
    },
    {
     "name": "stderr",
     "output_type": "stream",
     "text": [
      "100%|██████████| 2329133/2329133 [00:12<00:00, 186584.68it/s]\n"
     ]
    },
    {
     "name": "stdout",
     "output_type": "stream",
     "text": [
      "✔️ 'Simulation' completed!\n",
      "\n",
      "E[R] = 372.98\n",
      "\n",
      "\n",
      "---------------------------------\n",
      "--- Currently at treshold: 40 ---\n",
      "---------------------------------\n",
      "⌛ Creating task objects...\n"
     ]
    },
    {
     "name": "stderr",
     "output_type": "stream",
     "text": [
      "2329133it [01:39, 23308.29it/s]\n"
     ]
    },
    {
     "name": "stdout",
     "output_type": "stream",
     "text": [
      "✔️ Objects created!\n",
      "\n",
      "⌛ Running the 'simulation'...\n"
     ]
    },
    {
     "name": "stderr",
     "output_type": "stream",
     "text": [
      "100%|██████████| 2329133/2329133 [00:12<00:00, 184625.25it/s]\n"
     ]
    },
    {
     "name": "stdout",
     "output_type": "stream",
     "text": [
      "✔️ 'Simulation' completed!\n",
      "\n",
      "E[R] = 370.12\n",
      "\n",
      "\n",
      "---------------------------------\n",
      "--- Currently at treshold: 41 ---\n",
      "---------------------------------\n",
      "⌛ Creating task objects...\n"
     ]
    },
    {
     "name": "stderr",
     "output_type": "stream",
     "text": [
      "2329133it [01:39, 23302.86it/s]\n"
     ]
    },
    {
     "name": "stdout",
     "output_type": "stream",
     "text": [
      "✔️ Objects created!\n",
      "\n",
      "⌛ Running the 'simulation'...\n"
     ]
    },
    {
     "name": "stderr",
     "output_type": "stream",
     "text": [
      "100%|██████████| 2329133/2329133 [00:12<00:00, 188050.38it/s]\n"
     ]
    },
    {
     "name": "stdout",
     "output_type": "stream",
     "text": [
      "✔️ 'Simulation' completed!\n",
      "\n",
      "E[R] = 368.08\n",
      "\n",
      "\n",
      "---------------------------------\n",
      "--- Currently at treshold: 42 ---\n",
      "---------------------------------\n",
      "⌛ Creating task objects...\n"
     ]
    },
    {
     "name": "stderr",
     "output_type": "stream",
     "text": [
      "2329133it [01:40, 23174.87it/s]\n"
     ]
    },
    {
     "name": "stdout",
     "output_type": "stream",
     "text": [
      "✔️ Objects created!\n",
      "\n",
      "⌛ Running the 'simulation'...\n"
     ]
    },
    {
     "name": "stderr",
     "output_type": "stream",
     "text": [
      "100%|██████████| 2329133/2329133 [00:12<00:00, 185661.67it/s]\n"
     ]
    },
    {
     "name": "stdout",
     "output_type": "stream",
     "text": [
      "✔️ 'Simulation' completed!\n",
      "\n",
      "E[R] = 366.93\n",
      "\n",
      "\n",
      "---------------------------------\n",
      "--- Currently at treshold: 43 ---\n",
      "---------------------------------\n",
      "⌛ Creating task objects...\n"
     ]
    },
    {
     "name": "stderr",
     "output_type": "stream",
     "text": [
      "2329133it [01:40, 23219.09it/s]\n"
     ]
    },
    {
     "name": "stdout",
     "output_type": "stream",
     "text": [
      "✔️ Objects created!\n",
      "\n",
      "⌛ Running the 'simulation'...\n"
     ]
    },
    {
     "name": "stderr",
     "output_type": "stream",
     "text": [
      "100%|██████████| 2329133/2329133 [00:12<00:00, 185985.09it/s]\n"
     ]
    },
    {
     "name": "stdout",
     "output_type": "stream",
     "text": [
      "✔️ 'Simulation' completed!\n",
      "\n",
      "E[R] = 366.66\n",
      "\n",
      "\n",
      "---------------------------------\n",
      "--- Currently at treshold: 44 ---\n",
      "---------------------------------\n",
      "⌛ Creating task objects...\n"
     ]
    },
    {
     "name": "stderr",
     "output_type": "stream",
     "text": [
      "2329133it [01:41, 23018.14it/s]\n"
     ]
    },
    {
     "name": "stdout",
     "output_type": "stream",
     "text": [
      "✔️ Objects created!\n",
      "\n",
      "⌛ Running the 'simulation'...\n"
     ]
    },
    {
     "name": "stderr",
     "output_type": "stream",
     "text": [
      "100%|██████████| 2329133/2329133 [00:12<00:00, 185182.94it/s]\n"
     ]
    },
    {
     "name": "stdout",
     "output_type": "stream",
     "text": [
      "✔️ 'Simulation' completed!\n",
      "\n",
      "E[R] = 367.36\n",
      "\n",
      "\n",
      "---------------------------------\n",
      "--- Currently at treshold: 45 ---\n",
      "---------------------------------\n",
      "⌛ Creating task objects...\n"
     ]
    },
    {
     "name": "stderr",
     "output_type": "stream",
     "text": [
      "2329133it [01:40, 23089.27it/s]\n"
     ]
    },
    {
     "name": "stdout",
     "output_type": "stream",
     "text": [
      "✔️ Objects created!\n",
      "\n",
      "⌛ Running the 'simulation'...\n"
     ]
    },
    {
     "name": "stderr",
     "output_type": "stream",
     "text": [
      "100%|██████████| 2329133/2329133 [00:12<00:00, 186755.42it/s]\n"
     ]
    },
    {
     "name": "stdout",
     "output_type": "stream",
     "text": [
      "✔️ 'Simulation' completed!\n",
      "\n",
      "E[R] = 368.86\n",
      "\n",
      "\n",
      "---------------------------------\n",
      "--- Currently at treshold: 46 ---\n",
      "---------------------------------\n",
      "⌛ Creating task objects...\n"
     ]
    },
    {
     "name": "stderr",
     "output_type": "stream",
     "text": [
      "2329133it [01:39, 23320.51it/s]\n"
     ]
    },
    {
     "name": "stdout",
     "output_type": "stream",
     "text": [
      "✔️ Objects created!\n",
      "\n",
      "⌛ Running the 'simulation'...\n"
     ]
    },
    {
     "name": "stderr",
     "output_type": "stream",
     "text": [
      "100%|██████████| 2329133/2329133 [00:12<00:00, 183515.81it/s]\n"
     ]
    },
    {
     "name": "stdout",
     "output_type": "stream",
     "text": [
      "✔️ 'Simulation' completed!\n",
      "\n",
      "E[R] = 371.57\n",
      "\n",
      "\n",
      "---------------------------------\n",
      "--- Currently at treshold: 47 ---\n",
      "---------------------------------\n",
      "⌛ Creating task objects...\n"
     ]
    },
    {
     "name": "stderr",
     "output_type": "stream",
     "text": [
      "2329133it [01:40, 23078.83it/s]\n"
     ]
    },
    {
     "name": "stdout",
     "output_type": "stream",
     "text": [
      "✔️ Objects created!\n",
      "\n",
      "⌛ Running the 'simulation'...\n"
     ]
    },
    {
     "name": "stderr",
     "output_type": "stream",
     "text": [
      "100%|██████████| 2329133/2329133 [00:12<00:00, 186353.31it/s]\n"
     ]
    },
    {
     "name": "stdout",
     "output_type": "stream",
     "text": [
      "✔️ 'Simulation' completed!\n",
      "\n",
      "E[R] = 375.69\n",
      "\n",
      "\n",
      "---------------------------------\n",
      "--- Currently at treshold: 48 ---\n",
      "---------------------------------\n",
      "⌛ Creating task objects...\n"
     ]
    },
    {
     "name": "stderr",
     "output_type": "stream",
     "text": [
      "2329133it [01:40, 23218.23it/s]\n"
     ]
    },
    {
     "name": "stdout",
     "output_type": "stream",
     "text": [
      "✔️ Objects created!\n",
      "\n",
      "⌛ Running the 'simulation'...\n"
     ]
    },
    {
     "name": "stderr",
     "output_type": "stream",
     "text": [
      "100%|██████████| 2329133/2329133 [00:12<00:00, 184582.58it/s]\n"
     ]
    },
    {
     "name": "stdout",
     "output_type": "stream",
     "text": [
      "✔️ 'Simulation' completed!\n",
      "\n",
      "E[R] = 381.57\n",
      "\n",
      "\n",
      "---------------------------------\n",
      "--- Currently at treshold: 49 ---\n",
      "---------------------------------\n",
      "⌛ Creating task objects...\n"
     ]
    },
    {
     "name": "stderr",
     "output_type": "stream",
     "text": [
      "2329133it [01:40, 23235.08it/s]\n"
     ]
    },
    {
     "name": "stdout",
     "output_type": "stream",
     "text": [
      "✔️ Objects created!\n",
      "\n",
      "⌛ Running the 'simulation'...\n"
     ]
    },
    {
     "name": "stderr",
     "output_type": "stream",
     "text": [
      "100%|██████████| 2329133/2329133 [00:12<00:00, 186644.49it/s]\n"
     ]
    },
    {
     "name": "stdout",
     "output_type": "stream",
     "text": [
      "✔️ 'Simulation' completed!\n",
      "\n",
      "E[R] = 388.8\n",
      "\n",
      "\n",
      "---------------------------------\n",
      "--- Currently at treshold: 50 ---\n",
      "---------------------------------\n",
      "⌛ Creating task objects...\n"
     ]
    },
    {
     "name": "stderr",
     "output_type": "stream",
     "text": [
      "2329133it [01:41, 23047.95it/s]\n"
     ]
    },
    {
     "name": "stdout",
     "output_type": "stream",
     "text": [
      "✔️ Objects created!\n",
      "\n",
      "⌛ Running the 'simulation'...\n"
     ]
    },
    {
     "name": "stderr",
     "output_type": "stream",
     "text": [
      "100%|██████████| 2329133/2329133 [00:12<00:00, 184361.49it/s]\n"
     ]
    },
    {
     "name": "stdout",
     "output_type": "stream",
     "text": [
      "✔️ 'Simulation' completed!\n",
      "\n",
      "E[R] = 398.11\n",
      "\n",
      "\n",
      "---------------------------------\n",
      "--- Currently at treshold: 51 ---\n",
      "---------------------------------\n",
      "⌛ Creating task objects...\n"
     ]
    },
    {
     "name": "stderr",
     "output_type": "stream",
     "text": [
      "2329133it [01:40, 23263.77it/s]\n"
     ]
    },
    {
     "name": "stdout",
     "output_type": "stream",
     "text": [
      "✔️ Objects created!\n",
      "\n",
      "⌛ Running the 'simulation'...\n"
     ]
    },
    {
     "name": "stderr",
     "output_type": "stream",
     "text": [
      "100%|██████████| 2329133/2329133 [00:12<00:00, 188377.43it/s]\n"
     ]
    },
    {
     "name": "stdout",
     "output_type": "stream",
     "text": [
      "✔️ 'Simulation' completed!\n",
      "\n",
      "E[R] = 409.94\n",
      "\n",
      "\n",
      "---------------------------------\n",
      "--- Currently at treshold: 52 ---\n",
      "---------------------------------\n",
      "⌛ Creating task objects...\n"
     ]
    },
    {
     "name": "stderr",
     "output_type": "stream",
     "text": [
      "2329133it [01:40, 23132.79it/s]\n"
     ]
    },
    {
     "name": "stdout",
     "output_type": "stream",
     "text": [
      "✔️ Objects created!\n",
      "\n",
      "⌛ Running the 'simulation'...\n"
     ]
    },
    {
     "name": "stderr",
     "output_type": "stream",
     "text": [
      "100%|██████████| 2329133/2329133 [00:12<00:00, 187031.75it/s]\n"
     ]
    },
    {
     "name": "stdout",
     "output_type": "stream",
     "text": [
      "✔️ 'Simulation' completed!\n",
      "\n",
      "E[R] = 424.83\n",
      "\n",
      "\n",
      "---------------------------------\n",
      "--- Currently at treshold: 53 ---\n",
      "---------------------------------\n",
      "⌛ Creating task objects...\n"
     ]
    },
    {
     "name": "stderr",
     "output_type": "stream",
     "text": [
      "2329133it [01:40, 23176.70it/s]\n"
     ]
    },
    {
     "name": "stdout",
     "output_type": "stream",
     "text": [
      "✔️ Objects created!\n",
      "\n",
      "⌛ Running the 'simulation'...\n"
     ]
    },
    {
     "name": "stderr",
     "output_type": "stream",
     "text": [
      "100%|██████████| 2329133/2329133 [00:12<00:00, 189240.25it/s]\n"
     ]
    },
    {
     "name": "stdout",
     "output_type": "stream",
     "text": [
      "✔️ 'Simulation' completed!\n",
      "\n",
      "E[R] = 443.42\n",
      "\n",
      "\n",
      "---------------------------------\n",
      "--- Currently at treshold: 54 ---\n",
      "---------------------------------\n",
      "⌛ Creating task objects...\n"
     ]
    },
    {
     "name": "stderr",
     "output_type": "stream",
     "text": [
      "2329133it [01:40, 23158.25it/s]\n"
     ]
    },
    {
     "name": "stdout",
     "output_type": "stream",
     "text": [
      "✔️ Objects created!\n",
      "\n",
      "⌛ Running the 'simulation'...\n"
     ]
    },
    {
     "name": "stderr",
     "output_type": "stream",
     "text": [
      "100%|██████████| 2329133/2329133 [00:12<00:00, 186541.12it/s]\n"
     ]
    },
    {
     "name": "stdout",
     "output_type": "stream",
     "text": [
      "✔️ 'Simulation' completed!\n",
      "\n",
      "E[R] = 466.76\n",
      "\n",
      "\n",
      "---------------------------------\n",
      "--- Currently at treshold: 55 ---\n",
      "---------------------------------\n",
      "⌛ Creating task objects...\n"
     ]
    },
    {
     "name": "stderr",
     "output_type": "stream",
     "text": [
      "2329133it [01:40, 23282.86it/s]\n"
     ]
    },
    {
     "name": "stdout",
     "output_type": "stream",
     "text": [
      "✔️ Objects created!\n",
      "\n",
      "⌛ Running the 'simulation'...\n"
     ]
    },
    {
     "name": "stderr",
     "output_type": "stream",
     "text": [
      "100%|██████████| 2329133/2329133 [00:12<00:00, 187940.26it/s]\n"
     ]
    },
    {
     "name": "stdout",
     "output_type": "stream",
     "text": [
      "✔️ 'Simulation' completed!\n",
      "\n",
      "E[R] = 495.26\n",
      "\n",
      "\n",
      "---------------------------------\n",
      "--- Currently at treshold: 56 ---\n",
      "---------------------------------\n",
      "⌛ Creating task objects...\n"
     ]
    },
    {
     "name": "stderr",
     "output_type": "stream",
     "text": [
      "2329133it [01:40, 23122.41it/s]\n"
     ]
    },
    {
     "name": "stdout",
     "output_type": "stream",
     "text": [
      "✔️ Objects created!\n",
      "\n",
      "⌛ Running the 'simulation'...\n"
     ]
    },
    {
     "name": "stderr",
     "output_type": "stream",
     "text": [
      "100%|██████████| 2329133/2329133 [00:12<00:00, 187221.35it/s]\n"
     ]
    },
    {
     "name": "stdout",
     "output_type": "stream",
     "text": [
      "✔️ 'Simulation' completed!\n",
      "\n",
      "E[R] = 532.77\n",
      "\n",
      "\n",
      "---------------------------------\n",
      "--- Currently at treshold: 57 ---\n",
      "---------------------------------\n",
      "⌛ Creating task objects...\n"
     ]
    },
    {
     "name": "stderr",
     "output_type": "stream",
     "text": [
      "2329133it [01:40, 23280.14it/s]\n"
     ]
    },
    {
     "name": "stdout",
     "output_type": "stream",
     "text": [
      "✔️ Objects created!\n",
      "\n",
      "⌛ Running the 'simulation'...\n"
     ]
    },
    {
     "name": "stderr",
     "output_type": "stream",
     "text": [
      "100%|██████████| 2329133/2329133 [00:12<00:00, 187816.16it/s]\n"
     ]
    },
    {
     "name": "stdout",
     "output_type": "stream",
     "text": [
      "✔️ 'Simulation' completed!\n",
      "\n",
      "E[R] = 582.1\n",
      "\n",
      "\n",
      "---------------------------------\n",
      "--- Currently at treshold: 58 ---\n",
      "---------------------------------\n",
      "⌛ Creating task objects...\n"
     ]
    },
    {
     "name": "stderr",
     "output_type": "stream",
     "text": [
      "2329133it [01:40, 23245.21it/s]\n"
     ]
    },
    {
     "name": "stdout",
     "output_type": "stream",
     "text": [
      "✔️ Objects created!\n",
      "\n",
      "⌛ Running the 'simulation'...\n"
     ]
    },
    {
     "name": "stderr",
     "output_type": "stream",
     "text": [
      "100%|██████████| 2329133/2329133 [00:12<00:00, 189190.81it/s]\n"
     ]
    },
    {
     "name": "stdout",
     "output_type": "stream",
     "text": [
      "✔️ 'Simulation' completed!\n",
      "\n",
      "E[R] = 649.06\n",
      "\n",
      "\n",
      "---------------------------------\n",
      "--- Currently at treshold: 59 ---\n",
      "---------------------------------\n",
      "⌛ Creating task objects...\n"
     ]
    },
    {
     "name": "stderr",
     "output_type": "stream",
     "text": [
      "2329133it [01:41, 23055.46it/s]\n"
     ]
    },
    {
     "name": "stdout",
     "output_type": "stream",
     "text": [
      "✔️ Objects created!\n",
      "\n",
      "⌛ Running the 'simulation'...\n"
     ]
    },
    {
     "name": "stderr",
     "output_type": "stream",
     "text": [
      "100%|██████████| 2329133/2329133 [00:12<00:00, 186356.34it/s]\n"
     ]
    },
    {
     "name": "stdout",
     "output_type": "stream",
     "text": [
      "✔️ 'Simulation' completed!\n",
      "\n",
      "E[R] = 745.45\n",
      "\n",
      "\n",
      "---------------------------------\n",
      "--- Currently at treshold: 60 ---\n",
      "---------------------------------\n",
      "⌛ Creating task objects...\n"
     ]
    },
    {
     "name": "stderr",
     "output_type": "stream",
     "text": [
      "2329133it [01:41, 23051.59it/s]\n"
     ]
    },
    {
     "name": "stdout",
     "output_type": "stream",
     "text": [
      "✔️ Objects created!\n",
      "\n",
      "⌛ Running the 'simulation'...\n"
     ]
    },
    {
     "name": "stderr",
     "output_type": "stream",
     "text": [
      "100%|██████████| 2329133/2329133 [00:12<00:00, 188890.48it/s]\n"
     ]
    },
    {
     "name": "stdout",
     "output_type": "stream",
     "text": [
      "✔️ 'Simulation' completed!\n",
      "\n",
      "E[R] = 890.32\n",
      "\n",
      "\n",
      "---------------------------------\n",
      "--- Currently at treshold: 61 ---\n",
      "---------------------------------\n",
      "⌛ Creating task objects...\n"
     ]
    },
    {
     "name": "stderr",
     "output_type": "stream",
     "text": [
      "2329133it [01:40, 23157.49it/s]\n"
     ]
    },
    {
     "name": "stdout",
     "output_type": "stream",
     "text": [
      "✔️ Objects created!\n",
      "\n",
      "⌛ Running the 'simulation'...\n"
     ]
    },
    {
     "name": "stderr",
     "output_type": "stream",
     "text": [
      "100%|██████████| 2329133/2329133 [00:12<00:00, 189974.53it/s]\n"
     ]
    },
    {
     "name": "stdout",
     "output_type": "stream",
     "text": [
      "✔️ 'Simulation' completed!\n",
      "\n",
      "E[R] = 1134.29\n",
      "\n",
      "\n",
      "---------------------------------\n",
      "--- Currently at treshold: 62 ---\n",
      "---------------------------------\n",
      "⌛ Creating task objects...\n"
     ]
    },
    {
     "name": "stderr",
     "output_type": "stream",
     "text": [
      "2329133it [01:41, 22986.04it/s]\n"
     ]
    },
    {
     "name": "stdout",
     "output_type": "stream",
     "text": [
      "✔️ Objects created!\n",
      "\n",
      "⌛ Running the 'simulation'...\n"
     ]
    },
    {
     "name": "stderr",
     "output_type": "stream",
     "text": [
      "100%|██████████| 2329133/2329133 [00:12<00:00, 188726.87it/s]\n"
     ]
    },
    {
     "name": "stdout",
     "output_type": "stream",
     "text": [
      "✔️ 'Simulation' completed!\n",
      "\n",
      "E[R] = 1625.76\n",
      "\n",
      "\n",
      "---------------------------------\n",
      "--- Currently at treshold: 63 ---\n",
      "---------------------------------\n",
      "⌛ Creating task objects...\n"
     ]
    },
    {
     "name": "stderr",
     "output_type": "stream",
     "text": [
      "2329133it [01:39, 23312.53it/s]\n"
     ]
    },
    {
     "name": "stdout",
     "output_type": "stream",
     "text": [
      "✔️ Objects created!\n",
      "\n",
      "⌛ Running the 'simulation'...\n"
     ]
    },
    {
     "name": "stderr",
     "output_type": "stream",
     "text": [
      "100%|██████████| 2329133/2329133 [00:12<00:00, 188344.89it/s]\n"
     ]
    },
    {
     "name": "stdout",
     "output_type": "stream",
     "text": [
      "✔️ 'Simulation' completed!\n",
      "\n",
      "E[R] = 3105.0\n",
      "\n",
      "\n",
      "\n",
      "\n",
      "Best combination to use:\n",
      "- (43, 21) --> E[R]=366.664\n",
      "- (42, 22) --> E[R]=366.933\n",
      "- (44, 20) --> E[R]=367.364\n",
      "- (41, 23) --> E[R]=368.082\n",
      "- (45, 19) --> E[R]=368.858\n",
      "- (40, 24) --> E[R]=370.119\n",
      "- (46, 18) --> E[R]=371.571\n",
      "- (39, 25) --> E[R]=372.977\n",
      "- (47, 17) --> E[R]=375.694\n",
      "- (38, 26) --> E[R]=376.698\n",
      "- (37, 27) --> E[R]=381.397\n",
      "- (48, 16) --> E[R]=381.565\n",
      "- (36, 28) --> E[R]=386.993\n",
      "- (49, 15) --> E[R]=388.8\n",
      "- (35, 29) --> E[R]=393.46\n",
      "- (50, 14) --> E[R]=398.113\n",
      "- (34, 30) --> E[R]=400.859\n",
      "- (33, 31) --> E[R]=409.155\n",
      "- (51, 13) --> E[R]=409.944\n",
      "- (32, 32) --> E[R]=418.388\n",
      "- (52, 12) --> E[R]=424.827\n",
      "- (31, 33) --> E[R]=428.75\n",
      "- (30, 34) --> E[R]=440.225\n",
      "- (53, 11) --> E[R]=443.423\n",
      "- (29, 35) --> E[R]=453.043\n",
      "- (54, 10) --> E[R]=466.763\n",
      "- (28, 36) --> E[R]=467.237\n",
      "- (27, 37) --> E[R]=482.902\n",
      "- (55, 9) --> E[R]=495.259\n",
      "- (26, 38) --> E[R]=500.257\n",
      "- (25, 39) --> E[R]=519.557\n",
      "- (56, 8) --> E[R]=532.767\n",
      "- (24, 40) --> E[R]=540.97\n",
      "- (23, 41) --> E[R]=564.78\n",
      "- (57, 7) --> E[R]=582.096\n",
      "- (22, 42) --> E[R]=591.068\n",
      "- (21, 43) --> E[R]=620.37\n",
      "- (58, 6) --> E[R]=649.062\n",
      "- (20, 44) --> E[R]=652.882\n",
      "- (19, 45) --> E[R]=689.206\n",
      "- (18, 46) --> E[R]=730.335\n",
      "- (59, 5) --> E[R]=745.452\n",
      "- (17, 47) --> E[R]=776.319\n",
      "- (16, 48) --> E[R]=828.539\n",
      "- (15, 49) --> E[R]=888.358\n",
      "- (60, 4) --> E[R]=890.316\n",
      "- (14, 50) --> E[R]=957.632\n",
      "- (13, 51) --> E[R]=1038.315\n",
      "- (12, 52) --> E[R]=1134.181\n",
      "- (61, 3) --> E[R]=1134.286\n",
      "- (11, 53) --> E[R]=1248.387\n",
      "- (10, 54) --> E[R]=1381.777\n",
      "- (9, 55) --> E[R]=1547.176\n",
      "- (62, 2) --> E[R]=1625.759\n",
      "- (8, 56) --> E[R]=1759.634\n",
      "- (7, 57) --> E[R]=2037.555\n",
      "- (6, 58) --> E[R]=2398.936\n",
      "- (5, 59) --> E[R]=2899.503\n",
      "- (63, 1) --> E[R]=3104.999\n",
      "- (4, 60) --> E[R]=3679.877\n",
      "- (3, 61) --> E[R]=5015.806\n",
      "- (2, 62) --> E[R]=7783.105\n",
      "- (1, 63) --> E[R]=15871.723\n"
     ]
    }
   ],
   "source": [
    "# sub_data = data.head(100_000)\n",
    "# simulation(sub_data, N)\n",
    "\n",
    "tresholds = np.arange(1, 64)\n",
    "R_dict = dict()\n",
    "\n",
    "for treshold in tresholds:\n",
    "    print('-' * 33)\n",
    "    print(f'--- Currently at treshold: {treshold} ---')\n",
    "    print('-' * 33)\n",
    "    simulation(data, N, treshold)\n",
    "    rows = []\n",
    "    for task in tasks:\n",
    "        new_row = vars(task)\n",
    "        row = {key: val for key, val in new_row.items()}\n",
    "        rows.append(row)\n",
    "\n",
    "    df_tasks = pd.DataFrame(rows)\n",
    "    df_tasks['final_time'] = df_tasks['ta'] + df_tasks['end_time']\n",
    "\n",
    "    stats_df = df_tasks.groupby('jid').agg({'ta': 'min', 'final_time': 'max', 'X': 'sum'})\n",
    "    stats_df = stats_df.rename(columns={'ta': 'min_ta', 'final_time': 'max_ta_end_time', 'X': 'tot_job_X'})\n",
    "    stats_df['R'] = stats_df['max_ta_end_time'] - stats_df['min_ta']\n",
    "    stats_df = stats_df.reset_index()\n",
    "    R_dict[treshold] = stats_df['R'].mean()\n",
    "    print(f'\\nE[R] = {round(stats_df[\"R\"].mean(), 2)}')\n",
    "    print('\\n')\n",
    "    \n",
    "\n",
    "print('\\n\\nBest combination to use:')\n",
    "R_dict_sorted = dict(sorted(R_dict.items(), key=lambda x: x[1]))\n",
    "for key, value in R_dict_sorted.items():\n",
    "    print(f'- ({key}, {64-key}) --> E[R]={round(value, 3)}')"
   ]
  },
  {
   "cell_type": "code",
   "execution_count": null,
   "metadata": {},
   "outputs": [
    {
     "name": "stdout",
     "output_type": "stream",
     "text": [
      "---------------------------------\n",
      "--- Currently at treshold: 1 ---\n",
      "---------------------------------\n",
      "⌛ Creating task objects...\n"
     ]
    },
    {
     "name": "stderr",
     "output_type": "stream",
     "text": [
      "2329133it [01:41, 23051.26it/s]\n"
     ]
    },
    {
     "name": "stdout",
     "output_type": "stream",
     "text": [
      "✔️ Objects created!\n",
      "\n",
      "⌛ Running the 'simulation'...\n"
     ]
    },
    {
     "name": "stderr",
     "output_type": "stream",
     "text": [
      "100%|██████████| 2329133/2329133 [00:12<00:00, 187462.00it/s]\n"
     ]
    },
    {
     "name": "stdout",
     "output_type": "stream",
     "text": [
      "✔️ 'Simulation' completed!\n",
      "\n",
      "E[R] = 17307.95\n",
      "\n",
      "\n",
      "---------------------------------\n",
      "--- Currently at treshold: 2 ---\n",
      "---------------------------------\n",
      "⌛ Creating task objects...\n"
     ]
    },
    {
     "name": "stderr",
     "output_type": "stream",
     "text": [
      "2329133it [01:39, 23520.79it/s]\n"
     ]
    },
    {
     "name": "stdout",
     "output_type": "stream",
     "text": [
      "✔️ Objects created!\n",
      "\n",
      "⌛ Running the 'simulation'...\n"
     ]
    },
    {
     "name": "stderr",
     "output_type": "stream",
     "text": [
      "100%|██████████| 2329133/2329133 [00:12<00:00, 188641.97it/s]\n"
     ]
    },
    {
     "name": "stdout",
     "output_type": "stream",
     "text": [
      "✔️ 'Simulation' completed!\n",
      "\n",
      "E[R] = 8501.64\n",
      "\n",
      "\n",
      "---------------------------------\n",
      "--- Currently at treshold: 3 ---\n",
      "---------------------------------\n",
      "⌛ Creating task objects...\n"
     ]
    },
    {
     "name": "stderr",
     "output_type": "stream",
     "text": [
      "2329133it [01:46, 21826.79it/s]\n"
     ]
    },
    {
     "name": "stdout",
     "output_type": "stream",
     "text": [
      "✔️ Objects created!\n",
      "\n",
      "⌛ Running the 'simulation'...\n"
     ]
    },
    {
     "name": "stderr",
     "output_type": "stream",
     "text": [
      "100%|██████████| 2329133/2329133 [00:12<00:00, 181779.89it/s]\n"
     ]
    },
    {
     "name": "stdout",
     "output_type": "stream",
     "text": [
      "✔️ 'Simulation' completed!\n",
      "\n",
      "E[R] = 5501.52\n",
      "\n",
      "\n",
      "---------------------------------\n",
      "--- Currently at treshold: 4 ---\n",
      "---------------------------------\n",
      "⌛ Creating task objects...\n"
     ]
    },
    {
     "name": "stderr",
     "output_type": "stream",
     "text": [
      "2329133it [01:41, 22840.59it/s]\n"
     ]
    },
    {
     "name": "stdout",
     "output_type": "stream",
     "text": [
      "✔️ Objects created!\n",
      "\n",
      "⌛ Running the 'simulation'...\n"
     ]
    },
    {
     "name": "stderr",
     "output_type": "stream",
     "text": [
      "100%|██████████| 2329133/2329133 [00:12<00:00, 181707.46it/s]\n"
     ]
    },
    {
     "name": "stdout",
     "output_type": "stream",
     "text": [
      "✔️ 'Simulation' completed!\n",
      "\n",
      "E[R] = 4033.98\n",
      "\n",
      "\n",
      "---------------------------------\n",
      "--- Currently at treshold: 5 ---\n",
      "---------------------------------\n",
      "⌛ Creating task objects...\n"
     ]
    },
    {
     "name": "stderr",
     "output_type": "stream",
     "text": [
      "2329133it [01:40, 23141.95it/s]\n"
     ]
    },
    {
     "name": "stdout",
     "output_type": "stream",
     "text": [
      "✔️ Objects created!\n",
      "\n",
      "⌛ Running the 'simulation'...\n"
     ]
    },
    {
     "name": "stderr",
     "output_type": "stream",
     "text": [
      "100%|██████████| 2329133/2329133 [00:12<00:00, 180551.27it/s]\n"
     ]
    },
    {
     "name": "stdout",
     "output_type": "stream",
     "text": [
      "✔️ 'Simulation' completed!\n",
      "\n",
      "E[R] = 3176.66\n",
      "\n",
      "\n",
      "---------------------------------\n",
      "--- Currently at treshold: 6 ---\n",
      "---------------------------------\n",
      "⌛ Creating task objects...\n"
     ]
    },
    {
     "name": "stderr",
     "output_type": "stream",
     "text": [
      "2329133it [01:41, 22889.32it/s]\n"
     ]
    },
    {
     "name": "stdout",
     "output_type": "stream",
     "text": [
      "✔️ Objects created!\n",
      "\n",
      "⌛ Running the 'simulation'...\n"
     ]
    },
    {
     "name": "stderr",
     "output_type": "stream",
     "text": [
      "100%|██████████| 2329133/2329133 [00:12<00:00, 182619.21it/s]\n"
     ]
    },
    {
     "name": "stdout",
     "output_type": "stream",
     "text": [
      "✔️ 'Simulation' completed!\n",
      "\n",
      "E[R] = 2625.41\n",
      "\n",
      "\n",
      "---------------------------------\n",
      "--- Currently at treshold: 7 ---\n",
      "---------------------------------\n",
      "⌛ Creating task objects...\n"
     ]
    },
    {
     "name": "stderr",
     "output_type": "stream",
     "text": [
      "2329133it [01:41, 23059.02it/s]\n"
     ]
    },
    {
     "name": "stdout",
     "output_type": "stream",
     "text": [
      "✔️ Objects created!\n",
      "\n",
      "⌛ Running the 'simulation'...\n"
     ]
    },
    {
     "name": "stderr",
     "output_type": "stream",
     "text": [
      "100%|██████████| 2329133/2329133 [00:12<00:00, 182368.39it/s]\n"
     ]
    },
    {
     "name": "stdout",
     "output_type": "stream",
     "text": [
      "✔️ 'Simulation' completed!\n",
      "\n",
      "E[R] = 2228.83\n",
      "\n",
      "\n",
      "---------------------------------\n",
      "--- Currently at treshold: 8 ---\n",
      "---------------------------------\n",
      "⌛ Creating task objects...\n"
     ]
    },
    {
     "name": "stderr",
     "output_type": "stream",
     "text": [
      "2329133it [01:40, 23113.06it/s]\n"
     ]
    },
    {
     "name": "stdout",
     "output_type": "stream",
     "text": [
      "✔️ Objects created!\n",
      "\n",
      "⌛ Running the 'simulation'...\n"
     ]
    },
    {
     "name": "stderr",
     "output_type": "stream",
     "text": [
      "100%|██████████| 2329133/2329133 [00:12<00:00, 182031.89it/s]\n"
     ]
    },
    {
     "name": "stdout",
     "output_type": "stream",
     "text": [
      "✔️ 'Simulation' completed!\n",
      "\n",
      "E[R] = 1926.32\n",
      "\n",
      "\n",
      "---------------------------------\n",
      "--- Currently at treshold: 9 ---\n",
      "---------------------------------\n",
      "⌛ Creating task objects...\n"
     ]
    },
    {
     "name": "stderr",
     "output_type": "stream",
     "text": [
      "2329133it [01:41, 22913.76it/s]\n"
     ]
    },
    {
     "name": "stdout",
     "output_type": "stream",
     "text": [
      "✔️ Objects created!\n",
      "\n",
      "⌛ Running the 'simulation'...\n"
     ]
    },
    {
     "name": "stderr",
     "output_type": "stream",
     "text": [
      "100%|██████████| 2329133/2329133 [00:12<00:00, 179507.46it/s]\n"
     ]
    },
    {
     "name": "stdout",
     "output_type": "stream",
     "text": [
      "✔️ 'Simulation' completed!\n",
      "\n",
      "E[R] = 1694.81\n",
      "\n",
      "\n",
      "---------------------------------\n",
      "--- Currently at treshold: 10 ---\n",
      "---------------------------------\n",
      "⌛ Creating task objects...\n"
     ]
    },
    {
     "name": "stderr",
     "output_type": "stream",
     "text": [
      "2329133it [01:41, 23012.31it/s]\n"
     ]
    },
    {
     "name": "stdout",
     "output_type": "stream",
     "text": [
      "✔️ Objects created!\n",
      "\n",
      "⌛ Running the 'simulation'...\n"
     ]
    },
    {
     "name": "stderr",
     "output_type": "stream",
     "text": [
      "100%|██████████| 2329133/2329133 [00:13<00:00, 177674.58it/s]\n"
     ]
    },
    {
     "name": "stdout",
     "output_type": "stream",
     "text": [
      "✔️ 'Simulation' completed!\n",
      "\n",
      "E[R] = 1512.97\n",
      "\n",
      "\n",
      "---------------------------------\n",
      "--- Currently at treshold: 11 ---\n",
      "---------------------------------\n",
      "⌛ Creating task objects...\n"
     ]
    },
    {
     "name": "stderr",
     "output_type": "stream",
     "text": [
      "2329133it [01:40, 23079.30it/s]\n"
     ]
    },
    {
     "name": "stdout",
     "output_type": "stream",
     "text": [
      "✔️ Objects created!\n",
      "\n",
      "⌛ Running the 'simulation'...\n"
     ]
    },
    {
     "name": "stderr",
     "output_type": "stream",
     "text": [
      "100%|██████████| 2329133/2329133 [00:12<00:00, 181632.52it/s]\n"
     ]
    },
    {
     "name": "stdout",
     "output_type": "stream",
     "text": [
      "✔️ 'Simulation' completed!\n",
      "\n",
      "E[R] = 1365.28\n",
      "\n",
      "\n",
      "---------------------------------\n",
      "--- Currently at treshold: 12 ---\n",
      "---------------------------------\n",
      "⌛ Creating task objects...\n"
     ]
    },
    {
     "name": "stderr",
     "output_type": "stream",
     "text": [
      "2329133it [01:40, 23269.09it/s]\n"
     ]
    },
    {
     "name": "stdout",
     "output_type": "stream",
     "text": [
      "✔️ Objects created!\n",
      "\n",
      "⌛ Running the 'simulation'...\n"
     ]
    },
    {
     "name": "stderr",
     "output_type": "stream",
     "text": [
      "100%|██████████| 2329133/2329133 [00:12<00:00, 186225.95it/s]\n"
     ]
    },
    {
     "name": "stdout",
     "output_type": "stream",
     "text": [
      "✔️ 'Simulation' completed!\n",
      "\n",
      "E[R] = 1239.05\n",
      "\n",
      "\n",
      "---------------------------------\n",
      "--- Currently at treshold: 13 ---\n",
      "---------------------------------\n",
      "⌛ Creating task objects...\n"
     ]
    },
    {
     "name": "stderr",
     "output_type": "stream",
     "text": [
      "2329133it [01:41, 22938.57it/s]\n"
     ]
    },
    {
     "name": "stdout",
     "output_type": "stream",
     "text": [
      "✔️ Objects created!\n",
      "\n",
      "⌛ Running the 'simulation'...\n"
     ]
    },
    {
     "name": "stderr",
     "output_type": "stream",
     "text": [
      "100%|██████████| 2329133/2329133 [00:12<00:00, 180587.93it/s]\n"
     ]
    },
    {
     "name": "stdout",
     "output_type": "stream",
     "text": [
      "✔️ 'Simulation' completed!\n",
      "\n",
      "E[R] = 1132.89\n",
      "\n",
      "\n",
      "---------------------------------\n",
      "--- Currently at treshold: 14 ---\n",
      "---------------------------------\n",
      "⌛ Creating task objects...\n"
     ]
    },
    {
     "name": "stderr",
     "output_type": "stream",
     "text": [
      "2329133it [01:41, 22898.91it/s]\n"
     ]
    },
    {
     "name": "stdout",
     "output_type": "stream",
     "text": [
      "✔️ Objects created!\n",
      "\n",
      "⌛ Running the 'simulation'...\n"
     ]
    },
    {
     "name": "stderr",
     "output_type": "stream",
     "text": [
      "100%|██████████| 2329133/2329133 [00:13<00:00, 177521.11it/s]\n"
     ]
    },
    {
     "name": "stdout",
     "output_type": "stream",
     "text": [
      "✔️ 'Simulation' completed!\n",
      "\n",
      "E[R] = 1043.07\n",
      "\n",
      "\n",
      "---------------------------------\n",
      "--- Currently at treshold: 15 ---\n",
      "---------------------------------\n",
      "⌛ Creating task objects...\n"
     ]
    },
    {
     "name": "stderr",
     "output_type": "stream",
     "text": [
      "2329133it [01:41, 23060.71it/s]\n"
     ]
    },
    {
     "name": "stdout",
     "output_type": "stream",
     "text": [
      "✔️ Objects created!\n",
      "\n",
      "⌛ Running the 'simulation'...\n"
     ]
    },
    {
     "name": "stderr",
     "output_type": "stream",
     "text": [
      "100%|██████████| 2329133/2329133 [00:12<00:00, 181782.39it/s]\n"
     ]
    },
    {
     "name": "stdout",
     "output_type": "stream",
     "text": [
      "✔️ 'Simulation' completed!\n",
      "\n",
      "E[R] = 966.17\n",
      "\n",
      "\n",
      "---------------------------------\n",
      "--- Currently at treshold: 16 ---\n",
      "---------------------------------\n",
      "⌛ Creating task objects...\n"
     ]
    },
    {
     "name": "stderr",
     "output_type": "stream",
     "text": [
      "2329133it [01:40, 23231.40it/s]\n"
     ]
    },
    {
     "name": "stdout",
     "output_type": "stream",
     "text": [
      "✔️ Objects created!\n",
      "\n",
      "⌛ Running the 'simulation'...\n"
     ]
    },
    {
     "name": "stderr",
     "output_type": "stream",
     "text": [
      "100%|██████████| 2329133/2329133 [00:13<00:00, 177227.80it/s]\n"
     ]
    },
    {
     "name": "stdout",
     "output_type": "stream",
     "text": [
      "✔️ 'Simulation' completed!\n",
      "\n",
      "E[R] = 899.24\n",
      "\n",
      "\n",
      "---------------------------------\n",
      "--- Currently at treshold: 17 ---\n",
      "---------------------------------\n",
      "⌛ Creating task objects...\n"
     ]
    },
    {
     "name": "stderr",
     "output_type": "stream",
     "text": [
      "2329133it [01:40, 23133.80it/s]\n"
     ]
    },
    {
     "name": "stdout",
     "output_type": "stream",
     "text": [
      "✔️ Objects created!\n",
      "\n",
      "⌛ Running the 'simulation'...\n"
     ]
    },
    {
     "name": "stderr",
     "output_type": "stream",
     "text": [
      "100%|██████████| 2329133/2329133 [00:12<00:00, 182748.43it/s]\n"
     ]
    },
    {
     "name": "stdout",
     "output_type": "stream",
     "text": [
      "✔️ 'Simulation' completed!\n",
      "\n",
      "E[R] = 840.89\n",
      "\n",
      "\n",
      "---------------------------------\n",
      "--- Currently at treshold: 18 ---\n",
      "---------------------------------\n",
      "⌛ Creating task objects...\n"
     ]
    },
    {
     "name": "stderr",
     "output_type": "stream",
     "text": [
      "2329133it [01:40, 23174.57it/s]\n"
     ]
    },
    {
     "name": "stdout",
     "output_type": "stream",
     "text": [
      "✔️ Objects created!\n",
      "\n",
      "⌛ Running the 'simulation'...\n"
     ]
    },
    {
     "name": "stderr",
     "output_type": "stream",
     "text": [
      "100%|██████████| 2329133/2329133 [00:12<00:00, 183954.29it/s]\n"
     ]
    },
    {
     "name": "stdout",
     "output_type": "stream",
     "text": [
      "✔️ 'Simulation' completed!\n",
      "\n",
      "E[R] = 789.75\n",
      "\n",
      "\n",
      "---------------------------------\n",
      "--- Currently at treshold: 19 ---\n",
      "---------------------------------\n",
      "⌛ Creating task objects...\n"
     ]
    },
    {
     "name": "stderr",
     "output_type": "stream",
     "text": [
      "2329133it [01:40, 23098.31it/s]\n"
     ]
    },
    {
     "name": "stdout",
     "output_type": "stream",
     "text": [
      "✔️ Objects created!\n",
      "\n",
      "⌛ Running the 'simulation'...\n"
     ]
    },
    {
     "name": "stderr",
     "output_type": "stream",
     "text": [
      "100%|██████████| 2329133/2329133 [00:12<00:00, 184049.44it/s]\n"
     ]
    },
    {
     "name": "stdout",
     "output_type": "stream",
     "text": [
      "✔️ 'Simulation' completed!\n",
      "\n",
      "E[R] = 744.03\n",
      "\n",
      "\n",
      "---------------------------------\n",
      "--- Currently at treshold: 20 ---\n",
      "---------------------------------\n",
      "⌛ Creating task objects...\n"
     ]
    },
    {
     "name": "stderr",
     "output_type": "stream",
     "text": [
      "2329133it [01:40, 23122.52it/s]\n"
     ]
    },
    {
     "name": "stdout",
     "output_type": "stream",
     "text": [
      "✔️ Objects created!\n",
      "\n",
      "⌛ Running the 'simulation'...\n"
     ]
    },
    {
     "name": "stderr",
     "output_type": "stream",
     "text": [
      "100%|██████████| 2329133/2329133 [00:12<00:00, 187074.25it/s]\n"
     ]
    },
    {
     "name": "stdout",
     "output_type": "stream",
     "text": [
      "✔️ 'Simulation' completed!\n",
      "\n",
      "E[R] = 703.18\n",
      "\n",
      "\n",
      "---------------------------------\n",
      "--- Currently at treshold: 21 ---\n",
      "---------------------------------\n",
      "⌛ Creating task objects...\n"
     ]
    },
    {
     "name": "stderr",
     "output_type": "stream",
     "text": [
      "2329133it [01:40, 23118.50it/s]\n"
     ]
    },
    {
     "name": "stdout",
     "output_type": "stream",
     "text": [
      "✔️ Objects created!\n",
      "\n",
      "⌛ Running the 'simulation'...\n"
     ]
    },
    {
     "name": "stderr",
     "output_type": "stream",
     "text": [
      "100%|██████████| 2329133/2329133 [00:12<00:00, 185310.76it/s]\n"
     ]
    },
    {
     "name": "stdout",
     "output_type": "stream",
     "text": [
      "✔️ 'Simulation' completed!\n",
      "\n",
      "E[R] = 666.56\n",
      "\n",
      "\n",
      "---------------------------------\n",
      "--- Currently at treshold: 22 ---\n",
      "---------------------------------\n",
      "⌛ Creating task objects...\n"
     ]
    },
    {
     "name": "stderr",
     "output_type": "stream",
     "text": [
      "2329133it [01:40, 23186.45it/s]\n"
     ]
    },
    {
     "name": "stdout",
     "output_type": "stream",
     "text": [
      "✔️ Objects created!\n",
      "\n",
      "⌛ Running the 'simulation'...\n"
     ]
    },
    {
     "name": "stderr",
     "output_type": "stream",
     "text": [
      "100%|██████████| 2329133/2329133 [00:12<00:00, 185499.47it/s]\n"
     ]
    },
    {
     "name": "stdout",
     "output_type": "stream",
     "text": [
      "✔️ 'Simulation' completed!\n",
      "\n",
      "E[R] = 633.62\n",
      "\n",
      "\n",
      "---------------------------------\n",
      "--- Currently at treshold: 23 ---\n",
      "---------------------------------\n",
      "⌛ Creating task objects...\n"
     ]
    },
    {
     "name": "stderr",
     "output_type": "stream",
     "text": [
      "2329133it [01:39, 23294.23it/s]\n"
     ]
    },
    {
     "name": "stdout",
     "output_type": "stream",
     "text": [
      "✔️ Objects created!\n",
      "\n",
      "⌛ Running the 'simulation'...\n"
     ]
    },
    {
     "name": "stderr",
     "output_type": "stream",
     "text": [
      "100%|██████████| 2329133/2329133 [00:12<00:00, 183557.42it/s]\n"
     ]
    },
    {
     "name": "stdout",
     "output_type": "stream",
     "text": [
      "✔️ 'Simulation' completed!\n",
      "\n",
      "E[R] = 603.8\n",
      "\n",
      "\n",
      "---------------------------------\n",
      "--- Currently at treshold: 24 ---\n",
      "---------------------------------\n",
      "⌛ Creating task objects...\n"
     ]
    },
    {
     "name": "stderr",
     "output_type": "stream",
     "text": [
      "2329133it [01:40, 23256.48it/s]\n"
     ]
    },
    {
     "name": "stdout",
     "output_type": "stream",
     "text": [
      "✔️ Objects created!\n",
      "\n",
      "⌛ Running the 'simulation'...\n"
     ]
    },
    {
     "name": "stderr",
     "output_type": "stream",
     "text": [
      "100%|██████████| 2329133/2329133 [00:12<00:00, 186013.57it/s]\n"
     ]
    },
    {
     "name": "stdout",
     "output_type": "stream",
     "text": [
      "✔️ 'Simulation' completed!\n",
      "\n",
      "E[R] = 576.73\n",
      "\n",
      "\n",
      "---------------------------------\n",
      "--- Currently at treshold: 25 ---\n",
      "---------------------------------\n",
      "⌛ Creating task objects...\n"
     ]
    },
    {
     "name": "stderr",
     "output_type": "stream",
     "text": [
      "2329133it [01:39, 23291.80it/s]\n"
     ]
    },
    {
     "name": "stdout",
     "output_type": "stream",
     "text": [
      "✔️ Objects created!\n",
      "\n",
      "⌛ Running the 'simulation'...\n"
     ]
    },
    {
     "name": "stderr",
     "output_type": "stream",
     "text": [
      "100%|██████████| 2329133/2329133 [00:12<00:00, 183648.40it/s]\n"
     ]
    },
    {
     "name": "stdout",
     "output_type": "stream",
     "text": [
      "✔️ 'Simulation' completed!\n",
      "\n",
      "E[R] = 552.19\n",
      "\n",
      "\n",
      "---------------------------------\n",
      "--- Currently at treshold: 26 ---\n",
      "---------------------------------\n",
      "⌛ Creating task objects...\n"
     ]
    },
    {
     "name": "stderr",
     "output_type": "stream",
     "text": [
      "2329133it [01:40, 23242.87it/s]\n"
     ]
    },
    {
     "name": "stdout",
     "output_type": "stream",
     "text": [
      "✔️ Objects created!\n",
      "\n",
      "⌛ Running the 'simulation'...\n"
     ]
    },
    {
     "name": "stderr",
     "output_type": "stream",
     "text": [
      "100%|██████████| 2329133/2329133 [00:12<00:00, 184173.68it/s]\n"
     ]
    },
    {
     "name": "stdout",
     "output_type": "stream",
     "text": [
      "✔️ 'Simulation' completed!\n",
      "\n",
      "E[R] = 529.8\n",
      "\n",
      "\n",
      "---------------------------------\n",
      "--- Currently at treshold: 27 ---\n",
      "---------------------------------\n",
      "⌛ Creating task objects...\n"
     ]
    },
    {
     "name": "stderr",
     "output_type": "stream",
     "text": [
      "2329133it [01:40, 23184.02it/s]\n"
     ]
    },
    {
     "name": "stdout",
     "output_type": "stream",
     "text": [
      "✔️ Objects created!\n",
      "\n",
      "⌛ Running the 'simulation'...\n"
     ]
    },
    {
     "name": "stderr",
     "output_type": "stream",
     "text": [
      "100%|██████████| 2329133/2329133 [00:12<00:00, 183481.51it/s]\n"
     ]
    },
    {
     "name": "stdout",
     "output_type": "stream",
     "text": [
      "✔️ 'Simulation' completed!\n",
      "\n",
      "E[R] = 509.42\n",
      "\n",
      "\n",
      "---------------------------------\n",
      "--- Currently at treshold: 28 ---\n",
      "---------------------------------\n",
      "⌛ Creating task objects...\n"
     ]
    },
    {
     "name": "stderr",
     "output_type": "stream",
     "text": [
      "2329133it [01:40, 23196.97it/s]\n"
     ]
    },
    {
     "name": "stdout",
     "output_type": "stream",
     "text": [
      "✔️ Objects created!\n",
      "\n",
      "⌛ Running the 'simulation'...\n"
     ]
    },
    {
     "name": "stderr",
     "output_type": "stream",
     "text": [
      "100%|██████████| 2329133/2329133 [00:12<00:00, 185323.59it/s]\n"
     ]
    },
    {
     "name": "stdout",
     "output_type": "stream",
     "text": [
      "✔️ 'Simulation' completed!\n",
      "\n",
      "E[R] = 490.89\n",
      "\n",
      "\n",
      "---------------------------------\n",
      "--- Currently at treshold: 29 ---\n",
      "---------------------------------\n",
      "⌛ Creating task objects...\n"
     ]
    },
    {
     "name": "stderr",
     "output_type": "stream",
     "text": [
      "2329133it [01:39, 23450.65it/s]\n"
     ]
    },
    {
     "name": "stdout",
     "output_type": "stream",
     "text": [
      "✔️ Objects created!\n",
      "\n",
      "⌛ Running the 'simulation'...\n"
     ]
    },
    {
     "name": "stderr",
     "output_type": "stream",
     "text": [
      "100%|██████████| 2329133/2329133 [00:12<00:00, 184290.52it/s]\n"
     ]
    },
    {
     "name": "stdout",
     "output_type": "stream",
     "text": [
      "✔️ 'Simulation' completed!\n",
      "\n",
      "E[R] = 473.98\n",
      "\n",
      "\n",
      "---------------------------------\n",
      "--- Currently at treshold: 30 ---\n",
      "---------------------------------\n",
      "⌛ Creating task objects...\n"
     ]
    },
    {
     "name": "stderr",
     "output_type": "stream",
     "text": [
      "2329133it [01:39, 23335.66it/s]\n"
     ]
    },
    {
     "name": "stdout",
     "output_type": "stream",
     "text": [
      "✔️ Objects created!\n",
      "\n",
      "⌛ Running the 'simulation'...\n"
     ]
    },
    {
     "name": "stderr",
     "output_type": "stream",
     "text": [
      "100%|██████████| 2329133/2329133 [00:12<00:00, 187711.18it/s]\n"
     ]
    },
    {
     "name": "stdout",
     "output_type": "stream",
     "text": [
      "✔️ 'Simulation' completed!\n",
      "\n",
      "E[R] = 458.5\n",
      "\n",
      "\n",
      "---------------------------------\n",
      "--- Currently at treshold: 31 ---\n",
      "---------------------------------\n",
      "⌛ Creating task objects...\n"
     ]
    },
    {
     "name": "stderr",
     "output_type": "stream",
     "text": [
      "2329133it [01:40, 23254.95it/s]\n"
     ]
    },
    {
     "name": "stdout",
     "output_type": "stream",
     "text": [
      "✔️ Objects created!\n",
      "\n",
      "⌛ Running the 'simulation'...\n"
     ]
    },
    {
     "name": "stderr",
     "output_type": "stream",
     "text": [
      "100%|██████████| 2329133/2329133 [00:12<00:00, 185043.74it/s]\n"
     ]
    },
    {
     "name": "stdout",
     "output_type": "stream",
     "text": [
      "✔️ 'Simulation' completed!\n",
      "\n",
      "E[R] = 444.41\n",
      "\n",
      "\n",
      "---------------------------------\n",
      "--- Currently at treshold: 32 ---\n",
      "---------------------------------\n",
      "⌛ Creating task objects...\n"
     ]
    },
    {
     "name": "stderr",
     "output_type": "stream",
     "text": [
      "2329133it [01:39, 23312.81it/s]\n"
     ]
    },
    {
     "name": "stdout",
     "output_type": "stream",
     "text": [
      "✔️ Objects created!\n",
      "\n",
      "⌛ Running the 'simulation'...\n"
     ]
    },
    {
     "name": "stderr",
     "output_type": "stream",
     "text": [
      "100%|██████████| 2329133/2329133 [00:12<00:00, 182475.66it/s]\n"
     ]
    },
    {
     "name": "stdout",
     "output_type": "stream",
     "text": [
      "✔️ 'Simulation' completed!\n",
      "\n",
      "E[R] = 431.58\n",
      "\n",
      "\n",
      "---------------------------------\n",
      "--- Currently at treshold: 33 ---\n",
      "---------------------------------\n",
      "⌛ Creating task objects...\n"
     ]
    },
    {
     "name": "stderr",
     "output_type": "stream",
     "text": [
      "2329133it [01:40, 23149.11it/s]\n"
     ]
    },
    {
     "name": "stdout",
     "output_type": "stream",
     "text": [
      "✔️ Objects created!\n",
      "\n",
      "⌛ Running the 'simulation'...\n"
     ]
    },
    {
     "name": "stderr",
     "output_type": "stream",
     "text": [
      "100%|██████████| 2329133/2329133 [00:12<00:00, 185482.17it/s]\n"
     ]
    },
    {
     "name": "stdout",
     "output_type": "stream",
     "text": [
      "✔️ 'Simulation' completed!\n",
      "\n",
      "E[R] = 419.83\n",
      "\n",
      "\n",
      "---------------------------------\n",
      "--- Currently at treshold: 34 ---\n",
      "---------------------------------\n",
      "⌛ Creating task objects...\n"
     ]
    },
    {
     "name": "stderr",
     "output_type": "stream",
     "text": [
      "2329133it [01:39, 23314.63it/s]\n"
     ]
    },
    {
     "name": "stdout",
     "output_type": "stream",
     "text": [
      "✔️ Objects created!\n",
      "\n",
      "⌛ Running the 'simulation'...\n"
     ]
    },
    {
     "name": "stderr",
     "output_type": "stream",
     "text": [
      "100%|██████████| 2329133/2329133 [00:12<00:00, 186620.56it/s]\n"
     ]
    },
    {
     "name": "stdout",
     "output_type": "stream",
     "text": [
      "✔️ 'Simulation' completed!\n",
      "\n",
      "E[R] = 409.04\n",
      "\n",
      "\n",
      "---------------------------------\n",
      "--- Currently at treshold: 35 ---\n",
      "---------------------------------\n",
      "⌛ Creating task objects...\n"
     ]
    },
    {
     "name": "stderr",
     "output_type": "stream",
     "text": [
      "2329133it [01:39, 23312.71it/s]\n"
     ]
    },
    {
     "name": "stdout",
     "output_type": "stream",
     "text": [
      "✔️ Objects created!\n",
      "\n",
      "⌛ Running the 'simulation'...\n"
     ]
    },
    {
     "name": "stderr",
     "output_type": "stream",
     "text": [
      "100%|██████████| 2329133/2329133 [00:12<00:00, 183885.96it/s]\n"
     ]
    },
    {
     "name": "stdout",
     "output_type": "stream",
     "text": [
      "✔️ 'Simulation' completed!\n",
      "\n",
      "E[R] = 399.2\n",
      "\n",
      "\n",
      "---------------------------------\n",
      "--- Currently at treshold: 36 ---\n",
      "---------------------------------\n",
      "⌛ Creating task objects...\n"
     ]
    },
    {
     "name": "stderr",
     "output_type": "stream",
     "text": [
      "2329133it [01:40, 23252.21it/s]\n"
     ]
    },
    {
     "name": "stdout",
     "output_type": "stream",
     "text": [
      "✔️ Objects created!\n",
      "\n",
      "⌛ Running the 'simulation'...\n"
     ]
    },
    {
     "name": "stderr",
     "output_type": "stream",
     "text": [
      "100%|██████████| 2329133/2329133 [00:12<00:00, 186848.90it/s]\n"
     ]
    },
    {
     "name": "stdout",
     "output_type": "stream",
     "text": [
      "✔️ 'Simulation' completed!\n",
      "\n",
      "E[R] = 390.21\n",
      "\n",
      "\n",
      "---------------------------------\n",
      "--- Currently at treshold: 37 ---\n",
      "---------------------------------\n",
      "⌛ Creating task objects...\n"
     ]
    },
    {
     "name": "stderr",
     "output_type": "stream",
     "text": [
      "2329133it [01:40, 23155.45it/s]\n"
     ]
    },
    {
     "name": "stdout",
     "output_type": "stream",
     "text": [
      "✔️ Objects created!\n",
      "\n",
      "⌛ Running the 'simulation'...\n"
     ]
    },
    {
     "name": "stderr",
     "output_type": "stream",
     "text": [
      "100%|██████████| 2329133/2329133 [00:12<00:00, 185683.14it/s]\n"
     ]
    },
    {
     "name": "stdout",
     "output_type": "stream",
     "text": [
      "✔️ 'Simulation' completed!\n",
      "\n",
      "E[R] = 382.1\n",
      "\n",
      "\n",
      "---------------------------------\n",
      "--- Currently at treshold: 38 ---\n",
      "---------------------------------\n",
      "⌛ Creating task objects...\n"
     ]
    },
    {
     "name": "stderr",
     "output_type": "stream",
     "text": [
      "2329133it [01:40, 23216.75it/s]\n"
     ]
    },
    {
     "name": "stdout",
     "output_type": "stream",
     "text": [
      "✔️ Objects created!\n",
      "\n",
      "⌛ Running the 'simulation'...\n"
     ]
    },
    {
     "name": "stderr",
     "output_type": "stream",
     "text": [
      "100%|██████████| 2329133/2329133 [00:12<00:00, 185619.02it/s]\n"
     ]
    },
    {
     "name": "stdout",
     "output_type": "stream",
     "text": [
      "✔️ 'Simulation' completed!\n",
      "\n",
      "E[R] = 374.81\n",
      "\n",
      "\n",
      "---------------------------------\n",
      "--- Currently at treshold: 39 ---\n",
      "---------------------------------\n",
      "⌛ Creating task objects...\n"
     ]
    },
    {
     "name": "stderr",
     "output_type": "stream",
     "text": [
      "2329133it [01:40, 23254.23it/s]\n"
     ]
    },
    {
     "name": "stdout",
     "output_type": "stream",
     "text": [
      "✔️ Objects created!\n",
      "\n",
      "⌛ Running the 'simulation'...\n"
     ]
    },
    {
     "name": "stderr",
     "output_type": "stream",
     "text": [
      "100%|██████████| 2329133/2329133 [00:12<00:00, 182981.79it/s]\n"
     ]
    },
    {
     "name": "stdout",
     "output_type": "stream",
     "text": [
      "✔️ 'Simulation' completed!\n",
      "\n",
      "E[R] = 368.3\n",
      "\n",
      "\n",
      "---------------------------------\n",
      "--- Currently at treshold: 40 ---\n",
      "---------------------------------\n",
      "⌛ Creating task objects...\n"
     ]
    },
    {
     "name": "stderr",
     "output_type": "stream",
     "text": [
      "2329133it [01:39, 23312.49it/s]\n"
     ]
    },
    {
     "name": "stdout",
     "output_type": "stream",
     "text": [
      "✔️ Objects created!\n",
      "\n",
      "⌛ Running the 'simulation'...\n"
     ]
    },
    {
     "name": "stderr",
     "output_type": "stream",
     "text": [
      "100%|██████████| 2329133/2329133 [00:12<00:00, 184975.34it/s]\n"
     ]
    },
    {
     "name": "stdout",
     "output_type": "stream",
     "text": [
      "✔️ 'Simulation' completed!\n",
      "\n",
      "E[R] = 362.6\n",
      "\n",
      "\n",
      "---------------------------------\n",
      "--- Currently at treshold: 41 ---\n",
      "---------------------------------\n",
      "⌛ Creating task objects...\n"
     ]
    },
    {
     "name": "stderr",
     "output_type": "stream",
     "text": [
      "2329133it [01:40, 23137.48it/s]\n"
     ]
    },
    {
     "name": "stdout",
     "output_type": "stream",
     "text": [
      "✔️ Objects created!\n",
      "\n",
      "⌛ Running the 'simulation'...\n"
     ]
    },
    {
     "name": "stderr",
     "output_type": "stream",
     "text": [
      "100%|██████████| 2329133/2329133 [00:12<00:00, 186598.06it/s]\n"
     ]
    },
    {
     "name": "stdout",
     "output_type": "stream",
     "text": [
      "✔️ 'Simulation' completed!\n",
      "\n",
      "E[R] = 357.65\n",
      "\n",
      "\n",
      "---------------------------------\n",
      "--- Currently at treshold: 42 ---\n",
      "---------------------------------\n",
      "⌛ Creating task objects...\n"
     ]
    },
    {
     "name": "stderr",
     "output_type": "stream",
     "text": [
      "2329133it [01:40, 23280.95it/s]\n"
     ]
    },
    {
     "name": "stdout",
     "output_type": "stream",
     "text": [
      "✔️ Objects created!\n",
      "\n",
      "⌛ Running the 'simulation'...\n"
     ]
    },
    {
     "name": "stderr",
     "output_type": "stream",
     "text": [
      "100%|██████████| 2329133/2329133 [00:12<00:00, 186267.43it/s]\n"
     ]
    },
    {
     "name": "stdout",
     "output_type": "stream",
     "text": [
      "✔️ 'Simulation' completed!\n",
      "\n",
      "E[R] = 353.39\n",
      "\n",
      "\n",
      "---------------------------------\n",
      "--- Currently at treshold: 43 ---\n",
      "---------------------------------\n",
      "⌛ Creating task objects...\n"
     ]
    },
    {
     "name": "stderr",
     "output_type": "stream",
     "text": [
      "2329133it [01:40, 23097.95it/s]\n"
     ]
    },
    {
     "name": "stdout",
     "output_type": "stream",
     "text": [
      "✔️ Objects created!\n",
      "\n",
      "⌛ Running the 'simulation'...\n"
     ]
    },
    {
     "name": "stderr",
     "output_type": "stream",
     "text": [
      "100%|██████████| 2329133/2329133 [00:12<00:00, 182510.77it/s]\n"
     ]
    },
    {
     "name": "stdout",
     "output_type": "stream",
     "text": [
      "✔️ 'Simulation' completed!\n",
      "\n",
      "E[R] = 349.86\n",
      "\n",
      "\n",
      "---------------------------------\n",
      "--- Currently at treshold: 44 ---\n",
      "---------------------------------\n",
      "⌛ Creating task objects...\n"
     ]
    },
    {
     "name": "stderr",
     "output_type": "stream",
     "text": [
      "2329133it [01:41, 23050.90it/s]\n"
     ]
    },
    {
     "name": "stdout",
     "output_type": "stream",
     "text": [
      "✔️ Objects created!\n",
      "\n",
      "⌛ Running the 'simulation'...\n"
     ]
    },
    {
     "name": "stderr",
     "output_type": "stream",
     "text": [
      "100%|██████████| 2329133/2329133 [00:12<00:00, 186618.21it/s]\n"
     ]
    },
    {
     "name": "stdout",
     "output_type": "stream",
     "text": [
      "✔️ 'Simulation' completed!\n",
      "\n",
      "E[R] = 347.13\n",
      "\n",
      "\n",
      "---------------------------------\n",
      "--- Currently at treshold: 45 ---\n",
      "---------------------------------\n",
      "⌛ Creating task objects...\n"
     ]
    },
    {
     "name": "stderr",
     "output_type": "stream",
     "text": [
      "2329133it [01:40, 23152.52it/s]\n"
     ]
    },
    {
     "name": "stdout",
     "output_type": "stream",
     "text": [
      "✔️ Objects created!\n",
      "\n",
      "⌛ Running the 'simulation'...\n"
     ]
    },
    {
     "name": "stderr",
     "output_type": "stream",
     "text": [
      "100%|██████████| 2329133/2329133 [00:12<00:00, 183857.67it/s]\n"
     ]
    },
    {
     "name": "stdout",
     "output_type": "stream",
     "text": [
      "✔️ 'Simulation' completed!\n",
      "\n",
      "E[R] = 345.04\n",
      "\n",
      "\n",
      "---------------------------------\n",
      "--- Currently at treshold: 46 ---\n",
      "---------------------------------\n",
      "⌛ Creating task objects...\n"
     ]
    },
    {
     "name": "stderr",
     "output_type": "stream",
     "text": [
      "2329133it [01:40, 23237.80it/s]\n"
     ]
    },
    {
     "name": "stdout",
     "output_type": "stream",
     "text": [
      "✔️ Objects created!\n",
      "\n",
      "⌛ Running the 'simulation'...\n"
     ]
    },
    {
     "name": "stderr",
     "output_type": "stream",
     "text": [
      "100%|██████████| 2329133/2329133 [00:12<00:00, 186203.33it/s]\n"
     ]
    },
    {
     "name": "stdout",
     "output_type": "stream",
     "text": [
      "✔️ 'Simulation' completed!\n",
      "\n",
      "E[R] = 343.87\n",
      "\n",
      "\n",
      "---------------------------------\n",
      "--- Currently at treshold: 47 ---\n",
      "---------------------------------\n",
      "⌛ Creating task objects...\n"
     ]
    },
    {
     "name": "stderr",
     "output_type": "stream",
     "text": [
      "2329133it [01:40, 23167.20it/s]\n"
     ]
    },
    {
     "name": "stdout",
     "output_type": "stream",
     "text": [
      "✔️ Objects created!\n",
      "\n",
      "⌛ Running the 'simulation'...\n"
     ]
    },
    {
     "name": "stderr",
     "output_type": "stream",
     "text": [
      "100%|██████████| 2329133/2329133 [00:12<00:00, 184596.17it/s]\n"
     ]
    },
    {
     "name": "stdout",
     "output_type": "stream",
     "text": [
      "✔️ 'Simulation' completed!\n",
      "\n",
      "E[R] = 343.74\n",
      "\n",
      "\n",
      "---------------------------------\n",
      "--- Currently at treshold: 48 ---\n",
      "---------------------------------\n",
      "⌛ Creating task objects...\n"
     ]
    },
    {
     "name": "stderr",
     "output_type": "stream",
     "text": [
      "2329133it [01:40, 23224.64it/s]\n"
     ]
    },
    {
     "name": "stdout",
     "output_type": "stream",
     "text": [
      "✔️ Objects created!\n",
      "\n",
      "⌛ Running the 'simulation'...\n"
     ]
    },
    {
     "name": "stderr",
     "output_type": "stream",
     "text": [
      "100%|██████████| 2329133/2329133 [00:12<00:00, 180447.78it/s]\n"
     ]
    },
    {
     "name": "stdout",
     "output_type": "stream",
     "text": [
      "✔️ 'Simulation' completed!\n",
      "\n",
      "E[R] = 344.86\n",
      "\n",
      "\n",
      "---------------------------------\n",
      "--- Currently at treshold: 49 ---\n",
      "---------------------------------\n",
      "⌛ Creating task objects...\n"
     ]
    },
    {
     "name": "stderr",
     "output_type": "stream",
     "text": [
      "2329133it [01:40, 23150.29it/s]\n"
     ]
    },
    {
     "name": "stdout",
     "output_type": "stream",
     "text": [
      "✔️ Objects created!\n",
      "\n",
      "⌛ Running the 'simulation'...\n"
     ]
    },
    {
     "name": "stderr",
     "output_type": "stream",
     "text": [
      "100%|██████████| 2329133/2329133 [00:12<00:00, 185362.18it/s]\n"
     ]
    },
    {
     "name": "stdout",
     "output_type": "stream",
     "text": [
      "✔️ 'Simulation' completed!\n",
      "\n",
      "E[R] = 346.96\n",
      "\n",
      "\n",
      "---------------------------------\n",
      "--- Currently at treshold: 50 ---\n",
      "---------------------------------\n",
      "⌛ Creating task objects...\n"
     ]
    },
    {
     "name": "stderr",
     "output_type": "stream",
     "text": [
      "2329133it [01:41, 23038.44it/s]\n"
     ]
    },
    {
     "name": "stdout",
     "output_type": "stream",
     "text": [
      "✔️ Objects created!\n",
      "\n",
      "⌛ Running the 'simulation'...\n"
     ]
    },
    {
     "name": "stderr",
     "output_type": "stream",
     "text": [
      "100%|██████████| 2329133/2329133 [00:12<00:00, 182713.05it/s]\n"
     ]
    },
    {
     "name": "stdout",
     "output_type": "stream",
     "text": [
      "✔️ 'Simulation' completed!\n",
      "\n",
      "E[R] = 350.5\n",
      "\n",
      "\n",
      "---------------------------------\n",
      "--- Currently at treshold: 51 ---\n",
      "---------------------------------\n",
      "⌛ Creating task objects...\n"
     ]
    },
    {
     "name": "stderr",
     "output_type": "stream",
     "text": [
      "2329133it [01:41, 23049.05it/s]\n"
     ]
    },
    {
     "name": "stdout",
     "output_type": "stream",
     "text": [
      "✔️ Objects created!\n",
      "\n",
      "⌛ Running the 'simulation'...\n"
     ]
    },
    {
     "name": "stderr",
     "output_type": "stream",
     "text": [
      "100%|██████████| 2329133/2329133 [00:12<00:00, 184124.18it/s]\n"
     ]
    },
    {
     "name": "stdout",
     "output_type": "stream",
     "text": [
      "✔️ 'Simulation' completed!\n",
      "\n",
      "E[R] = 355.74\n",
      "\n",
      "\n",
      "---------------------------------\n",
      "--- Currently at treshold: 52 ---\n",
      "---------------------------------\n",
      "⌛ Creating task objects...\n"
     ]
    },
    {
     "name": "stderr",
     "output_type": "stream",
     "text": [
      "2329133it [01:40, 23098.92it/s]\n"
     ]
    },
    {
     "name": "stdout",
     "output_type": "stream",
     "text": [
      "✔️ Objects created!\n",
      "\n",
      "⌛ Running the 'simulation'...\n"
     ]
    },
    {
     "name": "stderr",
     "output_type": "stream",
     "text": [
      "100%|██████████| 2329133/2329133 [00:12<00:00, 186235.89it/s]\n"
     ]
    },
    {
     "name": "stdout",
     "output_type": "stream",
     "text": [
      "✔️ 'Simulation' completed!\n",
      "\n",
      "E[R] = 363.04\n",
      "\n",
      "\n",
      "---------------------------------\n",
      "--- Currently at treshold: 53 ---\n",
      "---------------------------------\n",
      "⌛ Creating task objects...\n"
     ]
    },
    {
     "name": "stderr",
     "output_type": "stream",
     "text": [
      "2329133it [01:41, 23056.50it/s]\n"
     ]
    },
    {
     "name": "stdout",
     "output_type": "stream",
     "text": [
      "✔️ Objects created!\n",
      "\n",
      "⌛ Running the 'simulation'...\n"
     ]
    },
    {
     "name": "stderr",
     "output_type": "stream",
     "text": [
      "100%|██████████| 2329133/2329133 [00:12<00:00, 184782.29it/s]\n"
     ]
    },
    {
     "name": "stdout",
     "output_type": "stream",
     "text": [
      "✔️ 'Simulation' completed!\n",
      "\n",
      "E[R] = 372.78\n",
      "\n",
      "\n",
      "---------------------------------\n",
      "--- Currently at treshold: 54 ---\n",
      "---------------------------------\n",
      "⌛ Creating task objects...\n"
     ]
    },
    {
     "name": "stderr",
     "output_type": "stream",
     "text": [
      "2329133it [01:40, 23148.02it/s]\n"
     ]
    },
    {
     "name": "stdout",
     "output_type": "stream",
     "text": [
      "✔️ Objects created!\n",
      "\n",
      "⌛ Running the 'simulation'...\n"
     ]
    },
    {
     "name": "stderr",
     "output_type": "stream",
     "text": [
      "100%|██████████| 2329133/2329133 [00:12<00:00, 186242.63it/s]\n"
     ]
    },
    {
     "name": "stdout",
     "output_type": "stream",
     "text": [
      "✔️ 'Simulation' completed!\n",
      "\n",
      "E[R] = 385.62\n",
      "\n",
      "\n",
      "---------------------------------\n",
      "--- Currently at treshold: 55 ---\n",
      "---------------------------------\n",
      "⌛ Creating task objects...\n"
     ]
    },
    {
     "name": "stderr",
     "output_type": "stream",
     "text": [
      "2329133it [01:40, 23100.86it/s]\n"
     ]
    },
    {
     "name": "stdout",
     "output_type": "stream",
     "text": [
      "✔️ Objects created!\n",
      "\n",
      "⌛ Running the 'simulation'...\n"
     ]
    },
    {
     "name": "stderr",
     "output_type": "stream",
     "text": [
      "100%|██████████| 2329133/2329133 [00:12<00:00, 180904.03it/s]\n"
     ]
    },
    {
     "name": "stdout",
     "output_type": "stream",
     "text": [
      "✔️ 'Simulation' completed!\n",
      "\n",
      "E[R] = 401.77\n",
      "\n",
      "\n",
      "---------------------------------\n",
      "--- Currently at treshold: 56 ---\n",
      "---------------------------------\n",
      "⌛ Creating task objects...\n"
     ]
    },
    {
     "name": "stderr",
     "output_type": "stream",
     "text": [
      "2329133it [01:40, 23231.94it/s]\n"
     ]
    },
    {
     "name": "stdout",
     "output_type": "stream",
     "text": [
      "✔️ Objects created!\n",
      "\n",
      "⌛ Running the 'simulation'...\n"
     ]
    },
    {
     "name": "stderr",
     "output_type": "stream",
     "text": [
      "100%|██████████| 2329133/2329133 [00:12<00:00, 183760.65it/s]\n"
     ]
    },
    {
     "name": "stdout",
     "output_type": "stream",
     "text": [
      "✔️ 'Simulation' completed!\n",
      "\n",
      "E[R] = 423.72\n",
      "\n",
      "\n",
      "---------------------------------\n",
      "--- Currently at treshold: 57 ---\n",
      "---------------------------------\n",
      "⌛ Creating task objects...\n"
     ]
    },
    {
     "name": "stderr",
     "output_type": "stream",
     "text": [
      "2329133it [01:41, 22963.59it/s]\n"
     ]
    },
    {
     "name": "stdout",
     "output_type": "stream",
     "text": [
      "✔️ Objects created!\n",
      "\n",
      "⌛ Running the 'simulation'...\n"
     ]
    },
    {
     "name": "stderr",
     "output_type": "stream",
     "text": [
      "100%|██████████| 2329133/2329133 [00:12<00:00, 183601.31it/s]\n"
     ]
    },
    {
     "name": "stdout",
     "output_type": "stream",
     "text": [
      "✔️ 'Simulation' completed!\n",
      "\n",
      "E[R] = 453.25\n",
      "\n",
      "\n",
      "---------------------------------\n",
      "--- Currently at treshold: 58 ---\n",
      "---------------------------------\n",
      "⌛ Creating task objects...\n"
     ]
    },
    {
     "name": "stderr",
     "output_type": "stream",
     "text": [
      "2329133it [01:40, 23198.33it/s]\n"
     ]
    },
    {
     "name": "stdout",
     "output_type": "stream",
     "text": [
      "✔️ Objects created!\n",
      "\n",
      "⌛ Running the 'simulation'...\n"
     ]
    },
    {
     "name": "stderr",
     "output_type": "stream",
     "text": [
      "100%|██████████| 2329133/2329133 [00:12<00:00, 184056.43it/s]\n"
     ]
    },
    {
     "name": "stdout",
     "output_type": "stream",
     "text": [
      "✔️ 'Simulation' completed!\n",
      "\n",
      "E[R] = 494.07\n",
      "\n",
      "\n",
      "---------------------------------\n",
      "--- Currently at treshold: 59 ---\n",
      "---------------------------------\n",
      "⌛ Creating task objects...\n"
     ]
    },
    {
     "name": "stderr",
     "output_type": "stream",
     "text": [
      "2329133it [01:40, 23081.72it/s]\n"
     ]
    },
    {
     "name": "stdout",
     "output_type": "stream",
     "text": [
      "✔️ Objects created!\n",
      "\n",
      "⌛ Running the 'simulation'...\n"
     ]
    },
    {
     "name": "stderr",
     "output_type": "stream",
     "text": [
      "100%|██████████| 2329133/2329133 [00:12<00:00, 184371.93it/s]\n"
     ]
    },
    {
     "name": "stdout",
     "output_type": "stream",
     "text": [
      "✔️ 'Simulation' completed!\n",
      "\n",
      "E[R] = 553.69\n",
      "\n",
      "\n",
      "---------------------------------\n",
      "--- Currently at treshold: 60 ---\n",
      "---------------------------------\n",
      "⌛ Creating task objects...\n"
     ]
    },
    {
     "name": "stderr",
     "output_type": "stream",
     "text": [
      "2329133it [01:40, 23070.52it/s]\n"
     ]
    },
    {
     "name": "stdout",
     "output_type": "stream",
     "text": [
      "✔️ Objects created!\n",
      "\n",
      "⌛ Running the 'simulation'...\n"
     ]
    },
    {
     "name": "stderr",
     "output_type": "stream",
     "text": [
      "100%|██████████| 2329133/2329133 [00:12<00:00, 186244.84it/s]\n"
     ]
    },
    {
     "name": "stdout",
     "output_type": "stream",
     "text": [
      "✔️ 'Simulation' completed!\n",
      "\n",
      "E[R] = 644.12\n",
      "\n",
      "\n",
      "---------------------------------\n",
      "--- Currently at treshold: 61 ---\n",
      "---------------------------------\n",
      "⌛ Creating task objects...\n"
     ]
    },
    {
     "name": "stderr",
     "output_type": "stream",
     "text": [
      "2329133it [01:40, 23120.93it/s]\n"
     ]
    },
    {
     "name": "stdout",
     "output_type": "stream",
     "text": [
      "✔️ Objects created!\n",
      "\n",
      "⌛ Running the 'simulation'...\n"
     ]
    },
    {
     "name": "stderr",
     "output_type": "stream",
     "text": [
      "100%|██████████| 2329133/2329133 [00:12<00:00, 184038.71it/s]\n"
     ]
    },
    {
     "name": "stdout",
     "output_type": "stream",
     "text": [
      "✔️ 'Simulation' completed!\n",
      "\n",
      "E[R] = 797.6\n",
      "\n",
      "\n",
      "---------------------------------\n",
      "--- Currently at treshold: 62 ---\n",
      "---------------------------------\n",
      "⌛ Creating task objects...\n"
     ]
    },
    {
     "name": "stderr",
     "output_type": "stream",
     "text": [
      "2329133it [01:41, 23048.22it/s]\n"
     ]
    },
    {
     "name": "stdout",
     "output_type": "stream",
     "text": [
      "✔️ Objects created!\n",
      "\n",
      "⌛ Running the 'simulation'...\n"
     ]
    },
    {
     "name": "stderr",
     "output_type": "stream",
     "text": [
      "100%|██████████| 2329133/2329133 [00:12<00:00, 187572.55it/s]\n"
     ]
    },
    {
     "name": "stdout",
     "output_type": "stream",
     "text": [
      "✔️ 'Simulation' completed!\n",
      "\n",
      "E[R] = 1108.32\n",
      "\n",
      "\n",
      "---------------------------------\n",
      "--- Currently at treshold: 63 ---\n",
      "---------------------------------\n",
      "⌛ Creating task objects...\n"
     ]
    },
    {
     "name": "stderr",
     "output_type": "stream",
     "text": [
      "2329133it [01:40, 23093.96it/s]\n"
     ]
    },
    {
     "name": "stdout",
     "output_type": "stream",
     "text": [
      "✔️ Objects created!\n",
      "\n",
      "⌛ Running the 'simulation'...\n"
     ]
    },
    {
     "name": "stderr",
     "output_type": "stream",
     "text": [
      "100%|██████████| 2329133/2329133 [00:12<00:00, 184459.27it/s]\n"
     ]
    },
    {
     "name": "stdout",
     "output_type": "stream",
     "text": [
      "✔️ 'Simulation' completed!\n",
      "\n",
      "E[R] = 2046.64\n",
      "\n",
      "\n",
      "\n",
      "\n",
      "Best combination to use:\n",
      "- (47, 17) --> E[R]=343.744\n",
      "- (46, 18) --> E[R]=343.867\n",
      "- (48, 16) --> E[R]=344.865\n",
      "- (45, 19) --> E[R]=345.042\n",
      "- (49, 15) --> E[R]=346.957\n",
      "- (44, 20) --> E[R]=347.133\n",
      "- (43, 21) --> E[R]=349.863\n",
      "- (50, 14) --> E[R]=350.499\n",
      "- (42, 22) --> E[R]=353.392\n",
      "- (51, 13) --> E[R]=355.737\n",
      "- (41, 23) --> E[R]=357.647\n",
      "- (40, 24) --> E[R]=362.603\n",
      "- (52, 12) --> E[R]=363.045\n",
      "- (39, 25) --> E[R]=368.303\n",
      "- (53, 11) --> E[R]=372.777\n",
      "- (38, 26) --> E[R]=374.806\n",
      "- (37, 27) --> E[R]=382.1\n",
      "- (54, 10) --> E[R]=385.616\n",
      "- (36, 28) --> E[R]=390.207\n",
      "- (35, 29) --> E[R]=399.2\n",
      "- (55, 9) --> E[R]=401.767\n",
      "- (34, 30) --> E[R]=409.044\n",
      "- (33, 31) --> E[R]=419.827\n",
      "- (56, 8) --> E[R]=423.72\n",
      "- (32, 32) --> E[R]=431.579\n",
      "- (31, 33) --> E[R]=444.408\n",
      "- (57, 7) --> E[R]=453.248\n",
      "- (30, 34) --> E[R]=458.505\n",
      "- (29, 35) --> E[R]=473.978\n",
      "- (28, 36) --> E[R]=490.889\n",
      "- (58, 6) --> E[R]=494.066\n",
      "- (27, 37) --> E[R]=509.42\n",
      "- (26, 38) --> E[R]=529.796\n",
      "- (25, 39) --> E[R]=552.185\n",
      "- (59, 5) --> E[R]=553.685\n",
      "- (24, 40) --> E[R]=576.726\n",
      "- (23, 41) --> E[R]=603.797\n",
      "- (22, 42) --> E[R]=633.625\n",
      "- (60, 4) --> E[R]=644.12\n",
      "- (21, 43) --> E[R]=666.564\n",
      "- (20, 44) --> E[R]=703.185\n",
      "- (19, 45) --> E[R]=744.034\n",
      "- (18, 46) --> E[R]=789.754\n",
      "- (61, 3) --> E[R]=797.598\n",
      "- (17, 47) --> E[R]=840.894\n",
      "- (16, 48) --> E[R]=899.243\n",
      "- (15, 49) --> E[R]=966.166\n",
      "- (14, 50) --> E[R]=1043.072\n",
      "- (62, 2) --> E[R]=1108.316\n",
      "- (13, 51) --> E[R]=1132.891\n",
      "- (12, 52) --> E[R]=1239.054\n",
      "- (11, 53) --> E[R]=1365.282\n",
      "- (10, 54) --> E[R]=1512.965\n",
      "- (9, 55) --> E[R]=1694.81\n",
      "- (8, 56) --> E[R]=1926.324\n",
      "- (63, 1) --> E[R]=2046.637\n",
      "- (7, 57) --> E[R]=2228.826\n",
      "- (6, 58) --> E[R]=2625.406\n",
      "- (5, 59) --> E[R]=3176.661\n",
      "- (4, 60) --> E[R]=4033.975\n",
      "- (3, 61) --> E[R]=5501.522\n",
      "- (2, 62) --> E[R]=8501.642\n",
      "- (1, 63) --> E[R]=17307.945\n"
     ]
    }
   ],
   "source": [
    "def LWL(task, servers, treshold):\n",
    "    \n",
    "    min_workload = float('inf')\n",
    "    selected_server = None\n",
    "\n",
    "    if task.n_tasks <= 2:\n",
    "        idx_server = min(range(treshold), key=lambda i: servers[i].workload)\n",
    "        selected_server = servers[idx_server]\n",
    "    else:\n",
    "        idx_server = min(range(treshold, 64), key=lambda i: servers[i].workload)\n",
    "        selected_server = servers[idx_server]\n",
    "\n",
    "    selected_server.assign_task(task)\n",
    "\n",
    "# sub_data = data.head(100_000)\n",
    "# simulation(sub_data, N)\n",
    "\n",
    "tresholds = np.arange(1, 64)\n",
    "R_dict = dict()\n",
    "\n",
    "for treshold in tresholds:\n",
    "    print('-' * 33)\n",
    "    print(f'--- Currently at treshold: {treshold} ---')\n",
    "    print('-' * 33)\n",
    "    simulation(data, N, treshold)\n",
    "    rows = []\n",
    "    for task in tasks:\n",
    "        new_row = vars(task)\n",
    "        row = {key: val for key, val in new_row.items()}\n",
    "        rows.append(row)\n",
    "\n",
    "    df_tasks = pd.DataFrame(rows)\n",
    "    df_tasks['final_time'] = df_tasks['ta'] + df_tasks['end_time']\n",
    "\n",
    "    stats_df = df_tasks.groupby('jid').agg({'ta': 'min', 'final_time': 'max', 'X': 'sum'})\n",
    "    stats_df = stats_df.rename(columns={'ta': 'min_ta', 'final_time': 'max_ta_end_time', 'X': 'tot_job_X'})\n",
    "    stats_df['R'] = stats_df['max_ta_end_time'] - stats_df['min_ta']\n",
    "    stats_df = stats_df.reset_index()\n",
    "    R_dict[treshold] = stats_df['R'].mean()\n",
    "    print(f'\\nE[R] = {round(stats_df[\"R\"].mean(), 2)}')\n",
    "    print('\\n')\n",
    "    \n",
    "\n",
    "print('\\n\\nBest combination to use:')\n",
    "R_dict_sorted = dict(sorted(R_dict.items(), key=lambda x: x[1]))\n",
    "for key, value in R_dict_sorted.items():\n",
    "    print(f'- ({key}, {64-key}) --> E[R]={round(value, 3)}')"
   ]
  },
  {
   "cell_type": "code",
   "execution_count": null,
   "metadata": {},
   "outputs": [
    {
     "name": "stdout",
     "output_type": "stream",
     "text": [
      "---------------------------------\n",
      "--- Currently at treshold: 1 ---\n",
      "---------------------------------\n",
      "⌛ Creating task objects...\n"
     ]
    },
    {
     "name": "stderr",
     "output_type": "stream",
     "text": [
      "2329133it [01:40, 23225.22it/s]\n"
     ]
    },
    {
     "name": "stdout",
     "output_type": "stream",
     "text": [
      "✔️ Objects created!\n",
      "\n",
      "⌛ Running the 'simulation'...\n"
     ]
    },
    {
     "name": "stderr",
     "output_type": "stream",
     "text": [
      "100%|██████████| 2329133/2329133 [00:12<00:00, 192471.57it/s]\n"
     ]
    },
    {
     "name": "stdout",
     "output_type": "stream",
     "text": [
      "✔️ 'Simulation' completed!\n",
      "\n",
      "E[R] = 24156.96\n",
      "\n",
      "\n",
      "---------------------------------\n",
      "--- Currently at treshold: 2 ---\n",
      "---------------------------------\n",
      "⌛ Creating task objects...\n"
     ]
    },
    {
     "name": "stderr",
     "output_type": "stream",
     "text": [
      "2329133it [01:39, 23473.61it/s]\n"
     ]
    },
    {
     "name": "stdout",
     "output_type": "stream",
     "text": [
      "✔️ Objects created!\n",
      "\n",
      "⌛ Running the 'simulation'...\n"
     ]
    },
    {
     "name": "stderr",
     "output_type": "stream",
     "text": [
      "100%|██████████| 2329133/2329133 [00:12<00:00, 189510.26it/s]\n"
     ]
    },
    {
     "name": "stdout",
     "output_type": "stream",
     "text": [
      "✔️ 'Simulation' completed!\n",
      "\n",
      "E[R] = 11966.77\n",
      "\n",
      "\n",
      "---------------------------------\n",
      "--- Currently at treshold: 3 ---\n",
      "---------------------------------\n",
      "⌛ Creating task objects...\n"
     ]
    },
    {
     "name": "stderr",
     "output_type": "stream",
     "text": [
      "2329133it [01:39, 23316.73it/s]\n"
     ]
    },
    {
     "name": "stdout",
     "output_type": "stream",
     "text": [
      "✔️ Objects created!\n",
      "\n",
      "⌛ Running the 'simulation'...\n"
     ]
    },
    {
     "name": "stderr",
     "output_type": "stream",
     "text": [
      "100%|██████████| 2329133/2329133 [00:12<00:00, 188792.65it/s]\n"
     ]
    },
    {
     "name": "stdout",
     "output_type": "stream",
     "text": [
      "✔️ 'Simulation' completed!\n",
      "\n",
      "E[R] = 7872.47\n",
      "\n",
      "\n",
      "---------------------------------\n",
      "--- Currently at treshold: 4 ---\n",
      "---------------------------------\n",
      "⌛ Creating task objects...\n"
     ]
    },
    {
     "name": "stderr",
     "output_type": "stream",
     "text": [
      "2329133it [01:40, 23255.45it/s]\n"
     ]
    },
    {
     "name": "stdout",
     "output_type": "stream",
     "text": [
      "✔️ Objects created!\n",
      "\n",
      "⌛ Running the 'simulation'...\n"
     ]
    },
    {
     "name": "stderr",
     "output_type": "stream",
     "text": [
      "100%|██████████| 2329133/2329133 [00:12<00:00, 183854.46it/s]\n"
     ]
    },
    {
     "name": "stdout",
     "output_type": "stream",
     "text": [
      "✔️ 'Simulation' completed!\n",
      "\n",
      "E[R] = 5825.18\n",
      "\n",
      "\n",
      "---------------------------------\n",
      "--- Currently at treshold: 5 ---\n",
      "---------------------------------\n",
      "⌛ Creating task objects...\n"
     ]
    },
    {
     "name": "stderr",
     "output_type": "stream",
     "text": [
      "2329133it [01:40, 23169.46it/s]\n"
     ]
    },
    {
     "name": "stdout",
     "output_type": "stream",
     "text": [
      "✔️ Objects created!\n",
      "\n",
      "⌛ Running the 'simulation'...\n"
     ]
    },
    {
     "name": "stderr",
     "output_type": "stream",
     "text": [
      "100%|██████████| 2329133/2329133 [00:12<00:00, 188846.10it/s]\n"
     ]
    },
    {
     "name": "stdout",
     "output_type": "stream",
     "text": [
      "✔️ 'Simulation' completed!\n",
      "\n",
      "E[R] = 4601.44\n",
      "\n",
      "\n",
      "---------------------------------\n",
      "--- Currently at treshold: 6 ---\n",
      "---------------------------------\n",
      "⌛ Creating task objects...\n"
     ]
    },
    {
     "name": "stderr",
     "output_type": "stream",
     "text": [
      "2329133it [01:39, 23403.97it/s]\n"
     ]
    },
    {
     "name": "stdout",
     "output_type": "stream",
     "text": [
      "✔️ Objects created!\n",
      "\n",
      "⌛ Running the 'simulation'...\n"
     ]
    },
    {
     "name": "stderr",
     "output_type": "stream",
     "text": [
      "100%|██████████| 2329133/2329133 [00:12<00:00, 188366.63it/s]\n"
     ]
    },
    {
     "name": "stdout",
     "output_type": "stream",
     "text": [
      "✔️ 'Simulation' completed!\n",
      "\n",
      "E[R] = 3798.45\n",
      "\n",
      "\n",
      "---------------------------------\n",
      "--- Currently at treshold: 7 ---\n",
      "---------------------------------\n",
      "⌛ Creating task objects...\n"
     ]
    },
    {
     "name": "stderr",
     "output_type": "stream",
     "text": [
      "2329133it [01:40, 23223.80it/s]\n"
     ]
    },
    {
     "name": "stdout",
     "output_type": "stream",
     "text": [
      "✔️ Objects created!\n",
      "\n",
      "⌛ Running the 'simulation'...\n"
     ]
    },
    {
     "name": "stderr",
     "output_type": "stream",
     "text": [
      "100%|██████████| 2329133/2329133 [00:12<00:00, 188435.60it/s]\n"
     ]
    },
    {
     "name": "stdout",
     "output_type": "stream",
     "text": [
      "✔️ 'Simulation' completed!\n",
      "\n",
      "E[R] = 3229.28\n",
      "\n",
      "\n",
      "---------------------------------\n",
      "--- Currently at treshold: 8 ---\n",
      "---------------------------------\n",
      "⌛ Creating task objects...\n"
     ]
    },
    {
     "name": "stderr",
     "output_type": "stream",
     "text": [
      "2329133it [01:39, 23308.88it/s]\n"
     ]
    },
    {
     "name": "stdout",
     "output_type": "stream",
     "text": [
      "✔️ Objects created!\n",
      "\n",
      "⌛ Running the 'simulation'...\n"
     ]
    },
    {
     "name": "stderr",
     "output_type": "stream",
     "text": [
      "100%|██████████| 2329133/2329133 [00:12<00:00, 185567.11it/s]\n"
     ]
    },
    {
     "name": "stdout",
     "output_type": "stream",
     "text": [
      "✔️ 'Simulation' completed!\n",
      "\n",
      "E[R] = 2803.22\n",
      "\n",
      "\n",
      "---------------------------------\n",
      "--- Currently at treshold: 9 ---\n",
      "---------------------------------\n",
      "⌛ Creating task objects...\n"
     ]
    },
    {
     "name": "stderr",
     "output_type": "stream",
     "text": [
      "2329133it [01:40, 23287.44it/s]\n"
     ]
    },
    {
     "name": "stdout",
     "output_type": "stream",
     "text": [
      "✔️ Objects created!\n",
      "\n",
      "⌛ Running the 'simulation'...\n"
     ]
    },
    {
     "name": "stderr",
     "output_type": "stream",
     "text": [
      "100%|██████████| 2329133/2329133 [00:12<00:00, 187393.25it/s]\n"
     ]
    },
    {
     "name": "stdout",
     "output_type": "stream",
     "text": [
      "✔️ 'Simulation' completed!\n",
      "\n",
      "E[R] = 2475.56\n",
      "\n",
      "\n",
      "---------------------------------\n",
      "--- Currently at treshold: 10 ---\n",
      "---------------------------------\n",
      "⌛ Creating task objects...\n"
     ]
    },
    {
     "name": "stderr",
     "output_type": "stream",
     "text": [
      "2329133it [01:40, 23131.00it/s]\n"
     ]
    },
    {
     "name": "stdout",
     "output_type": "stream",
     "text": [
      "✔️ Objects created!\n",
      "\n",
      "⌛ Running the 'simulation'...\n"
     ]
    },
    {
     "name": "stderr",
     "output_type": "stream",
     "text": [
      "100%|██████████| 2329133/2329133 [00:12<00:00, 190297.01it/s]\n"
     ]
    },
    {
     "name": "stdout",
     "output_type": "stream",
     "text": [
      "✔️ 'Simulation' completed!\n",
      "\n",
      "E[R] = 2215.22\n",
      "\n",
      "\n",
      "---------------------------------\n",
      "--- Currently at treshold: 11 ---\n",
      "---------------------------------\n",
      "⌛ Creating task objects...\n"
     ]
    },
    {
     "name": "stderr",
     "output_type": "stream",
     "text": [
      "2329133it [01:40, 23256.15it/s]\n"
     ]
    },
    {
     "name": "stdout",
     "output_type": "stream",
     "text": [
      "✔️ Objects created!\n",
      "\n",
      "⌛ Running the 'simulation'...\n"
     ]
    },
    {
     "name": "stderr",
     "output_type": "stream",
     "text": [
      "100%|██████████| 2329133/2329133 [00:12<00:00, 181590.01it/s]\n"
     ]
    },
    {
     "name": "stdout",
     "output_type": "stream",
     "text": [
      "✔️ 'Simulation' completed!\n",
      "\n",
      "E[R] = 2003.54\n",
      "\n",
      "\n",
      "---------------------------------\n",
      "--- Currently at treshold: 12 ---\n",
      "---------------------------------\n",
      "⌛ Creating task objects...\n"
     ]
    },
    {
     "name": "stderr",
     "output_type": "stream",
     "text": [
      "2329133it [01:39, 23293.01it/s]\n"
     ]
    },
    {
     "name": "stdout",
     "output_type": "stream",
     "text": [
      "✔️ Objects created!\n",
      "\n",
      "⌛ Running the 'simulation'...\n"
     ]
    },
    {
     "name": "stderr",
     "output_type": "stream",
     "text": [
      "100%|██████████| 2329133/2329133 [00:12<00:00, 185774.74it/s]\n"
     ]
    },
    {
     "name": "stdout",
     "output_type": "stream",
     "text": [
      "✔️ 'Simulation' completed!\n",
      "\n",
      "E[R] = 1824.93\n",
      "\n",
      "\n",
      "---------------------------------\n",
      "--- Currently at treshold: 13 ---\n",
      "---------------------------------\n",
      "⌛ Creating task objects...\n"
     ]
    },
    {
     "name": "stderr",
     "output_type": "stream",
     "text": [
      "2329133it [01:40, 23282.20it/s]\n"
     ]
    },
    {
     "name": "stdout",
     "output_type": "stream",
     "text": [
      "✔️ Objects created!\n",
      "\n",
      "⌛ Running the 'simulation'...\n"
     ]
    },
    {
     "name": "stderr",
     "output_type": "stream",
     "text": [
      "100%|██████████| 2329133/2329133 [00:12<00:00, 183313.28it/s]\n"
     ]
    },
    {
     "name": "stdout",
     "output_type": "stream",
     "text": [
      "✔️ 'Simulation' completed!\n",
      "\n",
      "E[R] = 1672.91\n",
      "\n",
      "\n",
      "---------------------------------\n",
      "--- Currently at treshold: 14 ---\n",
      "---------------------------------\n",
      "⌛ Creating task objects...\n"
     ]
    },
    {
     "name": "stderr",
     "output_type": "stream",
     "text": [
      "2329133it [01:40, 23285.52it/s]\n"
     ]
    },
    {
     "name": "stdout",
     "output_type": "stream",
     "text": [
      "✔️ Objects created!\n",
      "\n",
      "⌛ Running the 'simulation'...\n"
     ]
    },
    {
     "name": "stderr",
     "output_type": "stream",
     "text": [
      "100%|██████████| 2329133/2329133 [00:12<00:00, 181972.94it/s]\n"
     ]
    },
    {
     "name": "stdout",
     "output_type": "stream",
     "text": [
      "✔️ 'Simulation' completed!\n",
      "\n",
      "E[R] = 1543.99\n",
      "\n",
      "\n",
      "---------------------------------\n",
      "--- Currently at treshold: 15 ---\n",
      "---------------------------------\n",
      "⌛ Creating task objects...\n"
     ]
    },
    {
     "name": "stderr",
     "output_type": "stream",
     "text": [
      "2329133it [01:40, 23233.81it/s]\n"
     ]
    },
    {
     "name": "stdout",
     "output_type": "stream",
     "text": [
      "✔️ Objects created!\n",
      "\n",
      "⌛ Running the 'simulation'...\n"
     ]
    },
    {
     "name": "stderr",
     "output_type": "stream",
     "text": [
      "100%|██████████| 2329133/2329133 [00:12<00:00, 183384.08it/s]\n"
     ]
    },
    {
     "name": "stdout",
     "output_type": "stream",
     "text": [
      "✔️ 'Simulation' completed!\n",
      "\n",
      "E[R] = 1431.59\n",
      "\n",
      "\n",
      "---------------------------------\n",
      "--- Currently at treshold: 16 ---\n",
      "---------------------------------\n",
      "⌛ Creating task objects...\n"
     ]
    },
    {
     "name": "stderr",
     "output_type": "stream",
     "text": [
      "2329133it [01:40, 23167.89it/s]\n"
     ]
    },
    {
     "name": "stdout",
     "output_type": "stream",
     "text": [
      "✔️ Objects created!\n",
      "\n",
      "⌛ Running the 'simulation'...\n"
     ]
    },
    {
     "name": "stderr",
     "output_type": "stream",
     "text": [
      "100%|██████████| 2329133/2329133 [00:12<00:00, 182389.41it/s]\n"
     ]
    },
    {
     "name": "stdout",
     "output_type": "stream",
     "text": [
      "✔️ 'Simulation' completed!\n",
      "\n",
      "E[R] = 1333.98\n",
      "\n",
      "\n",
      "---------------------------------\n",
      "--- Currently at treshold: 17 ---\n",
      "---------------------------------\n",
      "⌛ Creating task objects...\n"
     ]
    },
    {
     "name": "stderr",
     "output_type": "stream",
     "text": [
      "2329133it [01:40, 23239.24it/s]\n"
     ]
    },
    {
     "name": "stdout",
     "output_type": "stream",
     "text": [
      "✔️ Objects created!\n",
      "\n",
      "⌛ Running the 'simulation'...\n"
     ]
    },
    {
     "name": "stderr",
     "output_type": "stream",
     "text": [
      "100%|██████████| 2329133/2329133 [00:12<00:00, 184527.93it/s]\n"
     ]
    },
    {
     "name": "stdout",
     "output_type": "stream",
     "text": [
      "✔️ 'Simulation' completed!\n",
      "\n",
      "E[R] = 1247.58\n",
      "\n",
      "\n",
      "---------------------------------\n",
      "--- Currently at treshold: 18 ---\n",
      "---------------------------------\n",
      "⌛ Creating task objects...\n"
     ]
    },
    {
     "name": "stderr",
     "output_type": "stream",
     "text": [
      "2329133it [01:39, 23292.86it/s]\n"
     ]
    },
    {
     "name": "stdout",
     "output_type": "stream",
     "text": [
      "✔️ Objects created!\n",
      "\n",
      "⌛ Running the 'simulation'...\n"
     ]
    },
    {
     "name": "stderr",
     "output_type": "stream",
     "text": [
      "100%|██████████| 2329133/2329133 [00:12<00:00, 186609.14it/s]\n"
     ]
    },
    {
     "name": "stdout",
     "output_type": "stream",
     "text": [
      "✔️ 'Simulation' completed!\n",
      "\n",
      "E[R] = 1171.64\n",
      "\n",
      "\n",
      "---------------------------------\n",
      "--- Currently at treshold: 19 ---\n",
      "---------------------------------\n",
      "⌛ Creating task objects...\n"
     ]
    },
    {
     "name": "stderr",
     "output_type": "stream",
     "text": [
      "2329133it [01:40, 23212.57it/s]\n"
     ]
    },
    {
     "name": "stdout",
     "output_type": "stream",
     "text": [
      "✔️ Objects created!\n",
      "\n",
      "⌛ Running the 'simulation'...\n"
     ]
    },
    {
     "name": "stderr",
     "output_type": "stream",
     "text": [
      "100%|██████████| 2329133/2329133 [00:12<00:00, 185688.00it/s]\n"
     ]
    },
    {
     "name": "stdout",
     "output_type": "stream",
     "text": [
      "✔️ 'Simulation' completed!\n",
      "\n",
      "E[R] = 1104.45\n",
      "\n",
      "\n",
      "---------------------------------\n",
      "--- Currently at treshold: 20 ---\n",
      "---------------------------------\n",
      "⌛ Creating task objects...\n"
     ]
    },
    {
     "name": "stderr",
     "output_type": "stream",
     "text": [
      "2329133it [01:40, 23240.63it/s]\n"
     ]
    },
    {
     "name": "stdout",
     "output_type": "stream",
     "text": [
      "✔️ Objects created!\n",
      "\n",
      "⌛ Running the 'simulation'...\n"
     ]
    },
    {
     "name": "stderr",
     "output_type": "stream",
     "text": [
      "100%|██████████| 2329133/2329133 [00:12<00:00, 185791.95it/s]\n"
     ]
    },
    {
     "name": "stdout",
     "output_type": "stream",
     "text": [
      "✔️ 'Simulation' completed!\n",
      "\n",
      "E[R] = 1044.21\n",
      "\n",
      "\n",
      "---------------------------------\n",
      "--- Currently at treshold: 21 ---\n",
      "---------------------------------\n",
      "⌛ Creating task objects...\n"
     ]
    },
    {
     "name": "stderr",
     "output_type": "stream",
     "text": [
      "2329133it [01:39, 23316.62it/s]\n"
     ]
    },
    {
     "name": "stdout",
     "output_type": "stream",
     "text": [
      "✔️ Objects created!\n",
      "\n",
      "⌛ Running the 'simulation'...\n"
     ]
    },
    {
     "name": "stderr",
     "output_type": "stream",
     "text": [
      "100%|██████████| 2329133/2329133 [00:12<00:00, 185176.29it/s]\n"
     ]
    },
    {
     "name": "stdout",
     "output_type": "stream",
     "text": [
      "✔️ 'Simulation' completed!\n",
      "\n",
      "E[R] = 989.93\n",
      "\n",
      "\n",
      "---------------------------------\n",
      "--- Currently at treshold: 22 ---\n",
      "---------------------------------\n",
      "⌛ Creating task objects...\n"
     ]
    },
    {
     "name": "stderr",
     "output_type": "stream",
     "text": [
      "2329133it [01:40, 23204.98it/s]\n"
     ]
    },
    {
     "name": "stdout",
     "output_type": "stream",
     "text": [
      "✔️ Objects created!\n",
      "\n",
      "⌛ Running the 'simulation'...\n"
     ]
    },
    {
     "name": "stderr",
     "output_type": "stream",
     "text": [
      "100%|██████████| 2329133/2329133 [00:12<00:00, 188552.75it/s]\n"
     ]
    },
    {
     "name": "stdout",
     "output_type": "stream",
     "text": [
      "✔️ 'Simulation' completed!\n",
      "\n",
      "E[R] = 940.86\n",
      "\n",
      "\n",
      "---------------------------------\n",
      "--- Currently at treshold: 23 ---\n",
      "---------------------------------\n",
      "⌛ Creating task objects...\n"
     ]
    },
    {
     "name": "stderr",
     "output_type": "stream",
     "text": [
      "2329133it [01:40, 23258.64it/s]\n"
     ]
    },
    {
     "name": "stdout",
     "output_type": "stream",
     "text": [
      "✔️ Objects created!\n",
      "\n",
      "⌛ Running the 'simulation'...\n"
     ]
    },
    {
     "name": "stderr",
     "output_type": "stream",
     "text": [
      "100%|██████████| 2329133/2329133 [00:12<00:00, 187950.64it/s]\n"
     ]
    },
    {
     "name": "stdout",
     "output_type": "stream",
     "text": [
      "✔️ 'Simulation' completed!\n",
      "\n",
      "E[R] = 896.81\n",
      "\n",
      "\n",
      "---------------------------------\n",
      "--- Currently at treshold: 24 ---\n",
      "---------------------------------\n",
      "⌛ Creating task objects...\n"
     ]
    },
    {
     "name": "stderr",
     "output_type": "stream",
     "text": [
      "2329133it [01:40, 23069.07it/s]\n"
     ]
    },
    {
     "name": "stdout",
     "output_type": "stream",
     "text": [
      "✔️ Objects created!\n",
      "\n",
      "⌛ Running the 'simulation'...\n"
     ]
    },
    {
     "name": "stderr",
     "output_type": "stream",
     "text": [
      "100%|██████████| 2329133/2329133 [00:12<00:00, 183229.00it/s]\n"
     ]
    },
    {
     "name": "stdout",
     "output_type": "stream",
     "text": [
      "✔️ 'Simulation' completed!\n",
      "\n",
      "E[R] = 856.59\n",
      "\n",
      "\n",
      "---------------------------------\n",
      "--- Currently at treshold: 25 ---\n",
      "---------------------------------\n",
      "⌛ Creating task objects...\n"
     ]
    },
    {
     "name": "stderr",
     "output_type": "stream",
     "text": [
      "2329133it [01:39, 23305.17it/s]\n"
     ]
    },
    {
     "name": "stdout",
     "output_type": "stream",
     "text": [
      "✔️ Objects created!\n",
      "\n",
      "⌛ Running the 'simulation'...\n"
     ]
    },
    {
     "name": "stderr",
     "output_type": "stream",
     "text": [
      "100%|██████████| 2329133/2329133 [00:12<00:00, 185554.93it/s]\n"
     ]
    },
    {
     "name": "stdout",
     "output_type": "stream",
     "text": [
      "✔️ 'Simulation' completed!\n",
      "\n",
      "E[R] = 819.8\n",
      "\n",
      "\n",
      "---------------------------------\n",
      "--- Currently at treshold: 26 ---\n",
      "---------------------------------\n",
      "⌛ Creating task objects...\n"
     ]
    },
    {
     "name": "stderr",
     "output_type": "stream",
     "text": [
      "2329133it [01:40, 23276.72it/s]\n"
     ]
    },
    {
     "name": "stdout",
     "output_type": "stream",
     "text": [
      "✔️ Objects created!\n",
      "\n",
      "⌛ Running the 'simulation'...\n"
     ]
    },
    {
     "name": "stderr",
     "output_type": "stream",
     "text": [
      "100%|██████████| 2329133/2329133 [00:12<00:00, 182109.01it/s]\n"
     ]
    },
    {
     "name": "stdout",
     "output_type": "stream",
     "text": [
      "✔️ 'Simulation' completed!\n",
      "\n",
      "E[R] = 786.06\n",
      "\n",
      "\n",
      "---------------------------------\n",
      "--- Currently at treshold: 27 ---\n",
      "---------------------------------\n",
      "⌛ Creating task objects...\n"
     ]
    },
    {
     "name": "stderr",
     "output_type": "stream",
     "text": [
      "2329133it [01:39, 23293.30it/s]\n"
     ]
    },
    {
     "name": "stdout",
     "output_type": "stream",
     "text": [
      "✔️ Objects created!\n",
      "\n",
      "⌛ Running the 'simulation'...\n"
     ]
    },
    {
     "name": "stderr",
     "output_type": "stream",
     "text": [
      "100%|██████████| 2329133/2329133 [00:12<00:00, 180805.58it/s]\n"
     ]
    },
    {
     "name": "stdout",
     "output_type": "stream",
     "text": [
      "✔️ 'Simulation' completed!\n",
      "\n",
      "E[R] = 755.19\n",
      "\n",
      "\n",
      "---------------------------------\n",
      "--- Currently at treshold: 28 ---\n",
      "---------------------------------\n",
      "⌛ Creating task objects...\n"
     ]
    },
    {
     "name": "stderr",
     "output_type": "stream",
     "text": [
      "2329133it [01:40, 23234.36it/s]\n"
     ]
    },
    {
     "name": "stdout",
     "output_type": "stream",
     "text": [
      "✔️ Objects created!\n",
      "\n",
      "⌛ Running the 'simulation'...\n"
     ]
    },
    {
     "name": "stderr",
     "output_type": "stream",
     "text": [
      "100%|██████████| 2329133/2329133 [00:12<00:00, 186093.35it/s]\n"
     ]
    },
    {
     "name": "stdout",
     "output_type": "stream",
     "text": [
      "✔️ 'Simulation' completed!\n",
      "\n",
      "E[R] = 726.56\n",
      "\n",
      "\n",
      "---------------------------------\n",
      "--- Currently at treshold: 29 ---\n",
      "---------------------------------\n",
      "⌛ Creating task objects...\n"
     ]
    },
    {
     "name": "stderr",
     "output_type": "stream",
     "text": [
      "2329133it [01:40, 23157.68it/s]\n"
     ]
    },
    {
     "name": "stdout",
     "output_type": "stream",
     "text": [
      "✔️ Objects created!\n",
      "\n",
      "⌛ Running the 'simulation'...\n"
     ]
    },
    {
     "name": "stderr",
     "output_type": "stream",
     "text": [
      "100%|██████████| 2329133/2329133 [00:12<00:00, 184007.99it/s]\n"
     ]
    },
    {
     "name": "stdout",
     "output_type": "stream",
     "text": [
      "✔️ 'Simulation' completed!\n",
      "\n",
      "E[R] = 700.3\n",
      "\n",
      "\n",
      "---------------------------------\n",
      "--- Currently at treshold: 30 ---\n",
      "---------------------------------\n",
      "⌛ Creating task objects...\n"
     ]
    },
    {
     "name": "stderr",
     "output_type": "stream",
     "text": [
      "2329133it [01:40, 23189.66it/s]\n"
     ]
    },
    {
     "name": "stdout",
     "output_type": "stream",
     "text": [
      "✔️ Objects created!\n",
      "\n",
      "⌛ Running the 'simulation'...\n"
     ]
    },
    {
     "name": "stderr",
     "output_type": "stream",
     "text": [
      "100%|██████████| 2329133/2329133 [00:12<00:00, 183882.02it/s]\n"
     ]
    },
    {
     "name": "stdout",
     "output_type": "stream",
     "text": [
      "✔️ 'Simulation' completed!\n",
      "\n",
      "E[R] = 675.75\n",
      "\n",
      "\n",
      "---------------------------------\n",
      "--- Currently at treshold: 31 ---\n",
      "---------------------------------\n",
      "⌛ Creating task objects...\n"
     ]
    },
    {
     "name": "stderr",
     "output_type": "stream",
     "text": [
      "2329133it [01:40, 23154.52it/s]\n"
     ]
    },
    {
     "name": "stdout",
     "output_type": "stream",
     "text": [
      "✔️ Objects created!\n",
      "\n",
      "⌛ Running the 'simulation'...\n"
     ]
    },
    {
     "name": "stderr",
     "output_type": "stream",
     "text": [
      "100%|██████████| 2329133/2329133 [00:12<00:00, 184218.15it/s]\n"
     ]
    },
    {
     "name": "stdout",
     "output_type": "stream",
     "text": [
      "✔️ 'Simulation' completed!\n",
      "\n",
      "E[R] = 652.91\n",
      "\n",
      "\n",
      "---------------------------------\n",
      "--- Currently at treshold: 32 ---\n",
      "---------------------------------\n",
      "⌛ Creating task objects...\n"
     ]
    },
    {
     "name": "stderr",
     "output_type": "stream",
     "text": [
      "2329133it [01:40, 23245.76it/s]\n"
     ]
    },
    {
     "name": "stdout",
     "output_type": "stream",
     "text": [
      "✔️ Objects created!\n",
      "\n",
      "⌛ Running the 'simulation'...\n"
     ]
    },
    {
     "name": "stderr",
     "output_type": "stream",
     "text": [
      "100%|██████████| 2329133/2329133 [00:12<00:00, 185502.85it/s]\n"
     ]
    },
    {
     "name": "stdout",
     "output_type": "stream",
     "text": [
      "✔️ 'Simulation' completed!\n",
      "\n",
      "E[R] = 631.78\n",
      "\n",
      "\n",
      "---------------------------------\n",
      "--- Currently at treshold: 33 ---\n",
      "---------------------------------\n",
      "⌛ Creating task objects...\n"
     ]
    },
    {
     "name": "stderr",
     "output_type": "stream",
     "text": [
      "2329133it [01:40, 23134.24it/s]\n"
     ]
    },
    {
     "name": "stdout",
     "output_type": "stream",
     "text": [
      "✔️ Objects created!\n",
      "\n",
      "⌛ Running the 'simulation'...\n"
     ]
    },
    {
     "name": "stderr",
     "output_type": "stream",
     "text": [
      "100%|██████████| 2329133/2329133 [00:12<00:00, 184872.28it/s]\n"
     ]
    },
    {
     "name": "stdout",
     "output_type": "stream",
     "text": [
      "✔️ 'Simulation' completed!\n",
      "\n",
      "E[R] = 612.21\n",
      "\n",
      "\n",
      "---------------------------------\n",
      "--- Currently at treshold: 34 ---\n",
      "---------------------------------\n",
      "⌛ Creating task objects...\n"
     ]
    },
    {
     "name": "stderr",
     "output_type": "stream",
     "text": [
      "2329133it [01:40, 23270.36it/s]\n"
     ]
    },
    {
     "name": "stdout",
     "output_type": "stream",
     "text": [
      "✔️ Objects created!\n",
      "\n",
      "⌛ Running the 'simulation'...\n"
     ]
    },
    {
     "name": "stderr",
     "output_type": "stream",
     "text": [
      "100%|██████████| 2329133/2329133 [00:12<00:00, 183128.31it/s]\n"
     ]
    },
    {
     "name": "stdout",
     "output_type": "stream",
     "text": [
      "✔️ 'Simulation' completed!\n",
      "\n",
      "E[R] = 593.98\n",
      "\n",
      "\n",
      "---------------------------------\n",
      "--- Currently at treshold: 35 ---\n",
      "---------------------------------\n",
      "⌛ Creating task objects...\n"
     ]
    },
    {
     "name": "stderr",
     "output_type": "stream",
     "text": [
      "2329133it [01:40, 23103.42it/s]\n"
     ]
    },
    {
     "name": "stdout",
     "output_type": "stream",
     "text": [
      "✔️ Objects created!\n",
      "\n",
      "⌛ Running the 'simulation'...\n"
     ]
    },
    {
     "name": "stderr",
     "output_type": "stream",
     "text": [
      "100%|██████████| 2329133/2329133 [00:12<00:00, 185139.34it/s]\n"
     ]
    },
    {
     "name": "stdout",
     "output_type": "stream",
     "text": [
      "✔️ 'Simulation' completed!\n",
      "\n",
      "E[R] = 576.94\n",
      "\n",
      "\n",
      "---------------------------------\n",
      "--- Currently at treshold: 36 ---\n",
      "---------------------------------\n",
      "⌛ Creating task objects...\n"
     ]
    },
    {
     "name": "stderr",
     "output_type": "stream",
     "text": [
      "2329133it [01:40, 23186.78it/s]\n"
     ]
    },
    {
     "name": "stdout",
     "output_type": "stream",
     "text": [
      "✔️ Objects created!\n",
      "\n",
      "⌛ Running the 'simulation'...\n"
     ]
    },
    {
     "name": "stderr",
     "output_type": "stream",
     "text": [
      "100%|██████████| 2329133/2329133 [00:12<00:00, 185157.04it/s]\n"
     ]
    },
    {
     "name": "stdout",
     "output_type": "stream",
     "text": [
      "✔️ 'Simulation' completed!\n",
      "\n",
      "E[R] = 561.15\n",
      "\n",
      "\n",
      "---------------------------------\n",
      "--- Currently at treshold: 37 ---\n",
      "---------------------------------\n",
      "⌛ Creating task objects...\n"
     ]
    },
    {
     "name": "stderr",
     "output_type": "stream",
     "text": [
      "2329133it [01:40, 23075.65it/s]\n"
     ]
    },
    {
     "name": "stdout",
     "output_type": "stream",
     "text": [
      "✔️ Objects created!\n",
      "\n",
      "⌛ Running the 'simulation'...\n"
     ]
    },
    {
     "name": "stderr",
     "output_type": "stream",
     "text": [
      "100%|██████████| 2329133/2329133 [00:12<00:00, 182894.83it/s]\n"
     ]
    },
    {
     "name": "stdout",
     "output_type": "stream",
     "text": [
      "✔️ 'Simulation' completed!\n",
      "\n",
      "E[R] = 546.5\n",
      "\n",
      "\n",
      "---------------------------------\n",
      "--- Currently at treshold: 38 ---\n",
      "---------------------------------\n",
      "⌛ Creating task objects...\n"
     ]
    },
    {
     "name": "stderr",
     "output_type": "stream",
     "text": [
      "2329133it [01:40, 23198.32it/s]\n"
     ]
    },
    {
     "name": "stdout",
     "output_type": "stream",
     "text": [
      "✔️ Objects created!\n",
      "\n",
      "⌛ Running the 'simulation'...\n"
     ]
    },
    {
     "name": "stderr",
     "output_type": "stream",
     "text": [
      "100%|██████████| 2329133/2329133 [00:12<00:00, 184118.46it/s]\n"
     ]
    },
    {
     "name": "stdout",
     "output_type": "stream",
     "text": [
      "✔️ 'Simulation' completed!\n",
      "\n",
      "E[R] = 532.91\n",
      "\n",
      "\n",
      "---------------------------------\n",
      "--- Currently at treshold: 39 ---\n",
      "---------------------------------\n",
      "⌛ Creating task objects...\n"
     ]
    },
    {
     "name": "stderr",
     "output_type": "stream",
     "text": [
      "2329133it [01:40, 23225.49it/s]\n"
     ]
    },
    {
     "name": "stdout",
     "output_type": "stream",
     "text": [
      "✔️ Objects created!\n",
      "\n",
      "⌛ Running the 'simulation'...\n"
     ]
    },
    {
     "name": "stderr",
     "output_type": "stream",
     "text": [
      "100%|██████████| 2329133/2329133 [00:12<00:00, 185621.33it/s]\n"
     ]
    },
    {
     "name": "stdout",
     "output_type": "stream",
     "text": [
      "✔️ 'Simulation' completed!\n",
      "\n",
      "E[R] = 520.36\n",
      "\n",
      "\n",
      "---------------------------------\n",
      "--- Currently at treshold: 40 ---\n",
      "---------------------------------\n",
      "⌛ Creating task objects...\n"
     ]
    },
    {
     "name": "stderr",
     "output_type": "stream",
     "text": [
      "2329133it [01:40, 23241.27it/s]\n"
     ]
    },
    {
     "name": "stdout",
     "output_type": "stream",
     "text": [
      "✔️ Objects created!\n",
      "\n",
      "⌛ Running the 'simulation'...\n"
     ]
    },
    {
     "name": "stderr",
     "output_type": "stream",
     "text": [
      "100%|██████████| 2329133/2329133 [00:12<00:00, 180427.83it/s]\n"
     ]
    },
    {
     "name": "stdout",
     "output_type": "stream",
     "text": [
      "✔️ 'Simulation' completed!\n",
      "\n",
      "E[R] = 508.66\n",
      "\n",
      "\n",
      "---------------------------------\n",
      "--- Currently at treshold: 41 ---\n",
      "---------------------------------\n",
      "⌛ Creating task objects...\n"
     ]
    },
    {
     "name": "stderr",
     "output_type": "stream",
     "text": [
      "2329133it [01:40, 23200.57it/s]\n"
     ]
    },
    {
     "name": "stdout",
     "output_type": "stream",
     "text": [
      "✔️ Objects created!\n",
      "\n",
      "⌛ Running the 'simulation'...\n"
     ]
    },
    {
     "name": "stderr",
     "output_type": "stream",
     "text": [
      "100%|██████████| 2329133/2329133 [00:12<00:00, 181406.08it/s]\n"
     ]
    },
    {
     "name": "stdout",
     "output_type": "stream",
     "text": [
      "✔️ 'Simulation' completed!\n",
      "\n",
      "E[R] = 497.91\n",
      "\n",
      "\n",
      "---------------------------------\n",
      "--- Currently at treshold: 42 ---\n",
      "---------------------------------\n",
      "⌛ Creating task objects...\n"
     ]
    },
    {
     "name": "stderr",
     "output_type": "stream",
     "text": [
      "2329133it [01:40, 23096.94it/s]\n"
     ]
    },
    {
     "name": "stdout",
     "output_type": "stream",
     "text": [
      "✔️ Objects created!\n",
      "\n",
      "⌛ Running the 'simulation'...\n"
     ]
    },
    {
     "name": "stderr",
     "output_type": "stream",
     "text": [
      "100%|██████████| 2329133/2329133 [00:12<00:00, 181048.19it/s]\n"
     ]
    },
    {
     "name": "stdout",
     "output_type": "stream",
     "text": [
      "✔️ 'Simulation' completed!\n",
      "\n",
      "E[R] = 488.03\n",
      "\n",
      "\n",
      "---------------------------------\n",
      "--- Currently at treshold: 43 ---\n",
      "---------------------------------\n",
      "⌛ Creating task objects...\n"
     ]
    },
    {
     "name": "stderr",
     "output_type": "stream",
     "text": [
      "2329133it [01:41, 23029.02it/s]\n"
     ]
    },
    {
     "name": "stdout",
     "output_type": "stream",
     "text": [
      "✔️ Objects created!\n",
      "\n",
      "⌛ Running the 'simulation'...\n"
     ]
    },
    {
     "name": "stderr",
     "output_type": "stream",
     "text": [
      "100%|██████████| 2329133/2329133 [00:12<00:00, 183016.10it/s]\n"
     ]
    },
    {
     "name": "stdout",
     "output_type": "stream",
     "text": [
      "✔️ 'Simulation' completed!\n",
      "\n",
      "E[R] = 479.05\n",
      "\n",
      "\n",
      "---------------------------------\n",
      "--- Currently at treshold: 44 ---\n",
      "---------------------------------\n",
      "⌛ Creating task objects...\n"
     ]
    },
    {
     "name": "stderr",
     "output_type": "stream",
     "text": [
      "2329133it [01:40, 23094.43it/s]\n"
     ]
    },
    {
     "name": "stdout",
     "output_type": "stream",
     "text": [
      "✔️ Objects created!\n",
      "\n",
      "⌛ Running the 'simulation'...\n"
     ]
    },
    {
     "name": "stderr",
     "output_type": "stream",
     "text": [
      "100%|██████████| 2329133/2329133 [00:12<00:00, 179877.44it/s]\n"
     ]
    },
    {
     "name": "stdout",
     "output_type": "stream",
     "text": [
      "✔️ 'Simulation' completed!\n",
      "\n",
      "E[R] = 470.91\n",
      "\n",
      "\n",
      "---------------------------------\n",
      "--- Currently at treshold: 45 ---\n",
      "---------------------------------\n",
      "⌛ Creating task objects...\n"
     ]
    },
    {
     "name": "stderr",
     "output_type": "stream",
     "text": [
      "2329133it [01:40, 23228.21it/s]\n"
     ]
    },
    {
     "name": "stdout",
     "output_type": "stream",
     "text": [
      "✔️ Objects created!\n",
      "\n",
      "⌛ Running the 'simulation'...\n"
     ]
    },
    {
     "name": "stderr",
     "output_type": "stream",
     "text": [
      "100%|██████████| 2329133/2329133 [00:12<00:00, 182698.98it/s]\n"
     ]
    },
    {
     "name": "stdout",
     "output_type": "stream",
     "text": [
      "✔️ 'Simulation' completed!\n",
      "\n",
      "E[R] = 463.43\n",
      "\n",
      "\n",
      "---------------------------------\n",
      "--- Currently at treshold: 46 ---\n",
      "---------------------------------\n",
      "⌛ Creating task objects...\n"
     ]
    },
    {
     "name": "stderr",
     "output_type": "stream",
     "text": [
      "2329133it [01:40, 23090.86it/s]\n"
     ]
    },
    {
     "name": "stdout",
     "output_type": "stream",
     "text": [
      "✔️ Objects created!\n",
      "\n",
      "⌛ Running the 'simulation'...\n"
     ]
    },
    {
     "name": "stderr",
     "output_type": "stream",
     "text": [
      "100%|██████████| 2329133/2329133 [00:12<00:00, 181334.99it/s]\n"
     ]
    },
    {
     "name": "stdout",
     "output_type": "stream",
     "text": [
      "✔️ 'Simulation' completed!\n",
      "\n",
      "E[R] = 456.75\n",
      "\n",
      "\n",
      "---------------------------------\n",
      "--- Currently at treshold: 47 ---\n",
      "---------------------------------\n",
      "⌛ Creating task objects...\n"
     ]
    },
    {
     "name": "stderr",
     "output_type": "stream",
     "text": [
      "2329133it [01:40, 23219.95it/s]\n"
     ]
    },
    {
     "name": "stdout",
     "output_type": "stream",
     "text": [
      "✔️ Objects created!\n",
      "\n",
      "⌛ Running the 'simulation'...\n"
     ]
    },
    {
     "name": "stderr",
     "output_type": "stream",
     "text": [
      "100%|██████████| 2329133/2329133 [00:12<00:00, 180280.46it/s]\n"
     ]
    },
    {
     "name": "stdout",
     "output_type": "stream",
     "text": [
      "✔️ 'Simulation' completed!\n",
      "\n",
      "E[R] = 450.97\n",
      "\n",
      "\n",
      "---------------------------------\n",
      "--- Currently at treshold: 48 ---\n",
      "---------------------------------\n",
      "⌛ Creating task objects...\n"
     ]
    },
    {
     "name": "stderr",
     "output_type": "stream",
     "text": [
      "2329133it [01:40, 23164.23it/s]\n"
     ]
    },
    {
     "name": "stdout",
     "output_type": "stream",
     "text": [
      "✔️ Objects created!\n",
      "\n",
      "⌛ Running the 'simulation'...\n"
     ]
    },
    {
     "name": "stderr",
     "output_type": "stream",
     "text": [
      "100%|██████████| 2329133/2329133 [00:12<00:00, 181761.45it/s]\n"
     ]
    },
    {
     "name": "stdout",
     "output_type": "stream",
     "text": [
      "✔️ 'Simulation' completed!\n",
      "\n",
      "E[R] = 446.34\n",
      "\n",
      "\n",
      "---------------------------------\n",
      "--- Currently at treshold: 49 ---\n",
      "---------------------------------\n",
      "⌛ Creating task objects...\n"
     ]
    },
    {
     "name": "stderr",
     "output_type": "stream",
     "text": [
      "2329133it [01:41, 23053.95it/s]\n"
     ]
    },
    {
     "name": "stdout",
     "output_type": "stream",
     "text": [
      "✔️ Objects created!\n",
      "\n",
      "⌛ Running the 'simulation'...\n"
     ]
    },
    {
     "name": "stderr",
     "output_type": "stream",
     "text": [
      "100%|██████████| 2329133/2329133 [00:12<00:00, 181564.20it/s]\n"
     ]
    },
    {
     "name": "stdout",
     "output_type": "stream",
     "text": [
      "✔️ 'Simulation' completed!\n",
      "\n",
      "E[R] = 442.49\n",
      "\n",
      "\n",
      "---------------------------------\n",
      "--- Currently at treshold: 50 ---\n",
      "---------------------------------\n",
      "⌛ Creating task objects...\n"
     ]
    },
    {
     "name": "stderr",
     "output_type": "stream",
     "text": [
      "2329133it [01:40, 23217.90it/s]\n"
     ]
    },
    {
     "name": "stdout",
     "output_type": "stream",
     "text": [
      "✔️ Objects created!\n",
      "\n",
      "⌛ Running the 'simulation'...\n"
     ]
    },
    {
     "name": "stderr",
     "output_type": "stream",
     "text": [
      "100%|██████████| 2329133/2329133 [00:13<00:00, 179038.46it/s]\n"
     ]
    },
    {
     "name": "stdout",
     "output_type": "stream",
     "text": [
      "✔️ 'Simulation' completed!\n",
      "\n",
      "E[R] = 439.72\n",
      "\n",
      "\n",
      "---------------------------------\n",
      "--- Currently at treshold: 51 ---\n",
      "---------------------------------\n",
      "⌛ Creating task objects...\n"
     ]
    },
    {
     "name": "stderr",
     "output_type": "stream",
     "text": [
      "2329133it [01:40, 23259.77it/s]\n"
     ]
    },
    {
     "name": "stdout",
     "output_type": "stream",
     "text": [
      "✔️ Objects created!\n",
      "\n",
      "⌛ Running the 'simulation'...\n"
     ]
    },
    {
     "name": "stderr",
     "output_type": "stream",
     "text": [
      "100%|██████████| 2329133/2329133 [00:12<00:00, 180622.86it/s]\n"
     ]
    },
    {
     "name": "stdout",
     "output_type": "stream",
     "text": [
      "✔️ 'Simulation' completed!\n",
      "\n",
      "E[R] = 438.19\n",
      "\n",
      "\n",
      "---------------------------------\n",
      "--- Currently at treshold: 52 ---\n",
      "---------------------------------\n",
      "⌛ Creating task objects...\n"
     ]
    },
    {
     "name": "stderr",
     "output_type": "stream",
     "text": [
      "2329133it [01:40, 23128.42it/s]\n"
     ]
    },
    {
     "name": "stdout",
     "output_type": "stream",
     "text": [
      "✔️ Objects created!\n",
      "\n",
      "⌛ Running the 'simulation'...\n"
     ]
    },
    {
     "name": "stderr",
     "output_type": "stream",
     "text": [
      "100%|██████████| 2329133/2329133 [00:12<00:00, 181005.91it/s]\n"
     ]
    },
    {
     "name": "stdout",
     "output_type": "stream",
     "text": [
      "✔️ 'Simulation' completed!\n",
      "\n",
      "E[R] = 438.32\n",
      "\n",
      "\n",
      "---------------------------------\n",
      "--- Currently at treshold: 53 ---\n",
      "---------------------------------\n",
      "⌛ Creating task objects...\n"
     ]
    },
    {
     "name": "stderr",
     "output_type": "stream",
     "text": [
      "2329133it [01:40, 23156.56it/s]\n"
     ]
    },
    {
     "name": "stdout",
     "output_type": "stream",
     "text": [
      "✔️ Objects created!\n",
      "\n",
      "⌛ Running the 'simulation'...\n"
     ]
    },
    {
     "name": "stderr",
     "output_type": "stream",
     "text": [
      "100%|██████████| 2329133/2329133 [00:12<00:00, 180137.29it/s]\n"
     ]
    },
    {
     "name": "stdout",
     "output_type": "stream",
     "text": [
      "✔️ 'Simulation' completed!\n",
      "\n",
      "E[R] = 440.31\n",
      "\n",
      "\n",
      "---------------------------------\n",
      "--- Currently at treshold: 54 ---\n",
      "---------------------------------\n",
      "⌛ Creating task objects...\n"
     ]
    },
    {
     "name": "stderr",
     "output_type": "stream",
     "text": [
      "2329133it [01:40, 23112.01it/s]\n"
     ]
    },
    {
     "name": "stdout",
     "output_type": "stream",
     "text": [
      "✔️ Objects created!\n",
      "\n",
      "⌛ Running the 'simulation'...\n"
     ]
    },
    {
     "name": "stderr",
     "output_type": "stream",
     "text": [
      "100%|██████████| 2329133/2329133 [00:12<00:00, 180114.57it/s]\n"
     ]
    },
    {
     "name": "stdout",
     "output_type": "stream",
     "text": [
      "✔️ 'Simulation' completed!\n",
      "\n",
      "E[R] = 444.63\n",
      "\n",
      "\n",
      "---------------------------------\n",
      "--- Currently at treshold: 55 ---\n",
      "---------------------------------\n",
      "⌛ Creating task objects...\n"
     ]
    },
    {
     "name": "stderr",
     "output_type": "stream",
     "text": [
      "2329133it [01:40, 23190.40it/s]\n"
     ]
    },
    {
     "name": "stdout",
     "output_type": "stream",
     "text": [
      "✔️ Objects created!\n",
      "\n",
      "⌛ Running the 'simulation'...\n"
     ]
    },
    {
     "name": "stderr",
     "output_type": "stream",
     "text": [
      "100%|██████████| 2329133/2329133 [00:12<00:00, 182699.23it/s]\n"
     ]
    },
    {
     "name": "stdout",
     "output_type": "stream",
     "text": [
      "✔️ 'Simulation' completed!\n",
      "\n",
      "E[R] = 450.87\n",
      "\n",
      "\n",
      "---------------------------------\n",
      "--- Currently at treshold: 56 ---\n",
      "---------------------------------\n",
      "⌛ Creating task objects...\n"
     ]
    },
    {
     "name": "stderr",
     "output_type": "stream",
     "text": [
      "2329133it [01:41, 22978.46it/s]\n"
     ]
    },
    {
     "name": "stdout",
     "output_type": "stream",
     "text": [
      "✔️ Objects created!\n",
      "\n",
      "⌛ Running the 'simulation'...\n"
     ]
    },
    {
     "name": "stderr",
     "output_type": "stream",
     "text": [
      "100%|██████████| 2329133/2329133 [00:12<00:00, 181809.01it/s]\n"
     ]
    },
    {
     "name": "stdout",
     "output_type": "stream",
     "text": [
      "✔️ 'Simulation' completed!\n",
      "\n",
      "E[R] = 461.07\n",
      "\n",
      "\n",
      "---------------------------------\n",
      "--- Currently at treshold: 57 ---\n",
      "---------------------------------\n",
      "⌛ Creating task objects...\n"
     ]
    },
    {
     "name": "stderr",
     "output_type": "stream",
     "text": [
      "2329133it [01:40, 23191.40it/s]\n"
     ]
    },
    {
     "name": "stdout",
     "output_type": "stream",
     "text": [
      "✔️ Objects created!\n",
      "\n",
      "⌛ Running the 'simulation'...\n"
     ]
    },
    {
     "name": "stderr",
     "output_type": "stream",
     "text": [
      "100%|██████████| 2329133/2329133 [00:12<00:00, 180181.46it/s]\n"
     ]
    },
    {
     "name": "stdout",
     "output_type": "stream",
     "text": [
      "✔️ 'Simulation' completed!\n",
      "\n",
      "E[R] = 476.42\n",
      "\n",
      "\n",
      "---------------------------------\n",
      "--- Currently at treshold: 58 ---\n",
      "---------------------------------\n",
      "⌛ Creating task objects...\n"
     ]
    },
    {
     "name": "stderr",
     "output_type": "stream",
     "text": [
      "2329133it [01:41, 23056.24it/s]\n"
     ]
    },
    {
     "name": "stdout",
     "output_type": "stream",
     "text": [
      "✔️ Objects created!\n",
      "\n",
      "⌛ Running the 'simulation'...\n"
     ]
    },
    {
     "name": "stderr",
     "output_type": "stream",
     "text": [
      "100%|██████████| 2329133/2329133 [00:12<00:00, 182369.65it/s]\n"
     ]
    },
    {
     "name": "stdout",
     "output_type": "stream",
     "text": [
      "✔️ 'Simulation' completed!\n",
      "\n",
      "E[R] = 499.04\n",
      "\n",
      "\n",
      "---------------------------------\n",
      "--- Currently at treshold: 59 ---\n",
      "---------------------------------\n",
      "⌛ Creating task objects...\n"
     ]
    },
    {
     "name": "stderr",
     "output_type": "stream",
     "text": [
      "2329133it [01:40, 23088.30it/s]\n"
     ]
    },
    {
     "name": "stdout",
     "output_type": "stream",
     "text": [
      "✔️ Objects created!\n",
      "\n",
      "⌛ Running the 'simulation'...\n"
     ]
    },
    {
     "name": "stderr",
     "output_type": "stream",
     "text": [
      "100%|██████████| 2329133/2329133 [00:12<00:00, 183425.94it/s]\n"
     ]
    },
    {
     "name": "stdout",
     "output_type": "stream",
     "text": [
      "✔️ 'Simulation' completed!\n",
      "\n",
      "E[R] = 534.12\n",
      "\n",
      "\n",
      "---------------------------------\n",
      "--- Currently at treshold: 60 ---\n",
      "---------------------------------\n",
      "⌛ Creating task objects...\n"
     ]
    },
    {
     "name": "stderr",
     "output_type": "stream",
     "text": [
      "2329133it [01:40, 23069.88it/s]\n"
     ]
    },
    {
     "name": "stdout",
     "output_type": "stream",
     "text": [
      "✔️ Objects created!\n",
      "\n",
      "⌛ Running the 'simulation'...\n"
     ]
    },
    {
     "name": "stderr",
     "output_type": "stream",
     "text": [
      "100%|██████████| 2329133/2329133 [00:12<00:00, 179178.84it/s]\n"
     ]
    },
    {
     "name": "stdout",
     "output_type": "stream",
     "text": [
      "✔️ 'Simulation' completed!\n",
      "\n",
      "E[R] = 588.85\n",
      "\n",
      "\n",
      "---------------------------------\n",
      "--- Currently at treshold: 61 ---\n",
      "---------------------------------\n",
      "⌛ Creating task objects...\n"
     ]
    },
    {
     "name": "stderr",
     "output_type": "stream",
     "text": [
      "2329133it [01:40, 23239.14it/s]\n"
     ]
    },
    {
     "name": "stdout",
     "output_type": "stream",
     "text": [
      "✔️ Objects created!\n",
      "\n",
      "⌛ Running the 'simulation'...\n"
     ]
    },
    {
     "name": "stderr",
     "output_type": "stream",
     "text": [
      "100%|██████████| 2329133/2329133 [00:12<00:00, 181340.24it/s]\n"
     ]
    },
    {
     "name": "stdout",
     "output_type": "stream",
     "text": [
      "✔️ 'Simulation' completed!\n",
      "\n",
      "E[R] = 684.49\n",
      "\n",
      "\n",
      "---------------------------------\n",
      "--- Currently at treshold: 62 ---\n",
      "---------------------------------\n",
      "⌛ Creating task objects...\n"
     ]
    },
    {
     "name": "stderr",
     "output_type": "stream",
     "text": [
      "2329133it [01:41, 23015.81it/s]\n"
     ]
    },
    {
     "name": "stdout",
     "output_type": "stream",
     "text": [
      "✔️ Objects created!\n",
      "\n",
      "⌛ Running the 'simulation'...\n"
     ]
    },
    {
     "name": "stderr",
     "output_type": "stream",
     "text": [
      "100%|██████████| 2329133/2329133 [00:12<00:00, 181799.33it/s]\n"
     ]
    },
    {
     "name": "stdout",
     "output_type": "stream",
     "text": [
      "✔️ 'Simulation' completed!\n",
      "\n",
      "E[R] = 881.84\n",
      "\n",
      "\n",
      "---------------------------------\n",
      "--- Currently at treshold: 63 ---\n",
      "---------------------------------\n",
      "⌛ Creating task objects...\n"
     ]
    },
    {
     "name": "stderr",
     "output_type": "stream",
     "text": [
      "2329133it [01:40, 23259.98it/s]\n"
     ]
    },
    {
     "name": "stdout",
     "output_type": "stream",
     "text": [
      "✔️ Objects created!\n",
      "\n",
      "⌛ Running the 'simulation'...\n"
     ]
    },
    {
     "name": "stderr",
     "output_type": "stream",
     "text": [
      "100%|██████████| 2329133/2329133 [00:12<00:00, 181264.84it/s]\n"
     ]
    },
    {
     "name": "stdout",
     "output_type": "stream",
     "text": [
      "✔️ 'Simulation' completed!\n",
      "\n",
      "E[R] = 1484.28\n",
      "\n",
      "\n",
      "\n",
      "\n",
      "Best combination to use:\n",
      "- (51, 13) --> E[R]=438.193\n",
      "- (52, 12) --> E[R]=438.317\n",
      "- (50, 14) --> E[R]=439.719\n",
      "- (53, 11) --> E[R]=440.306\n",
      "- (49, 15) --> E[R]=442.494\n",
      "- (54, 10) --> E[R]=444.634\n",
      "- (48, 16) --> E[R]=446.345\n",
      "- (55, 9) --> E[R]=450.866\n",
      "- (47, 17) --> E[R]=450.968\n",
      "- (46, 18) --> E[R]=456.749\n",
      "- (56, 8) --> E[R]=461.067\n",
      "- (45, 19) --> E[R]=463.43\n",
      "- (44, 20) --> E[R]=470.907\n",
      "- (57, 7) --> E[R]=476.418\n",
      "- (43, 21) --> E[R]=479.046\n",
      "- (42, 22) --> E[R]=488.031\n",
      "- (41, 23) --> E[R]=497.913\n",
      "- (58, 6) --> E[R]=499.042\n",
      "- (40, 24) --> E[R]=508.665\n",
      "- (39, 25) --> E[R]=520.357\n",
      "- (38, 26) --> E[R]=532.912\n",
      "- (59, 5) --> E[R]=534.122\n",
      "- (37, 27) --> E[R]=546.502\n",
      "- (36, 28) --> E[R]=561.146\n",
      "- (35, 29) --> E[R]=576.942\n",
      "- (60, 4) --> E[R]=588.849\n",
      "- (34, 30) --> E[R]=593.982\n",
      "- (33, 31) --> E[R]=612.21\n",
      "- (32, 32) --> E[R]=631.777\n",
      "- (31, 33) --> E[R]=652.915\n",
      "- (30, 34) --> E[R]=675.752\n",
      "- (61, 3) --> E[R]=684.488\n",
      "- (29, 35) --> E[R]=700.297\n",
      "- (28, 36) --> E[R]=726.56\n",
      "- (27, 37) --> E[R]=755.187\n",
      "- (26, 38) --> E[R]=786.065\n",
      "- (25, 39) --> E[R]=819.798\n",
      "- (24, 40) --> E[R]=856.591\n",
      "- (62, 2) --> E[R]=881.84\n",
      "- (23, 41) --> E[R]=896.815\n",
      "- (22, 42) --> E[R]=940.856\n",
      "- (21, 43) --> E[R]=989.93\n",
      "- (20, 44) --> E[R]=1044.213\n",
      "- (19, 45) --> E[R]=1104.452\n",
      "- (18, 46) --> E[R]=1171.638\n",
      "- (17, 47) --> E[R]=1247.576\n",
      "- (16, 48) --> E[R]=1333.981\n",
      "- (15, 49) --> E[R]=1431.588\n",
      "- (63, 1) --> E[R]=1484.277\n",
      "- (14, 50) --> E[R]=1543.988\n",
      "- (13, 51) --> E[R]=1672.907\n",
      "- (12, 52) --> E[R]=1824.928\n",
      "- (11, 53) --> E[R]=2003.538\n",
      "- (10, 54) --> E[R]=2215.215\n",
      "- (9, 55) --> E[R]=2475.558\n",
      "- (8, 56) --> E[R]=2803.22\n",
      "- (7, 57) --> E[R]=3229.277\n",
      "- (6, 58) --> E[R]=3798.454\n",
      "- (5, 59) --> E[R]=4601.437\n",
      "- (4, 60) --> E[R]=5825.179\n",
      "- (3, 61) --> E[R]=7872.474\n",
      "- (2, 62) --> E[R]=11966.766\n",
      "- (1, 63) --> E[R]=24156.961\n"
     ]
    }
   ],
   "source": [
    "def LWL(task, servers, treshold):\n",
    "    \n",
    "    min_workload = float('inf')\n",
    "    selected_server = None\n",
    "\n",
    "    if task.n_tasks <= 5:\n",
    "        idx_server = min(range(treshold), key=lambda i: servers[i].workload)\n",
    "        selected_server = servers[idx_server]\n",
    "    else:\n",
    "        idx_server = min(range(treshold, 64), key=lambda i: servers[i].workload)\n",
    "        selected_server = servers[idx_server]\n",
    "\n",
    "    selected_server.assign_task(task)\n",
    "\n",
    "# sub_data = data.head(100_000)\n",
    "# simulation(sub_data, N)\n",
    "\n",
    "tresholds = np.arange(1, 64)\n",
    "R_dict = dict()\n",
    "\n",
    "for treshold in tresholds:\n",
    "    print('-' * 33)\n",
    "    print(f'--- Currently at treshold: {treshold} ---')\n",
    "    print('-' * 33)\n",
    "    simulation(data, N, treshold)\n",
    "    rows = []\n",
    "    for task in tasks:\n",
    "        new_row = vars(task)\n",
    "        row = {key: val for key, val in new_row.items()}\n",
    "        rows.append(row)\n",
    "\n",
    "    df_tasks = pd.DataFrame(rows)\n",
    "    df_tasks['final_time'] = df_tasks['ta'] + df_tasks['end_time']\n",
    "\n",
    "    stats_df = df_tasks.groupby('jid').agg({'ta': 'min', 'final_time': 'max', 'X': 'sum'})\n",
    "    stats_df = stats_df.rename(columns={'ta': 'min_ta', 'final_time': 'max_ta_end_time', 'X': 'tot_job_X'})\n",
    "    stats_df['R'] = stats_df['max_ta_end_time'] - stats_df['min_ta']\n",
    "    stats_df = stats_df.reset_index()\n",
    "    R_dict[treshold] = stats_df['R'].mean()\n",
    "    print(f'\\nE[R] = {round(stats_df[\"R\"].mean(), 2)}')\n",
    "    print('\\n')\n",
    "    \n",
    "\n",
    "print('\\n\\nBest combination to use:')\n",
    "R_dict_sorted = dict(sorted(R_dict.items(), key=lambda x: x[1]))\n",
    "for key, value in R_dict_sorted.items():\n",
    "    print(f'- ({key}, {64-key}) --> E[R]={round(value, 3)}')"
   ]
  },
  {
   "cell_type": "code",
   "execution_count": null,
   "metadata": {},
   "outputs": [
    {
     "name": "stdout",
     "output_type": "stream",
     "text": [
      "---------------------------------\n",
      "--- Currently at treshold: 1 ---\n",
      "---------------------------------\n",
      "⌛ Creating task objects...\n"
     ]
    },
    {
     "name": "stderr",
     "output_type": "stream",
     "text": [
      "2329133it [01:39, 23367.25it/s]\n"
     ]
    },
    {
     "name": "stdout",
     "output_type": "stream",
     "text": [
      "✔️ Objects created!\n",
      "\n",
      "⌛ Running the 'simulation'...\n"
     ]
    },
    {
     "name": "stderr",
     "output_type": "stream",
     "text": [
      "100%|██████████| 2329133/2329133 [00:11<00:00, 201679.85it/s]\n"
     ]
    },
    {
     "name": "stdout",
     "output_type": "stream",
     "text": [
      "✔️ 'Simulation' completed!\n",
      "\n",
      "E[R] = 34402.46\n",
      "\n",
      "\n",
      "---------------------------------\n",
      "--- Currently at treshold: 2 ---\n",
      "---------------------------------\n",
      "⌛ Creating task objects...\n"
     ]
    },
    {
     "name": "stderr",
     "output_type": "stream",
     "text": [
      "2329133it [01:39, 23446.55it/s]\n"
     ]
    },
    {
     "name": "stdout",
     "output_type": "stream",
     "text": [
      "✔️ Objects created!\n",
      "\n",
      "⌛ Running the 'simulation'...\n"
     ]
    },
    {
     "name": "stderr",
     "output_type": "stream",
     "text": [
      "100%|██████████| 2329133/2329133 [00:11<00:00, 196963.65it/s]\n"
     ]
    },
    {
     "name": "stdout",
     "output_type": "stream",
     "text": [
      "✔️ 'Simulation' completed!\n",
      "\n",
      "E[R] = 17141.44\n",
      "\n",
      "\n",
      "---------------------------------\n",
      "--- Currently at treshold: 3 ---\n",
      "---------------------------------\n",
      "⌛ Creating task objects...\n"
     ]
    },
    {
     "name": "stderr",
     "output_type": "stream",
     "text": [
      "2329133it [01:40, 23104.84it/s]\n"
     ]
    },
    {
     "name": "stdout",
     "output_type": "stream",
     "text": [
      "✔️ Objects created!\n",
      "\n",
      "⌛ Running the 'simulation'...\n"
     ]
    },
    {
     "name": "stderr",
     "output_type": "stream",
     "text": [
      "100%|██████████| 2329133/2329133 [00:11<00:00, 198032.37it/s]\n"
     ]
    },
    {
     "name": "stdout",
     "output_type": "stream",
     "text": [
      "✔️ 'Simulation' completed!\n",
      "\n",
      "E[R] = 11370.42\n",
      "\n",
      "\n",
      "---------------------------------\n",
      "--- Currently at treshold: 4 ---\n",
      "---------------------------------\n",
      "⌛ Creating task objects...\n"
     ]
    },
    {
     "name": "stderr",
     "output_type": "stream",
     "text": [
      "2329133it [01:39, 23354.78it/s]\n"
     ]
    },
    {
     "name": "stdout",
     "output_type": "stream",
     "text": [
      "✔️ Objects created!\n",
      "\n",
      "⌛ Running the 'simulation'...\n"
     ]
    },
    {
     "name": "stderr",
     "output_type": "stream",
     "text": [
      "100%|██████████| 2329133/2329133 [00:11<00:00, 197088.25it/s]\n"
     ]
    },
    {
     "name": "stdout",
     "output_type": "stream",
     "text": [
      "✔️ 'Simulation' completed!\n",
      "\n",
      "E[R] = 8464.5\n",
      "\n",
      "\n",
      "---------------------------------\n",
      "--- Currently at treshold: 5 ---\n",
      "---------------------------------\n",
      "⌛ Creating task objects...\n"
     ]
    },
    {
     "name": "stderr",
     "output_type": "stream",
     "text": [
      "2329133it [01:39, 23352.15it/s]\n"
     ]
    },
    {
     "name": "stdout",
     "output_type": "stream",
     "text": [
      "✔️ Objects created!\n",
      "\n",
      "⌛ Running the 'simulation'...\n"
     ]
    },
    {
     "name": "stderr",
     "output_type": "stream",
     "text": [
      "100%|██████████| 2329133/2329133 [00:11<00:00, 196349.40it/s]\n"
     ]
    },
    {
     "name": "stdout",
     "output_type": "stream",
     "text": [
      "✔️ 'Simulation' completed!\n",
      "\n",
      "E[R] = 6721.74\n",
      "\n",
      "\n",
      "---------------------------------\n",
      "--- Currently at treshold: 6 ---\n",
      "---------------------------------\n",
      "⌛ Creating task objects...\n"
     ]
    },
    {
     "name": "stderr",
     "output_type": "stream",
     "text": [
      "2329133it [01:39, 23350.36it/s]\n"
     ]
    },
    {
     "name": "stdout",
     "output_type": "stream",
     "text": [
      "✔️ Objects created!\n",
      "\n",
      "⌛ Running the 'simulation'...\n"
     ]
    },
    {
     "name": "stderr",
     "output_type": "stream",
     "text": [
      "100%|██████████| 2329133/2329133 [00:12<00:00, 192746.90it/s]\n"
     ]
    },
    {
     "name": "stdout",
     "output_type": "stream",
     "text": [
      "✔️ 'Simulation' completed!\n",
      "\n",
      "E[R] = 5558.04\n",
      "\n",
      "\n",
      "---------------------------------\n",
      "--- Currently at treshold: 7 ---\n",
      "---------------------------------\n",
      "⌛ Creating task objects...\n"
     ]
    },
    {
     "name": "stderr",
     "output_type": "stream",
     "text": [
      "2329133it [01:39, 23390.99it/s]\n"
     ]
    },
    {
     "name": "stdout",
     "output_type": "stream",
     "text": [
      "✔️ Objects created!\n",
      "\n",
      "⌛ Running the 'simulation'...\n"
     ]
    },
    {
     "name": "stderr",
     "output_type": "stream",
     "text": [
      "100%|██████████| 2329133/2329133 [00:12<00:00, 193222.67it/s]\n"
     ]
    },
    {
     "name": "stdout",
     "output_type": "stream",
     "text": [
      "✔️ 'Simulation' completed!\n",
      "\n",
      "E[R] = 4736.42\n",
      "\n",
      "\n",
      "---------------------------------\n",
      "--- Currently at treshold: 8 ---\n",
      "---------------------------------\n",
      "⌛ Creating task objects...\n"
     ]
    },
    {
     "name": "stderr",
     "output_type": "stream",
     "text": [
      "2329133it [01:40, 23227.77it/s]\n"
     ]
    },
    {
     "name": "stdout",
     "output_type": "stream",
     "text": [
      "✔️ Objects created!\n",
      "\n",
      "⌛ Running the 'simulation'...\n"
     ]
    },
    {
     "name": "stderr",
     "output_type": "stream",
     "text": [
      "100%|██████████| 2329133/2329133 [00:12<00:00, 193628.51it/s]\n"
     ]
    },
    {
     "name": "stdout",
     "output_type": "stream",
     "text": [
      "✔️ 'Simulation' completed!\n",
      "\n",
      "E[R] = 4125.32\n",
      "\n",
      "\n",
      "---------------------------------\n",
      "--- Currently at treshold: 9 ---\n",
      "---------------------------------\n",
      "⌛ Creating task objects...\n"
     ]
    },
    {
     "name": "stderr",
     "output_type": "stream",
     "text": [
      "2329133it [01:39, 23337.57it/s]\n"
     ]
    },
    {
     "name": "stdout",
     "output_type": "stream",
     "text": [
      "✔️ Objects created!\n",
      "\n",
      "⌛ Running the 'simulation'...\n"
     ]
    },
    {
     "name": "stderr",
     "output_type": "stream",
     "text": [
      "100%|██████████| 2329133/2329133 [00:11<00:00, 194333.02it/s]\n"
     ]
    },
    {
     "name": "stdout",
     "output_type": "stream",
     "text": [
      "✔️ 'Simulation' completed!\n",
      "\n",
      "E[R] = 3653.89\n",
      "\n",
      "\n",
      "---------------------------------\n",
      "--- Currently at treshold: 10 ---\n",
      "---------------------------------\n",
      "⌛ Creating task objects...\n"
     ]
    },
    {
     "name": "stderr",
     "output_type": "stream",
     "text": [
      "2329133it [01:38, 23545.76it/s]\n"
     ]
    },
    {
     "name": "stdout",
     "output_type": "stream",
     "text": [
      "✔️ Objects created!\n",
      "\n",
      "⌛ Running the 'simulation'...\n"
     ]
    },
    {
     "name": "stderr",
     "output_type": "stream",
     "text": [
      "100%|██████████| 2329133/2329133 [00:12<00:00, 192302.30it/s]\n"
     ]
    },
    {
     "name": "stdout",
     "output_type": "stream",
     "text": [
      "✔️ 'Simulation' completed!\n",
      "\n",
      "E[R] = 3276.27\n",
      "\n",
      "\n",
      "---------------------------------\n",
      "--- Currently at treshold: 11 ---\n",
      "---------------------------------\n",
      "⌛ Creating task objects...\n"
     ]
    },
    {
     "name": "stderr",
     "output_type": "stream",
     "text": [
      "2329133it [01:39, 23330.49it/s]\n"
     ]
    },
    {
     "name": "stdout",
     "output_type": "stream",
     "text": [
      "✔️ Objects created!\n",
      "\n",
      "⌛ Running the 'simulation'...\n"
     ]
    },
    {
     "name": "stderr",
     "output_type": "stream",
     "text": [
      "100%|██████████| 2329133/2329133 [00:12<00:00, 189888.54it/s]\n"
     ]
    },
    {
     "name": "stdout",
     "output_type": "stream",
     "text": [
      "✔️ 'Simulation' completed!\n",
      "\n",
      "E[R] = 2970.87\n",
      "\n",
      "\n",
      "---------------------------------\n",
      "--- Currently at treshold: 12 ---\n",
      "---------------------------------\n",
      "⌛ Creating task objects...\n"
     ]
    },
    {
     "name": "stderr",
     "output_type": "stream",
     "text": [
      "2329133it [01:39, 23394.06it/s]\n"
     ]
    },
    {
     "name": "stdout",
     "output_type": "stream",
     "text": [
      "✔️ Objects created!\n",
      "\n",
      "⌛ Running the 'simulation'...\n"
     ]
    },
    {
     "name": "stderr",
     "output_type": "stream",
     "text": [
      "100%|██████████| 2329133/2329133 [00:12<00:00, 193147.29it/s]\n"
     ]
    },
    {
     "name": "stdout",
     "output_type": "stream",
     "text": [
      "✔️ 'Simulation' completed!\n",
      "\n",
      "E[R] = 2710.99\n",
      "\n",
      "\n",
      "---------------------------------\n",
      "--- Currently at treshold: 13 ---\n",
      "---------------------------------\n",
      "⌛ Creating task objects...\n"
     ]
    },
    {
     "name": "stderr",
     "output_type": "stream",
     "text": [
      "2329133it [01:39, 23408.85it/s]\n"
     ]
    },
    {
     "name": "stdout",
     "output_type": "stream",
     "text": [
      "✔️ Objects created!\n",
      "\n",
      "⌛ Running the 'simulation'...\n"
     ]
    },
    {
     "name": "stderr",
     "output_type": "stream",
     "text": [
      "100%|██████████| 2329133/2329133 [00:12<00:00, 192056.40it/s]\n"
     ]
    },
    {
     "name": "stdout",
     "output_type": "stream",
     "text": [
      "✔️ 'Simulation' completed!\n",
      "\n",
      "E[R] = 2490.52\n",
      "\n",
      "\n",
      "---------------------------------\n",
      "--- Currently at treshold: 14 ---\n",
      "---------------------------------\n",
      "⌛ Creating task objects...\n"
     ]
    },
    {
     "name": "stderr",
     "output_type": "stream",
     "text": [
      "2329133it [01:39, 23352.22it/s]\n"
     ]
    },
    {
     "name": "stdout",
     "output_type": "stream",
     "text": [
      "✔️ Objects created!\n",
      "\n",
      "⌛ Running the 'simulation'...\n"
     ]
    },
    {
     "name": "stderr",
     "output_type": "stream",
     "text": [
      "100%|██████████| 2329133/2329133 [00:12<00:00, 192755.52it/s]\n"
     ]
    },
    {
     "name": "stdout",
     "output_type": "stream",
     "text": [
      "✔️ 'Simulation' completed!\n",
      "\n",
      "E[R] = 2301.71\n",
      "\n",
      "\n",
      "---------------------------------\n",
      "--- Currently at treshold: 15 ---\n",
      "---------------------------------\n",
      "⌛ Creating task objects...\n"
     ]
    },
    {
     "name": "stderr",
     "output_type": "stream",
     "text": [
      "2329133it [01:39, 23450.61it/s]\n"
     ]
    },
    {
     "name": "stdout",
     "output_type": "stream",
     "text": [
      "✔️ Objects created!\n",
      "\n",
      "⌛ Running the 'simulation'...\n"
     ]
    },
    {
     "name": "stderr",
     "output_type": "stream",
     "text": [
      "100%|██████████| 2329133/2329133 [00:12<00:00, 192313.53it/s]\n"
     ]
    },
    {
     "name": "stdout",
     "output_type": "stream",
     "text": [
      "✔️ 'Simulation' completed!\n",
      "\n",
      "E[R] = 2138.64\n",
      "\n",
      "\n",
      "---------------------------------\n",
      "--- Currently at treshold: 16 ---\n",
      "---------------------------------\n",
      "⌛ Creating task objects...\n"
     ]
    },
    {
     "name": "stderr",
     "output_type": "stream",
     "text": [
      "2329133it [01:39, 23446.63it/s]\n"
     ]
    },
    {
     "name": "stdout",
     "output_type": "stream",
     "text": [
      "✔️ Objects created!\n",
      "\n",
      "⌛ Running the 'simulation'...\n"
     ]
    },
    {
     "name": "stderr",
     "output_type": "stream",
     "text": [
      "100%|██████████| 2329133/2329133 [00:12<00:00, 191537.24it/s]\n"
     ]
    },
    {
     "name": "stdout",
     "output_type": "stream",
     "text": [
      "✔️ 'Simulation' completed!\n",
      "\n",
      "E[R] = 1996.49\n",
      "\n",
      "\n",
      "---------------------------------\n",
      "--- Currently at treshold: 17 ---\n",
      "---------------------------------\n",
      "⌛ Creating task objects...\n"
     ]
    },
    {
     "name": "stderr",
     "output_type": "stream",
     "text": [
      "2329133it [01:39, 23325.74it/s]\n"
     ]
    },
    {
     "name": "stdout",
     "output_type": "stream",
     "text": [
      "✔️ Objects created!\n",
      "\n",
      "⌛ Running the 'simulation'...\n"
     ]
    },
    {
     "name": "stderr",
     "output_type": "stream",
     "text": [
      "100%|██████████| 2329133/2329133 [00:12<00:00, 191820.67it/s]\n"
     ]
    },
    {
     "name": "stdout",
     "output_type": "stream",
     "text": [
      "✔️ 'Simulation' completed!\n",
      "\n",
      "E[R] = 1872.17\n",
      "\n",
      "\n",
      "---------------------------------\n",
      "--- Currently at treshold: 18 ---\n",
      "---------------------------------\n",
      "⌛ Creating task objects...\n"
     ]
    },
    {
     "name": "stderr",
     "output_type": "stream",
     "text": [
      "2329133it [01:39, 23365.82it/s]\n"
     ]
    },
    {
     "name": "stdout",
     "output_type": "stream",
     "text": [
      "✔️ Objects created!\n",
      "\n",
      "⌛ Running the 'simulation'...\n"
     ]
    },
    {
     "name": "stderr",
     "output_type": "stream",
     "text": [
      "100%|██████████| 2329133/2329133 [00:12<00:00, 189858.66it/s]\n"
     ]
    },
    {
     "name": "stdout",
     "output_type": "stream",
     "text": [
      "✔️ 'Simulation' completed!\n",
      "\n",
      "E[R] = 1761.68\n",
      "\n",
      "\n",
      "---------------------------------\n",
      "--- Currently at treshold: 19 ---\n",
      "---------------------------------\n",
      "⌛ Creating task objects...\n"
     ]
    },
    {
     "name": "stderr",
     "output_type": "stream",
     "text": [
      "2329133it [01:38, 23545.45it/s]\n"
     ]
    },
    {
     "name": "stdout",
     "output_type": "stream",
     "text": [
      "✔️ Objects created!\n",
      "\n",
      "⌛ Running the 'simulation'...\n"
     ]
    },
    {
     "name": "stderr",
     "output_type": "stream",
     "text": [
      "100%|██████████| 2329133/2329133 [00:12<00:00, 187469.90it/s]\n"
     ]
    },
    {
     "name": "stdout",
     "output_type": "stream",
     "text": [
      "✔️ 'Simulation' completed!\n",
      "\n",
      "E[R] = 1663.38\n",
      "\n",
      "\n",
      "---------------------------------\n",
      "--- Currently at treshold: 20 ---\n",
      "---------------------------------\n",
      "⌛ Creating task objects...\n"
     ]
    },
    {
     "name": "stderr",
     "output_type": "stream",
     "text": [
      "2329133it [01:39, 23326.83it/s]\n"
     ]
    },
    {
     "name": "stdout",
     "output_type": "stream",
     "text": [
      "✔️ Objects created!\n",
      "\n",
      "⌛ Running the 'simulation'...\n"
     ]
    },
    {
     "name": "stderr",
     "output_type": "stream",
     "text": [
      "100%|██████████| 2329133/2329133 [00:12<00:00, 190240.92it/s]\n"
     ]
    },
    {
     "name": "stdout",
     "output_type": "stream",
     "text": [
      "✔️ 'Simulation' completed!\n",
      "\n",
      "E[R] = 1575.64\n",
      "\n",
      "\n",
      "---------------------------------\n",
      "--- Currently at treshold: 21 ---\n",
      "---------------------------------\n",
      "⌛ Creating task objects...\n"
     ]
    },
    {
     "name": "stderr",
     "output_type": "stream",
     "text": [
      "2329133it [01:39, 23372.52it/s]\n"
     ]
    },
    {
     "name": "stdout",
     "output_type": "stream",
     "text": [
      "✔️ Objects created!\n",
      "\n",
      "⌛ Running the 'simulation'...\n"
     ]
    },
    {
     "name": "stderr",
     "output_type": "stream",
     "text": [
      "100%|██████████| 2329133/2329133 [00:12<00:00, 186222.14it/s]\n"
     ]
    },
    {
     "name": "stdout",
     "output_type": "stream",
     "text": [
      "✔️ 'Simulation' completed!\n",
      "\n",
      "E[R] = 1496.13\n",
      "\n",
      "\n",
      "---------------------------------\n",
      "--- Currently at treshold: 22 ---\n",
      "---------------------------------\n",
      "⌛ Creating task objects...\n"
     ]
    },
    {
     "name": "stderr",
     "output_type": "stream",
     "text": [
      "2329133it [01:38, 23527.66it/s]\n"
     ]
    },
    {
     "name": "stdout",
     "output_type": "stream",
     "text": [
      "✔️ Objects created!\n",
      "\n",
      "⌛ Running the 'simulation'...\n"
     ]
    },
    {
     "name": "stderr",
     "output_type": "stream",
     "text": [
      "100%|██████████| 2329133/2329133 [00:12<00:00, 187037.51it/s]\n"
     ]
    },
    {
     "name": "stdout",
     "output_type": "stream",
     "text": [
      "✔️ 'Simulation' completed!\n",
      "\n",
      "E[R] = 1423.23\n",
      "\n",
      "\n",
      "---------------------------------\n",
      "--- Currently at treshold: 23 ---\n",
      "---------------------------------\n",
      "⌛ Creating task objects...\n"
     ]
    },
    {
     "name": "stderr",
     "output_type": "stream",
     "text": [
      "2329133it [01:39, 23439.89it/s]\n"
     ]
    },
    {
     "name": "stdout",
     "output_type": "stream",
     "text": [
      "✔️ Objects created!\n",
      "\n",
      "⌛ Running the 'simulation'...\n"
     ]
    },
    {
     "name": "stderr",
     "output_type": "stream",
     "text": [
      "100%|██████████| 2329133/2329133 [00:12<00:00, 188169.80it/s]\n"
     ]
    },
    {
     "name": "stdout",
     "output_type": "stream",
     "text": [
      "✔️ 'Simulation' completed!\n",
      "\n",
      "E[R] = 1357.1\n",
      "\n",
      "\n",
      "---------------------------------\n",
      "--- Currently at treshold: 24 ---\n",
      "---------------------------------\n",
      "⌛ Creating task objects...\n"
     ]
    },
    {
     "name": "stderr",
     "output_type": "stream",
     "text": [
      "2329133it [01:39, 23351.68it/s]\n"
     ]
    },
    {
     "name": "stdout",
     "output_type": "stream",
     "text": [
      "✔️ Objects created!\n",
      "\n",
      "⌛ Running the 'simulation'...\n"
     ]
    },
    {
     "name": "stderr",
     "output_type": "stream",
     "text": [
      "100%|██████████| 2329133/2329133 [00:12<00:00, 187016.42it/s]\n"
     ]
    },
    {
     "name": "stdout",
     "output_type": "stream",
     "text": [
      "✔️ 'Simulation' completed!\n",
      "\n",
      "E[R] = 1296.13\n",
      "\n",
      "\n",
      "---------------------------------\n",
      "--- Currently at treshold: 25 ---\n",
      "---------------------------------\n",
      "⌛ Creating task objects...\n"
     ]
    },
    {
     "name": "stderr",
     "output_type": "stream",
     "text": [
      "2329133it [01:39, 23411.85it/s]\n"
     ]
    },
    {
     "name": "stdout",
     "output_type": "stream",
     "text": [
      "✔️ Objects created!\n",
      "\n",
      "⌛ Running the 'simulation'...\n"
     ]
    },
    {
     "name": "stderr",
     "output_type": "stream",
     "text": [
      "100%|██████████| 2329133/2329133 [00:12<00:00, 185006.53it/s]\n"
     ]
    },
    {
     "name": "stdout",
     "output_type": "stream",
     "text": [
      "✔️ 'Simulation' completed!\n",
      "\n",
      "E[R] = 1240.7\n",
      "\n",
      "\n",
      "---------------------------------\n",
      "--- Currently at treshold: 26 ---\n",
      "---------------------------------\n",
      "⌛ Creating task objects...\n"
     ]
    },
    {
     "name": "stderr",
     "output_type": "stream",
     "text": [
      "2329133it [01:39, 23403.96it/s]\n"
     ]
    },
    {
     "name": "stdout",
     "output_type": "stream",
     "text": [
      "✔️ Objects created!\n",
      "\n",
      "⌛ Running the 'simulation'...\n"
     ]
    },
    {
     "name": "stderr",
     "output_type": "stream",
     "text": [
      "100%|██████████| 2329133/2329133 [00:12<00:00, 185205.14it/s]\n"
     ]
    },
    {
     "name": "stdout",
     "output_type": "stream",
     "text": [
      "✔️ 'Simulation' completed!\n",
      "\n",
      "E[R] = 1189.24\n",
      "\n",
      "\n",
      "---------------------------------\n",
      "--- Currently at treshold: 27 ---\n",
      "---------------------------------\n",
      "⌛ Creating task objects...\n"
     ]
    },
    {
     "name": "stderr",
     "output_type": "stream",
     "text": [
      "2329133it [01:39, 23328.48it/s]\n"
     ]
    },
    {
     "name": "stdout",
     "output_type": "stream",
     "text": [
      "✔️ Objects created!\n",
      "\n",
      "⌛ Running the 'simulation'...\n"
     ]
    },
    {
     "name": "stderr",
     "output_type": "stream",
     "text": [
      "100%|██████████| 2329133/2329133 [00:12<00:00, 185209.66it/s]\n"
     ]
    },
    {
     "name": "stdout",
     "output_type": "stream",
     "text": [
      "✔️ 'Simulation' completed!\n",
      "\n",
      "E[R] = 1141.44\n",
      "\n",
      "\n",
      "---------------------------------\n",
      "--- Currently at treshold: 28 ---\n",
      "---------------------------------\n",
      "⌛ Creating task objects...\n"
     ]
    },
    {
     "name": "stderr",
     "output_type": "stream",
     "text": [
      "2329133it [01:39, 23462.14it/s]\n"
     ]
    },
    {
     "name": "stdout",
     "output_type": "stream",
     "text": [
      "✔️ Objects created!\n",
      "\n",
      "⌛ Running the 'simulation'...\n"
     ]
    },
    {
     "name": "stderr",
     "output_type": "stream",
     "text": [
      "100%|██████████| 2329133/2329133 [00:12<00:00, 184594.26it/s]\n"
     ]
    },
    {
     "name": "stdout",
     "output_type": "stream",
     "text": [
      "✔️ 'Simulation' completed!\n",
      "\n",
      "E[R] = 1096.96\n",
      "\n",
      "\n",
      "---------------------------------\n",
      "--- Currently at treshold: 29 ---\n",
      "---------------------------------\n",
      "⌛ Creating task objects...\n"
     ]
    },
    {
     "name": "stderr",
     "output_type": "stream",
     "text": [
      "2329133it [01:39, 23482.27it/s]\n"
     ]
    },
    {
     "name": "stdout",
     "output_type": "stream",
     "text": [
      "✔️ Objects created!\n",
      "\n",
      "⌛ Running the 'simulation'...\n"
     ]
    },
    {
     "name": "stderr",
     "output_type": "stream",
     "text": [
      "100%|██████████| 2329133/2329133 [00:12<00:00, 184493.28it/s]\n"
     ]
    },
    {
     "name": "stdout",
     "output_type": "stream",
     "text": [
      "✔️ 'Simulation' completed!\n",
      "\n",
      "E[R] = 1055.73\n",
      "\n",
      "\n",
      "---------------------------------\n",
      "--- Currently at treshold: 30 ---\n",
      "---------------------------------\n",
      "⌛ Creating task objects...\n"
     ]
    },
    {
     "name": "stderr",
     "output_type": "stream",
     "text": [
      "2329133it [01:39, 23395.66it/s]\n"
     ]
    },
    {
     "name": "stdout",
     "output_type": "stream",
     "text": [
      "✔️ Objects created!\n",
      "\n",
      "⌛ Running the 'simulation'...\n"
     ]
    },
    {
     "name": "stderr",
     "output_type": "stream",
     "text": [
      "100%|██████████| 2329133/2329133 [00:12<00:00, 186524.45it/s]\n"
     ]
    },
    {
     "name": "stdout",
     "output_type": "stream",
     "text": [
      "✔️ 'Simulation' completed!\n",
      "\n",
      "E[R] = 1017.37\n",
      "\n",
      "\n",
      "---------------------------------\n",
      "--- Currently at treshold: 31 ---\n",
      "---------------------------------\n",
      "⌛ Creating task objects...\n"
     ]
    },
    {
     "name": "stderr",
     "output_type": "stream",
     "text": [
      "2329133it [01:39, 23469.48it/s]\n"
     ]
    },
    {
     "name": "stdout",
     "output_type": "stream",
     "text": [
      "✔️ Objects created!\n",
      "\n",
      "⌛ Running the 'simulation'...\n"
     ]
    },
    {
     "name": "stderr",
     "output_type": "stream",
     "text": [
      "100%|██████████| 2329133/2329133 [00:12<00:00, 184319.26it/s]\n"
     ]
    },
    {
     "name": "stdout",
     "output_type": "stream",
     "text": [
      "✔️ 'Simulation' completed!\n",
      "\n",
      "E[R] = 981.62\n",
      "\n",
      "\n",
      "---------------------------------\n",
      "--- Currently at treshold: 32 ---\n",
      "---------------------------------\n",
      "⌛ Creating task objects...\n"
     ]
    },
    {
     "name": "stderr",
     "output_type": "stream",
     "text": [
      "2329133it [01:39, 23424.27it/s]\n"
     ]
    },
    {
     "name": "stdout",
     "output_type": "stream",
     "text": [
      "✔️ Objects created!\n",
      "\n",
      "⌛ Running the 'simulation'...\n"
     ]
    },
    {
     "name": "stderr",
     "output_type": "stream",
     "text": [
      "100%|██████████| 2329133/2329133 [00:12<00:00, 186477.30it/s]\n"
     ]
    },
    {
     "name": "stdout",
     "output_type": "stream",
     "text": [
      "✔️ 'Simulation' completed!\n",
      "\n",
      "E[R] = 948.39\n",
      "\n",
      "\n",
      "---------------------------------\n",
      "--- Currently at treshold: 33 ---\n",
      "---------------------------------\n",
      "⌛ Creating task objects...\n"
     ]
    },
    {
     "name": "stderr",
     "output_type": "stream",
     "text": [
      "2329133it [01:39, 23328.66it/s]\n"
     ]
    },
    {
     "name": "stdout",
     "output_type": "stream",
     "text": [
      "✔️ Objects created!\n",
      "\n",
      "⌛ Running the 'simulation'...\n"
     ]
    },
    {
     "name": "stderr",
     "output_type": "stream",
     "text": [
      "100%|██████████| 2329133/2329133 [00:12<00:00, 186181.29it/s]\n"
     ]
    },
    {
     "name": "stdout",
     "output_type": "stream",
     "text": [
      "✔️ 'Simulation' completed!\n",
      "\n",
      "E[R] = 916.96\n",
      "\n",
      "\n",
      "---------------------------------\n",
      "--- Currently at treshold: 34 ---\n",
      "---------------------------------\n",
      "⌛ Creating task objects...\n"
     ]
    },
    {
     "name": "stderr",
     "output_type": "stream",
     "text": [
      "2329133it [01:39, 23427.53it/s]\n"
     ]
    },
    {
     "name": "stdout",
     "output_type": "stream",
     "text": [
      "✔️ Objects created!\n",
      "\n",
      "⌛ Running the 'simulation'...\n"
     ]
    },
    {
     "name": "stderr",
     "output_type": "stream",
     "text": [
      "100%|██████████| 2329133/2329133 [00:12<00:00, 183314.79it/s]\n"
     ]
    },
    {
     "name": "stdout",
     "output_type": "stream",
     "text": [
      "✔️ 'Simulation' completed!\n",
      "\n",
      "E[R] = 887.72\n",
      "\n",
      "\n",
      "---------------------------------\n",
      "--- Currently at treshold: 35 ---\n",
      "---------------------------------\n",
      "⌛ Creating task objects...\n"
     ]
    },
    {
     "name": "stderr",
     "output_type": "stream",
     "text": [
      "2329133it [01:39, 23422.94it/s]\n"
     ]
    },
    {
     "name": "stdout",
     "output_type": "stream",
     "text": [
      "✔️ Objects created!\n",
      "\n",
      "⌛ Running the 'simulation'...\n"
     ]
    },
    {
     "name": "stderr",
     "output_type": "stream",
     "text": [
      "100%|██████████| 2329133/2329133 [00:12<00:00, 183607.75it/s]\n"
     ]
    },
    {
     "name": "stdout",
     "output_type": "stream",
     "text": [
      "✔️ 'Simulation' completed!\n",
      "\n",
      "E[R] = 860.35\n",
      "\n",
      "\n",
      "---------------------------------\n",
      "--- Currently at treshold: 36 ---\n",
      "---------------------------------\n",
      "⌛ Creating task objects...\n"
     ]
    },
    {
     "name": "stderr",
     "output_type": "stream",
     "text": [
      "2329133it [01:40, 23102.74it/s]\n"
     ]
    },
    {
     "name": "stdout",
     "output_type": "stream",
     "text": [
      "✔️ Objects created!\n",
      "\n",
      "⌛ Running the 'simulation'...\n"
     ]
    },
    {
     "name": "stderr",
     "output_type": "stream",
     "text": [
      "100%|██████████| 2329133/2329133 [00:12<00:00, 185462.72it/s]\n"
     ]
    },
    {
     "name": "stdout",
     "output_type": "stream",
     "text": [
      "✔️ 'Simulation' completed!\n",
      "\n",
      "E[R] = 835.13\n",
      "\n",
      "\n",
      "---------------------------------\n",
      "--- Currently at treshold: 37 ---\n",
      "---------------------------------\n",
      "⌛ Creating task objects...\n"
     ]
    },
    {
     "name": "stderr",
     "output_type": "stream",
     "text": [
      "2329133it [01:39, 23489.30it/s]\n"
     ]
    },
    {
     "name": "stdout",
     "output_type": "stream",
     "text": [
      "✔️ Objects created!\n",
      "\n",
      "⌛ Running the 'simulation'...\n"
     ]
    },
    {
     "name": "stderr",
     "output_type": "stream",
     "text": [
      "100%|██████████| 2329133/2329133 [00:12<00:00, 184980.89it/s]\n"
     ]
    },
    {
     "name": "stdout",
     "output_type": "stream",
     "text": [
      "✔️ 'Simulation' completed!\n",
      "\n",
      "E[R] = 811.57\n",
      "\n",
      "\n",
      "---------------------------------\n",
      "--- Currently at treshold: 38 ---\n",
      "---------------------------------\n",
      "⌛ Creating task objects...\n"
     ]
    },
    {
     "name": "stderr",
     "output_type": "stream",
     "text": [
      "2329133it [01:40, 23268.27it/s]\n"
     ]
    },
    {
     "name": "stdout",
     "output_type": "stream",
     "text": [
      "✔️ Objects created!\n",
      "\n",
      "⌛ Running the 'simulation'...\n"
     ]
    },
    {
     "name": "stderr",
     "output_type": "stream",
     "text": [
      "100%|██████████| 2329133/2329133 [00:12<00:00, 184600.83it/s]\n"
     ]
    },
    {
     "name": "stdout",
     "output_type": "stream",
     "text": [
      "✔️ 'Simulation' completed!\n",
      "\n",
      "E[R] = 789.39\n",
      "\n",
      "\n",
      "---------------------------------\n",
      "--- Currently at treshold: 39 ---\n",
      "---------------------------------\n",
      "⌛ Creating task objects...\n"
     ]
    },
    {
     "name": "stderr",
     "output_type": "stream",
     "text": [
      "2329133it [01:38, 23553.17it/s]\n"
     ]
    },
    {
     "name": "stdout",
     "output_type": "stream",
     "text": [
      "✔️ Objects created!\n",
      "\n",
      "⌛ Running the 'simulation'...\n"
     ]
    },
    {
     "name": "stderr",
     "output_type": "stream",
     "text": [
      "100%|██████████| 2329133/2329133 [00:12<00:00, 186947.40it/s]\n"
     ]
    },
    {
     "name": "stdout",
     "output_type": "stream",
     "text": [
      "✔️ 'Simulation' completed!\n",
      "\n",
      "E[R] = 768.55\n",
      "\n",
      "\n",
      "---------------------------------\n",
      "--- Currently at treshold: 40 ---\n",
      "---------------------------------\n",
      "⌛ Creating task objects...\n"
     ]
    },
    {
     "name": "stderr",
     "output_type": "stream",
     "text": [
      "2329133it [01:40, 23275.67it/s]\n"
     ]
    },
    {
     "name": "stdout",
     "output_type": "stream",
     "text": [
      "✔️ Objects created!\n",
      "\n",
      "⌛ Running the 'simulation'...\n"
     ]
    },
    {
     "name": "stderr",
     "output_type": "stream",
     "text": [
      "100%|██████████| 2329133/2329133 [00:12<00:00, 184472.40it/s]\n"
     ]
    },
    {
     "name": "stdout",
     "output_type": "stream",
     "text": [
      "✔️ 'Simulation' completed!\n",
      "\n",
      "E[R] = 748.75\n",
      "\n",
      "\n",
      "---------------------------------\n",
      "--- Currently at treshold: 41 ---\n",
      "---------------------------------\n",
      "⌛ Creating task objects...\n"
     ]
    },
    {
     "name": "stderr",
     "output_type": "stream",
     "text": [
      "2329133it [01:39, 23417.89it/s]\n"
     ]
    },
    {
     "name": "stdout",
     "output_type": "stream",
     "text": [
      "✔️ Objects created!\n",
      "\n",
      "⌛ Running the 'simulation'...\n"
     ]
    },
    {
     "name": "stderr",
     "output_type": "stream",
     "text": [
      "100%|██████████| 2329133/2329133 [00:12<00:00, 183952.75it/s]\n"
     ]
    },
    {
     "name": "stdout",
     "output_type": "stream",
     "text": [
      "✔️ 'Simulation' completed!\n",
      "\n",
      "E[R] = 730.06\n",
      "\n",
      "\n",
      "---------------------------------\n",
      "--- Currently at treshold: 42 ---\n",
      "---------------------------------\n",
      "⌛ Creating task objects...\n"
     ]
    },
    {
     "name": "stderr",
     "output_type": "stream",
     "text": [
      "2329133it [01:38, 23593.25it/s]\n"
     ]
    },
    {
     "name": "stdout",
     "output_type": "stream",
     "text": [
      "✔️ Objects created!\n",
      "\n",
      "⌛ Running the 'simulation'...\n"
     ]
    },
    {
     "name": "stderr",
     "output_type": "stream",
     "text": [
      "100%|██████████| 2329133/2329133 [00:12<00:00, 182830.79it/s]\n"
     ]
    },
    {
     "name": "stdout",
     "output_type": "stream",
     "text": [
      "✔️ 'Simulation' completed!\n",
      "\n",
      "E[R] = 712.48\n",
      "\n",
      "\n",
      "---------------------------------\n",
      "--- Currently at treshold: 43 ---\n",
      "---------------------------------\n",
      "⌛ Creating task objects...\n"
     ]
    },
    {
     "name": "stderr",
     "output_type": "stream",
     "text": [
      "2329133it [01:39, 23314.10it/s]\n"
     ]
    },
    {
     "name": "stdout",
     "output_type": "stream",
     "text": [
      "✔️ Objects created!\n",
      "\n",
      "⌛ Running the 'simulation'...\n"
     ]
    },
    {
     "name": "stderr",
     "output_type": "stream",
     "text": [
      "100%|██████████| 2329133/2329133 [00:12<00:00, 181846.51it/s]\n"
     ]
    },
    {
     "name": "stdout",
     "output_type": "stream",
     "text": [
      "✔️ 'Simulation' completed!\n",
      "\n",
      "E[R] = 696.0\n",
      "\n",
      "\n",
      "---------------------------------\n",
      "--- Currently at treshold: 44 ---\n",
      "---------------------------------\n",
      "⌛ Creating task objects...\n"
     ]
    },
    {
     "name": "stderr",
     "output_type": "stream",
     "text": [
      "2329133it [01:39, 23508.04it/s]\n"
     ]
    },
    {
     "name": "stdout",
     "output_type": "stream",
     "text": [
      "✔️ Objects created!\n",
      "\n",
      "⌛ Running the 'simulation'...\n"
     ]
    },
    {
     "name": "stderr",
     "output_type": "stream",
     "text": [
      "100%|██████████| 2329133/2329133 [00:12<00:00, 183180.99it/s]\n"
     ]
    },
    {
     "name": "stdout",
     "output_type": "stream",
     "text": [
      "✔️ 'Simulation' completed!\n",
      "\n",
      "E[R] = 680.5\n",
      "\n",
      "\n",
      "---------------------------------\n",
      "--- Currently at treshold: 45 ---\n",
      "---------------------------------\n",
      "⌛ Creating task objects...\n"
     ]
    },
    {
     "name": "stderr",
     "output_type": "stream",
     "text": [
      "2329133it [01:38, 23529.01it/s]\n"
     ]
    },
    {
     "name": "stdout",
     "output_type": "stream",
     "text": [
      "✔️ Objects created!\n",
      "\n",
      "⌛ Running the 'simulation'...\n"
     ]
    },
    {
     "name": "stderr",
     "output_type": "stream",
     "text": [
      "100%|██████████| 2329133/2329133 [00:12<00:00, 185383.99it/s]\n"
     ]
    },
    {
     "name": "stdout",
     "output_type": "stream",
     "text": [
      "✔️ 'Simulation' completed!\n",
      "\n",
      "E[R] = 665.99\n",
      "\n",
      "\n",
      "---------------------------------\n",
      "--- Currently at treshold: 46 ---\n",
      "---------------------------------\n",
      "⌛ Creating task objects...\n"
     ]
    },
    {
     "name": "stderr",
     "output_type": "stream",
     "text": [
      "2329133it [01:39, 23352.53it/s]\n"
     ]
    },
    {
     "name": "stdout",
     "output_type": "stream",
     "text": [
      "✔️ Objects created!\n",
      "\n",
      "⌛ Running the 'simulation'...\n"
     ]
    },
    {
     "name": "stderr",
     "output_type": "stream",
     "text": [
      "100%|██████████| 2329133/2329133 [00:12<00:00, 184119.19it/s]\n"
     ]
    },
    {
     "name": "stdout",
     "output_type": "stream",
     "text": [
      "✔️ 'Simulation' completed!\n",
      "\n",
      "E[R] = 652.42\n",
      "\n",
      "\n",
      "---------------------------------\n",
      "--- Currently at treshold: 47 ---\n",
      "---------------------------------\n",
      "⌛ Creating task objects...\n"
     ]
    },
    {
     "name": "stderr",
     "output_type": "stream",
     "text": [
      "2329133it [01:39, 23394.42it/s]\n"
     ]
    },
    {
     "name": "stdout",
     "output_type": "stream",
     "text": [
      "✔️ Objects created!\n",
      "\n",
      "⌛ Running the 'simulation'...\n"
     ]
    },
    {
     "name": "stderr",
     "output_type": "stream",
     "text": [
      "100%|██████████| 2329133/2329133 [00:13<00:00, 177916.54it/s]\n"
     ]
    },
    {
     "name": "stdout",
     "output_type": "stream",
     "text": [
      "✔️ 'Simulation' completed!\n",
      "\n",
      "E[R] = 639.76\n",
      "\n",
      "\n",
      "---------------------------------\n",
      "--- Currently at treshold: 48 ---\n",
      "---------------------------------\n",
      "⌛ Creating task objects...\n"
     ]
    },
    {
     "name": "stderr",
     "output_type": "stream",
     "text": [
      "2329133it [01:39, 23464.99it/s]\n"
     ]
    },
    {
     "name": "stdout",
     "output_type": "stream",
     "text": [
      "✔️ Objects created!\n",
      "\n",
      "⌛ Running the 'simulation'...\n"
     ]
    },
    {
     "name": "stderr",
     "output_type": "stream",
     "text": [
      "100%|██████████| 2329133/2329133 [00:12<00:00, 184582.11it/s]\n"
     ]
    },
    {
     "name": "stdout",
     "output_type": "stream",
     "text": [
      "✔️ 'Simulation' completed!\n",
      "\n",
      "E[R] = 628.09\n",
      "\n",
      "\n",
      "---------------------------------\n",
      "--- Currently at treshold: 49 ---\n",
      "---------------------------------\n",
      "⌛ Creating task objects...\n"
     ]
    },
    {
     "name": "stderr",
     "output_type": "stream",
     "text": [
      "2329133it [01:39, 23339.07it/s]\n"
     ]
    },
    {
     "name": "stdout",
     "output_type": "stream",
     "text": [
      "✔️ Objects created!\n",
      "\n",
      "⌛ Running the 'simulation'...\n"
     ]
    },
    {
     "name": "stderr",
     "output_type": "stream",
     "text": [
      "100%|██████████| 2329133/2329133 [00:12<00:00, 181919.58it/s]\n"
     ]
    },
    {
     "name": "stdout",
     "output_type": "stream",
     "text": [
      "✔️ 'Simulation' completed!\n",
      "\n",
      "E[R] = 616.96\n",
      "\n",
      "\n",
      "---------------------------------\n",
      "--- Currently at treshold: 50 ---\n",
      "---------------------------------\n",
      "⌛ Creating task objects...\n"
     ]
    },
    {
     "name": "stderr",
     "output_type": "stream",
     "text": [
      "2329133it [01:39, 23369.17it/s]\n"
     ]
    },
    {
     "name": "stdout",
     "output_type": "stream",
     "text": [
      "✔️ Objects created!\n",
      "\n",
      "⌛ Running the 'simulation'...\n"
     ]
    },
    {
     "name": "stderr",
     "output_type": "stream",
     "text": [
      "100%|██████████| 2329133/2329133 [00:13<00:00, 178408.72it/s]\n"
     ]
    },
    {
     "name": "stdout",
     "output_type": "stream",
     "text": [
      "✔️ 'Simulation' completed!\n",
      "\n",
      "E[R] = 606.7\n",
      "\n",
      "\n",
      "---------------------------------\n",
      "--- Currently at treshold: 51 ---\n",
      "---------------------------------\n",
      "⌛ Creating task objects...\n"
     ]
    },
    {
     "name": "stderr",
     "output_type": "stream",
     "text": [
      "2329133it [01:38, 23567.44it/s]\n"
     ]
    },
    {
     "name": "stdout",
     "output_type": "stream",
     "text": [
      "✔️ Objects created!\n",
      "\n",
      "⌛ Running the 'simulation'...\n"
     ]
    },
    {
     "name": "stderr",
     "output_type": "stream",
     "text": [
      "100%|██████████| 2329133/2329133 [00:12<00:00, 180051.27it/s]\n"
     ]
    },
    {
     "name": "stdout",
     "output_type": "stream",
     "text": [
      "✔️ 'Simulation' completed!\n",
      "\n",
      "E[R] = 597.37\n",
      "\n",
      "\n",
      "---------------------------------\n",
      "--- Currently at treshold: 52 ---\n",
      "---------------------------------\n",
      "⌛ Creating task objects...\n"
     ]
    },
    {
     "name": "stderr",
     "output_type": "stream",
     "text": [
      "2329133it [01:39, 23392.57it/s]\n"
     ]
    },
    {
     "name": "stdout",
     "output_type": "stream",
     "text": [
      "✔️ Objects created!\n",
      "\n",
      "⌛ Running the 'simulation'...\n"
     ]
    },
    {
     "name": "stderr",
     "output_type": "stream",
     "text": [
      "100%|██████████| 2329133/2329133 [00:12<00:00, 181562.71it/s]\n"
     ]
    },
    {
     "name": "stdout",
     "output_type": "stream",
     "text": [
      "✔️ 'Simulation' completed!\n",
      "\n",
      "E[R] = 589.15\n",
      "\n",
      "\n",
      "---------------------------------\n",
      "--- Currently at treshold: 53 ---\n",
      "---------------------------------\n",
      "⌛ Creating task objects...\n"
     ]
    },
    {
     "name": "stderr",
     "output_type": "stream",
     "text": [
      "2329133it [01:39, 23451.30it/s]\n"
     ]
    },
    {
     "name": "stdout",
     "output_type": "stream",
     "text": [
      "✔️ Objects created!\n",
      "\n",
      "⌛ Running the 'simulation'...\n"
     ]
    },
    {
     "name": "stderr",
     "output_type": "stream",
     "text": [
      "100%|██████████| 2329133/2329133 [00:13<00:00, 176006.61it/s]\n"
     ]
    },
    {
     "name": "stdout",
     "output_type": "stream",
     "text": [
      "✔️ 'Simulation' completed!\n",
      "\n",
      "E[R] = 582.02\n",
      "\n",
      "\n",
      "---------------------------------\n",
      "--- Currently at treshold: 54 ---\n",
      "---------------------------------\n",
      "⌛ Creating task objects...\n"
     ]
    },
    {
     "name": "stderr",
     "output_type": "stream",
     "text": [
      "2329133it [01:39, 23496.87it/s]\n"
     ]
    },
    {
     "name": "stdout",
     "output_type": "stream",
     "text": [
      "✔️ Objects created!\n",
      "\n",
      "⌛ Running the 'simulation'...\n"
     ]
    },
    {
     "name": "stderr",
     "output_type": "stream",
     "text": [
      "100%|██████████| 2329133/2329133 [00:12<00:00, 179733.37it/s]\n"
     ]
    },
    {
     "name": "stdout",
     "output_type": "stream",
     "text": [
      "✔️ 'Simulation' completed!\n",
      "\n",
      "E[R] = 576.46\n",
      "\n",
      "\n",
      "---------------------------------\n",
      "--- Currently at treshold: 55 ---\n",
      "---------------------------------\n",
      "⌛ Creating task objects...\n"
     ]
    },
    {
     "name": "stderr",
     "output_type": "stream",
     "text": [
      "2329133it [01:39, 23394.02it/s]\n"
     ]
    },
    {
     "name": "stdout",
     "output_type": "stream",
     "text": [
      "✔️ Objects created!\n",
      "\n",
      "⌛ Running the 'simulation'...\n"
     ]
    },
    {
     "name": "stderr",
     "output_type": "stream",
     "text": [
      "100%|██████████| 2329133/2329133 [00:12<00:00, 181519.20it/s]\n"
     ]
    },
    {
     "name": "stdout",
     "output_type": "stream",
     "text": [
      "✔️ 'Simulation' completed!\n",
      "\n",
      "E[R] = 572.71\n",
      "\n",
      "\n",
      "---------------------------------\n",
      "--- Currently at treshold: 56 ---\n",
      "---------------------------------\n",
      "⌛ Creating task objects...\n"
     ]
    },
    {
     "name": "stderr",
     "output_type": "stream",
     "text": [
      "2329133it [01:39, 23495.72it/s]\n"
     ]
    },
    {
     "name": "stdout",
     "output_type": "stream",
     "text": [
      "✔️ Objects created!\n",
      "\n",
      "⌛ Running the 'simulation'...\n"
     ]
    },
    {
     "name": "stderr",
     "output_type": "stream",
     "text": [
      "100%|██████████| 2329133/2329133 [00:13<00:00, 177069.30it/s]\n"
     ]
    },
    {
     "name": "stdout",
     "output_type": "stream",
     "text": [
      "✔️ 'Simulation' completed!\n",
      "\n",
      "E[R] = 571.17\n",
      "\n",
      "\n",
      "---------------------------------\n",
      "--- Currently at treshold: 57 ---\n",
      "---------------------------------\n",
      "⌛ Creating task objects...\n"
     ]
    },
    {
     "name": "stderr",
     "output_type": "stream",
     "text": [
      "2329133it [01:39, 23470.54it/s]\n"
     ]
    },
    {
     "name": "stdout",
     "output_type": "stream",
     "text": [
      "✔️ Objects created!\n",
      "\n",
      "⌛ Running the 'simulation'...\n"
     ]
    },
    {
     "name": "stderr",
     "output_type": "stream",
     "text": [
      "100%|██████████| 2329133/2329133 [00:13<00:00, 177518.92it/s]\n"
     ]
    },
    {
     "name": "stdout",
     "output_type": "stream",
     "text": [
      "✔️ 'Simulation' completed!\n",
      "\n",
      "E[R] = 571.99\n",
      "\n",
      "\n",
      "---------------------------------\n",
      "--- Currently at treshold: 58 ---\n",
      "---------------------------------\n",
      "⌛ Creating task objects...\n"
     ]
    },
    {
     "name": "stderr",
     "output_type": "stream",
     "text": [
      "2329133it [01:39, 23470.02it/s]\n"
     ]
    },
    {
     "name": "stdout",
     "output_type": "stream",
     "text": [
      "✔️ Objects created!\n",
      "\n",
      "⌛ Running the 'simulation'...\n"
     ]
    },
    {
     "name": "stderr",
     "output_type": "stream",
     "text": [
      "100%|██████████| 2329133/2329133 [00:12<00:00, 181124.63it/s]\n"
     ]
    },
    {
     "name": "stdout",
     "output_type": "stream",
     "text": [
      "✔️ 'Simulation' completed!\n",
      "\n",
      "E[R] = 577.09\n",
      "\n",
      "\n",
      "---------------------------------\n",
      "--- Currently at treshold: 59 ---\n",
      "---------------------------------\n",
      "⌛ Creating task objects...\n"
     ]
    },
    {
     "name": "stderr",
     "output_type": "stream",
     "text": [
      "2329133it [01:39, 23429.06it/s]\n"
     ]
    },
    {
     "name": "stdout",
     "output_type": "stream",
     "text": [
      "✔️ Objects created!\n",
      "\n",
      "⌛ Running the 'simulation'...\n"
     ]
    },
    {
     "name": "stderr",
     "output_type": "stream",
     "text": [
      "100%|██████████| 2329133/2329133 [00:13<00:00, 175937.74it/s]\n"
     ]
    },
    {
     "name": "stdout",
     "output_type": "stream",
     "text": [
      "✔️ 'Simulation' completed!\n",
      "\n",
      "E[R] = 588.52\n",
      "\n",
      "\n",
      "---------------------------------\n",
      "--- Currently at treshold: 60 ---\n",
      "---------------------------------\n",
      "⌛ Creating task objects...\n"
     ]
    },
    {
     "name": "stderr",
     "output_type": "stream",
     "text": [
      "2329133it [01:39, 23384.23it/s]\n"
     ]
    },
    {
     "name": "stdout",
     "output_type": "stream",
     "text": [
      "✔️ Objects created!\n",
      "\n",
      "⌛ Running the 'simulation'...\n"
     ]
    },
    {
     "name": "stderr",
     "output_type": "stream",
     "text": [
      "100%|██████████| 2329133/2329133 [00:13<00:00, 177448.78it/s]\n"
     ]
    },
    {
     "name": "stdout",
     "output_type": "stream",
     "text": [
      "✔️ 'Simulation' completed!\n",
      "\n",
      "E[R] = 610.76\n",
      "\n",
      "\n",
      "---------------------------------\n",
      "--- Currently at treshold: 61 ---\n",
      "---------------------------------\n",
      "⌛ Creating task objects...\n"
     ]
    },
    {
     "name": "stderr",
     "output_type": "stream",
     "text": [
      "2329133it [01:39, 23465.02it/s]\n"
     ]
    },
    {
     "name": "stdout",
     "output_type": "stream",
     "text": [
      "✔️ Objects created!\n",
      "\n",
      "⌛ Running the 'simulation'...\n"
     ]
    },
    {
     "name": "stderr",
     "output_type": "stream",
     "text": [
      "100%|██████████| 2329133/2329133 [00:13<00:00, 177482.05it/s]\n"
     ]
    },
    {
     "name": "stdout",
     "output_type": "stream",
     "text": [
      "✔️ 'Simulation' completed!\n",
      "\n",
      "E[R] = 653.9\n",
      "\n",
      "\n",
      "---------------------------------\n",
      "--- Currently at treshold: 62 ---\n",
      "---------------------------------\n",
      "⌛ Creating task objects...\n"
     ]
    },
    {
     "name": "stderr",
     "output_type": "stream",
     "text": [
      "2329133it [01:39, 23314.09it/s]\n"
     ]
    },
    {
     "name": "stdout",
     "output_type": "stream",
     "text": [
      "✔️ Objects created!\n",
      "\n",
      "⌛ Running the 'simulation'...\n"
     ]
    },
    {
     "name": "stderr",
     "output_type": "stream",
     "text": [
      "100%|██████████| 2329133/2329133 [00:13<00:00, 178776.92it/s]\n"
     ]
    },
    {
     "name": "stdout",
     "output_type": "stream",
     "text": [
      "✔️ 'Simulation' completed!\n",
      "\n",
      "E[R] = 749.48\n",
      "\n",
      "\n",
      "---------------------------------\n",
      "--- Currently at treshold: 63 ---\n",
      "---------------------------------\n",
      "⌛ Creating task objects...\n"
     ]
    },
    {
     "name": "stderr",
     "output_type": "stream",
     "text": [
      "2329133it [01:39, 23526.38it/s]\n"
     ]
    },
    {
     "name": "stdout",
     "output_type": "stream",
     "text": [
      "✔️ Objects created!\n",
      "\n",
      "⌛ Running the 'simulation'...\n"
     ]
    },
    {
     "name": "stderr",
     "output_type": "stream",
     "text": [
      "100%|██████████| 2329133/2329133 [00:13<00:00, 176136.26it/s]\n"
     ]
    },
    {
     "name": "stdout",
     "output_type": "stream",
     "text": [
      "✔️ 'Simulation' completed!\n",
      "\n",
      "E[R] = 1053.56\n",
      "\n",
      "\n",
      "\n",
      "\n",
      "Best combination to use:\n",
      "- (56, 8) --> E[R]=571.171\n",
      "- (57, 7) --> E[R]=571.995\n",
      "- (55, 9) --> E[R]=572.71\n",
      "- (54, 10) --> E[R]=576.458\n",
      "- (58, 6) --> E[R]=577.086\n",
      "- (53, 11) --> E[R]=582.02\n",
      "- (59, 5) --> E[R]=588.519\n",
      "- (52, 12) --> E[R]=589.149\n",
      "- (51, 13) --> E[R]=597.372\n",
      "- (50, 14) --> E[R]=606.696\n",
      "- (60, 4) --> E[R]=610.757\n",
      "- (49, 15) --> E[R]=616.965\n",
      "- (48, 16) --> E[R]=628.089\n",
      "- (47, 17) --> E[R]=639.76\n",
      "- (46, 18) --> E[R]=652.423\n",
      "- (61, 3) --> E[R]=653.896\n",
      "- (45, 19) --> E[R]=665.992\n",
      "- (44, 20) --> E[R]=680.5\n",
      "- (43, 21) --> E[R]=695.997\n",
      "- (42, 22) --> E[R]=712.481\n",
      "- (41, 23) --> E[R]=730.056\n",
      "- (40, 24) --> E[R]=748.75\n",
      "- (62, 2) --> E[R]=749.481\n",
      "- (39, 25) --> E[R]=768.549\n",
      "- (38, 26) --> E[R]=789.388\n",
      "- (37, 27) --> E[R]=811.569\n",
      "- (36, 28) --> E[R]=835.13\n",
      "- (35, 29) --> E[R]=860.346\n",
      "- (34, 30) --> E[R]=887.724\n",
      "- (33, 31) --> E[R]=916.956\n",
      "- (32, 32) --> E[R]=948.388\n",
      "- (31, 33) --> E[R]=981.621\n",
      "- (30, 34) --> E[R]=1017.373\n",
      "- (63, 1) --> E[R]=1053.557\n",
      "- (29, 35) --> E[R]=1055.734\n",
      "- (28, 36) --> E[R]=1096.958\n",
      "- (27, 37) --> E[R]=1141.439\n",
      "- (26, 38) --> E[R]=1189.236\n",
      "- (25, 39) --> E[R]=1240.697\n",
      "- (24, 40) --> E[R]=1296.131\n",
      "- (23, 41) --> E[R]=1357.101\n",
      "- (22, 42) --> E[R]=1423.232\n",
      "- (21, 43) --> E[R]=1496.126\n",
      "- (20, 44) --> E[R]=1575.641\n",
      "- (19, 45) --> E[R]=1663.376\n",
      "- (18, 46) --> E[R]=1761.682\n",
      "- (17, 47) --> E[R]=1872.172\n",
      "- (16, 48) --> E[R]=1996.492\n",
      "- (15, 49) --> E[R]=2138.637\n",
      "- (14, 50) --> E[R]=2301.71\n",
      "- (13, 51) --> E[R]=2490.518\n",
      "- (12, 52) --> E[R]=2710.99\n",
      "- (11, 53) --> E[R]=2970.87\n",
      "- (10, 54) --> E[R]=3276.268\n",
      "- (9, 55) --> E[R]=3653.885\n",
      "- (8, 56) --> E[R]=4125.317\n",
      "- (7, 57) --> E[R]=4736.421\n",
      "- (6, 58) --> E[R]=5558.04\n",
      "- (5, 59) --> E[R]=6721.737\n",
      "- (4, 60) --> E[R]=8464.504\n",
      "- (3, 61) --> E[R]=11370.421\n",
      "- (2, 62) --> E[R]=17141.444\n",
      "- (1, 63) --> E[R]=34402.463\n"
     ]
    }
   ],
   "source": [
    "def LWL(task, servers, treshold):\n",
    "    \n",
    "    min_workload = float('inf')\n",
    "    selected_server = None\n",
    "\n",
    "    if task.n_tasks <= 10:\n",
    "        idx_server = min(range(treshold), key=lambda i: servers[i].workload)\n",
    "        selected_server = servers[idx_server]\n",
    "    else:\n",
    "        idx_server = min(range(treshold, 64), key=lambda i: servers[i].workload)\n",
    "        selected_server = servers[idx_server]\n",
    "\n",
    "    selected_server.assign_task(task)\n",
    "\n",
    "# sub_data = data.head(100_000)\n",
    "# simulation(sub_data, N)\n",
    "\n",
    "tresholds = np.arange(1, 64)\n",
    "R_dict = dict()\n",
    "\n",
    "for treshold in tresholds:\n",
    "    print('-' * 33)\n",
    "    print(f'--- Currently at treshold: {treshold} ---')\n",
    "    print('-' * 33)\n",
    "    simulation(data, N, treshold)\n",
    "    rows = []\n",
    "    for task in tasks:\n",
    "        new_row = vars(task)\n",
    "        row = {key: val for key, val in new_row.items()}\n",
    "        rows.append(row)\n",
    "\n",
    "    df_tasks = pd.DataFrame(rows)\n",
    "    df_tasks['final_time'] = df_tasks['ta'] + df_tasks['end_time']\n",
    "\n",
    "    stats_df = df_tasks.groupby('jid').agg({'ta': 'min', 'final_time': 'max', 'X': 'sum'})\n",
    "    stats_df = stats_df.rename(columns={'ta': 'min_ta', 'final_time': 'max_ta_end_time', 'X': 'tot_job_X'})\n",
    "    stats_df['R'] = stats_df['max_ta_end_time'] - stats_df['min_ta']\n",
    "    stats_df = stats_df.reset_index()\n",
    "    R_dict[treshold] = stats_df['R'].mean()\n",
    "    print(f'\\nE[R] = {round(stats_df[\"R\"].mean(), 2)}')\n",
    "    print('\\n')\n",
    "    \n",
    "\n",
    "print('\\n\\nBest combination to use:')\n",
    "R_dict_sorted = dict(sorted(R_dict.items(), key=lambda x: x[1]))\n",
    "for key, value in R_dict_sorted.items():\n",
    "    print(f'- ({key}, {64-key}) --> E[R]={round(value, 3)}')"
   ]
  },
  {
   "attachments": {},
   "cell_type": "markdown",
   "metadata": {},
   "source": [
    "### Saving the results and create a plot"
   ]
  },
  {
   "cell_type": "code",
   "execution_count": 10,
   "metadata": {},
   "outputs": [
    {
     "data": {
      "text/html": [
       "<div>\n",
       "<style scoped>\n",
       "    .dataframe tbody tr th:only-of-type {\n",
       "        vertical-align: middle;\n",
       "    }\n",
       "\n",
       "    .dataframe tbody tr th {\n",
       "        vertical-align: top;\n",
       "    }\n",
       "\n",
       "    .dataframe thead th {\n",
       "        text-align: right;\n",
       "    }\n",
       "</style>\n",
       "<table border=\"1\" class=\"dataframe\">\n",
       "  <thead>\n",
       "    <tr style=\"text-align: right;\">\n",
       "      <th></th>\n",
       "      <th>n_tasks1</th>\n",
       "      <th>n_tasks2</th>\n",
       "      <th>n_tasks5</th>\n",
       "      <th>n_tasks10</th>\n",
       "    </tr>\n",
       "  </thead>\n",
       "  <tbody>\n",
       "    <tr>\n",
       "      <th>0</th>\n",
       "      <td>15871.723</td>\n",
       "      <td>17307.945</td>\n",
       "      <td>24156.961</td>\n",
       "      <td>34402.463</td>\n",
       "    </tr>\n",
       "    <tr>\n",
       "      <th>1</th>\n",
       "      <td>7783.105</td>\n",
       "      <td>8501.642</td>\n",
       "      <td>11966.766</td>\n",
       "      <td>17141.444</td>\n",
       "    </tr>\n",
       "    <tr>\n",
       "      <th>2</th>\n",
       "      <td>5015.806</td>\n",
       "      <td>5501.522</td>\n",
       "      <td>7872.474</td>\n",
       "      <td>11370.421</td>\n",
       "    </tr>\n",
       "    <tr>\n",
       "      <th>3</th>\n",
       "      <td>3679.877</td>\n",
       "      <td>4033.975</td>\n",
       "      <td>5825.179</td>\n",
       "      <td>8464.504</td>\n",
       "    </tr>\n",
       "    <tr>\n",
       "      <th>4</th>\n",
       "      <td>2899.503</td>\n",
       "      <td>3176.661</td>\n",
       "      <td>4601.437</td>\n",
       "      <td>6721.737</td>\n",
       "    </tr>\n",
       "  </tbody>\n",
       "</table>\n",
       "</div>"
      ],
      "text/plain": [
       "    n_tasks1   n_tasks2   n_tasks5  n_tasks10\n",
       "0  15871.723  17307.945  24156.961  34402.463\n",
       "1   7783.105   8501.642  11966.766  17141.444\n",
       "2   5015.806   5501.522   7872.474  11370.421\n",
       "3   3679.877   4033.975   5825.179   8464.504\n",
       "4   2899.503   3176.661   4601.437   6721.737"
      ]
     },
     "execution_count": 10,
     "metadata": {},
     "output_type": "execute_result"
    }
   ],
   "source": [
    "import pandas as pd\n",
    "\n",
    "n_tasks1 = [15871.723, 7783.105, 5015.806, 3679.877, 2899.503,\n",
    "            2398.936, 2037.555, 1759.634, 1547.176, 1381.777,\n",
    "            1248.387, 1134.181, 1038.315, 957.632, 888.358,\n",
    "            828.539, 776.319, 730.335, 689.206, 652.882,\n",
    "            620.37, 591.068, 564.78, 540.97, 519.557,\n",
    "            500.257, 482.902, 467.237, 453.043, 440.225,\n",
    "            428.75, 418.388, 409.155, 400.859, 393.46,\n",
    "            386.993, 381.397, 376.698, 372.977, 370.119, \n",
    "            368.082, 366.933, 366.664, 367.364, 368.858,\n",
    "            371.571, 375.694, 381.565, 388.8, 398.113,\n",
    "            409.944, 424.827, 443.423, 466.763, 495.259,\n",
    "            532.767, 582.096, 649.062, 745.452, 890.316,\n",
    "            1134.286, 1625.759, 3104.999]\n",
    "\n",
    "n_tasks2 = [17307.945, 8501.642, 5501.522, 4033.975, 3176.661,\n",
    "            2625.406, 2228.826, 1926.324, 1694.81, 1512.965,\n",
    "            1365.282, 1239.054, 1132.891, 1043.072, 966.166, \n",
    "            899.243, 840.894, 789.754, 744.034, 703.185,\n",
    "            666.564, 633.625, 603.797, 576.726, 552.185,\n",
    "            529.796, 509.42, 490.889, 473.978, 458.505,\n",
    "            444.408, 431.579, 419.827, 409.044, 399.2,\n",
    "            390.207, 382.1, 374.806, 368.303, 362.603,\n",
    "            357.647, 353.392, 349.863, 347.133, 345.042,\n",
    "            343.867, 343.744, 344.865, 346.957, 350.499,\n",
    "            355.737, 363.045, 372.777, 385.616, 401.767,\n",
    "            423.72, 453.248, 494.066, 553.685, 644.12,\n",
    "            797.598, 1108.316, 2046.637]\n",
    "\n",
    "n_tasks5 = [24156.961, 11966.766, 7872.474, 5825.179, 4601.437,\n",
    "            3798.454, 3229.277, 2803.22, 2475.558, 2215.215,\n",
    "            2003.538, 1824.928, 1672.907, 1543.988, 1431.588,\n",
    "            1333.981, 1247.576, 1171.638, 1104.452, 1044.213,\n",
    "            989.93, 940.856, 896.815, 856.591, 819.798,\n",
    "            786.065, 755.187, 726.56, 700.297, 675.752,\n",
    "            652.915, 631.777, 612.21, 593.982, 576.942,\n",
    "            561.146, 546.502, 532.912, 520.357, 508.665,\n",
    "            497.913, 488.031, 479.046, 470.907, 463.43, \n",
    "\n",
    "            456.749, 450.968, 446.345, 442.494, 439.719,\n",
    "            438.193, 438.317, 440.306, 444.634, 450.866,\n",
    "            461.067, 476.418, 499.042, 534.122, 588.849,\n",
    "            684.488, 881.84, 1484.277]\n",
    "\n",
    "n_tasks10 = [34402.463, 17141.444, 11370.421, 8464.504, 6721.737,\n",
    "             5558.04, 4736.421, 4125.317, 3653.885, 3276.268,\n",
    "             2970.87, 2710.99, 2490.518, 2301.71, 2138.637, \n",
    "             1996.492, 1872.172, 1761.682, 1663.376, 1575.641,\n",
    "             1496.126, 1423.232, 1357.101, 1296.131, 1240.697,\n",
    "             1189.236, 1141.439, 1096.958, 1055.734, 1017.373,\n",
    "             981.621, 948.388, 916.956, 887.724, 860.346,\n",
    "             835.13, 811.569, 789.388, 768.549, 748.75,\n",
    "             730.056, 712.481, 695.997, 680.5, 665.992,\n",
    "             652.423, 639.76, 628.089, 616.965, 606.696,\n",
    "             597.372, 589.149, 582.02, 576.458, 572.71,\n",
    "             571.171, 571.995, 577.086, 588.519, 610.757,\n",
    "             653.896, 749.481, 1053.557]\n",
    "\n",
    "results = pd.DataFrame({'n_tasks1': n_tasks1, \n",
    "                       'n_tasks2': n_tasks2,\n",
    "                       'n_tasks5': n_tasks5,\n",
    "                       'n_tasks10': n_tasks10})\n",
    "results.head()"
   ]
  },
  {
   "cell_type": "code",
   "execution_count": null,
   "metadata": {},
   "outputs": [],
   "source": []
  }
 ],
 "metadata": {
  "kernelspec": {
   "display_name": "Python 3",
   "language": "python",
   "name": "python3"
  },
  "language_info": {
   "codemirror_mode": {
    "name": "ipython",
    "version": 3
   },
   "file_extension": ".py",
   "mimetype": "text/x-python",
   "name": "python",
   "nbconvert_exporter": "python",
   "pygments_lexer": "ipython3",
   "version": "3.10.4"
  },
  "orig_nbformat": 4
 },
 "nbformat": 4,
 "nbformat_minor": 2
}
